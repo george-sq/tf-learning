{
 "cells": [
  {
   "cell_type": "markdown",
   "metadata": {},
   "source": [
    "# 回归(regression)问题"
   ]
  },
  {
   "cell_type": "code",
   "execution_count": 1,
   "metadata": {
    "execution": {
     "iopub.execute_input": "2020-06-02T15:23:07.323067Z",
     "iopub.status.busy": "2020-06-02T15:23:07.322761Z",
     "iopub.status.idle": "2020-06-02T15:23:09.501056Z",
     "shell.execute_reply": "2020-06-02T15:23:09.500339Z",
     "shell.execute_reply.started": "2020-06-02T15:23:07.323009Z"
    }
   },
   "outputs": [
    {
     "name": "stdout",
     "output_type": "stream",
     "text": [
      "1.15.0\n"
     ]
    }
   ],
   "source": [
    "import pathlib\n",
    "\n",
    "import matplotlib.pyplot as plt\n",
    "import pandas as pd\n",
    "import seaborn as sns\n",
    "\n",
    "import tensorflow as tf\n",
    "\n",
    "from tensorflow import keras\n",
    "from tensorflow.keras import layers\n",
    "\n",
    "print(tf.__version__)"
   ]
  },
  {
   "cell_type": "code",
   "execution_count": 2,
   "metadata": {
    "execution": {
     "iopub.execute_input": "2020-06-02T15:23:09.502974Z",
     "iopub.status.busy": "2020-06-02T15:23:09.502743Z",
     "iopub.status.idle": "2020-06-02T15:23:09.509289Z",
     "shell.execute_reply": "2020-06-02T15:23:09.508664Z",
     "shell.execute_reply.started": "2020-06-02T15:23:09.502929Z"
    }
   },
   "outputs": [
    {
     "data": {
      "text/plain": [
       "'/home/sq/.keras/datasets/auto-mpg.data'"
      ]
     },
     "execution_count": 2,
     "metadata": {},
     "output_type": "execute_result"
    }
   ],
   "source": [
    "# 使用经典的 Auto MPG 数据集，构建了一个用来预测70年代末到80年代初汽车燃油效率的模型。\n",
    "# 训练数据为那个时期的汽车描述。这个描述包含：气缸数，排量，马力以及重量。\n",
    "dataset_path = keras.utils.get_file(\"auto-mpg.data\", \"http://archive.ics.uci.edu/ml/machine-learning-databases/auto-mpg/auto-mpg.data\")\n",
    "dataset_path"
   ]
  },
  {
   "cell_type": "code",
   "execution_count": 3,
   "metadata": {
    "execution": {
     "iopub.execute_input": "2020-06-02T15:23:09.510668Z",
     "iopub.status.busy": "2020-06-02T15:23:09.510376Z",
     "iopub.status.idle": "2020-06-02T15:23:09.529226Z",
     "shell.execute_reply": "2020-06-02T15:23:09.528628Z",
     "shell.execute_reply.started": "2020-06-02T15:23:09.510553Z"
    }
   },
   "outputs": [
    {
     "data": {
      "text/html": [
       "<div>\n",
       "<style scoped>\n",
       "    .dataframe tbody tr th:only-of-type {\n",
       "        vertical-align: middle;\n",
       "    }\n",
       "\n",
       "    .dataframe tbody tr th {\n",
       "        vertical-align: top;\n",
       "    }\n",
       "\n",
       "    .dataframe thead th {\n",
       "        text-align: right;\n",
       "    }\n",
       "</style>\n",
       "<table border=\"1\" class=\"dataframe\">\n",
       "  <thead>\n",
       "    <tr style=\"text-align: right;\">\n",
       "      <th></th>\n",
       "      <th>18.0</th>\n",
       "      <th>8</th>\n",
       "      <th>307.0</th>\n",
       "      <th>130.0</th>\n",
       "      <th>3504.</th>\n",
       "      <th>12.0</th>\n",
       "      <th>70</th>\n",
       "      <th>1</th>\n",
       "    </tr>\n",
       "  </thead>\n",
       "  <tbody>\n",
       "    <tr>\n",
       "      <th>0</th>\n",
       "      <td>15.0</td>\n",
       "      <td>8</td>\n",
       "      <td>350.0</td>\n",
       "      <td>165.0</td>\n",
       "      <td>3693.0</td>\n",
       "      <td>11.5</td>\n",
       "      <td>70</td>\n",
       "      <td>1</td>\n",
       "    </tr>\n",
       "    <tr>\n",
       "      <th>1</th>\n",
       "      <td>18.0</td>\n",
       "      <td>8</td>\n",
       "      <td>318.0</td>\n",
       "      <td>150.0</td>\n",
       "      <td>3436.0</td>\n",
       "      <td>11.0</td>\n",
       "      <td>70</td>\n",
       "      <td>1</td>\n",
       "    </tr>\n",
       "    <tr>\n",
       "      <th>2</th>\n",
       "      <td>16.0</td>\n",
       "      <td>8</td>\n",
       "      <td>304.0</td>\n",
       "      <td>150.0</td>\n",
       "      <td>3433.0</td>\n",
       "      <td>12.0</td>\n",
       "      <td>70</td>\n",
       "      <td>1</td>\n",
       "    </tr>\n",
       "    <tr>\n",
       "      <th>3</th>\n",
       "      <td>17.0</td>\n",
       "      <td>8</td>\n",
       "      <td>302.0</td>\n",
       "      <td>140.0</td>\n",
       "      <td>3449.0</td>\n",
       "      <td>10.5</td>\n",
       "      <td>70</td>\n",
       "      <td>1</td>\n",
       "    </tr>\n",
       "    <tr>\n",
       "      <th>4</th>\n",
       "      <td>15.0</td>\n",
       "      <td>8</td>\n",
       "      <td>429.0</td>\n",
       "      <td>198.0</td>\n",
       "      <td>4341.0</td>\n",
       "      <td>10.0</td>\n",
       "      <td>70</td>\n",
       "      <td>1</td>\n",
       "    </tr>\n",
       "  </tbody>\n",
       "</table>\n",
       "</div>"
      ],
      "text/plain": [
       "   18.0  8  307.0  130.0   3504.  12.0  70  1\n",
       "0  15.0  8  350.0  165.0  3693.0  11.5  70  1\n",
       "1  18.0  8  318.0  150.0  3436.0  11.0  70  1\n",
       "2  16.0  8  304.0  150.0  3433.0  12.0  70  1\n",
       "3  17.0  8  302.0  140.0  3449.0  10.5  70  1\n",
       "4  15.0  8  429.0  198.0  4341.0  10.0  70  1"
      ]
     },
     "execution_count": 3,
     "metadata": {},
     "output_type": "execute_result"
    }
   ],
   "source": [
    "raw_dataset = pd.read_csv(dataset_path, \n",
    "                          na_values=\"?\", \n",
    "                          comment='\\t', \n",
    "                          sep=\" \", \n",
    "                          skipinitialspace=True)\n",
    "# shape = (398, 8)\n",
    "raw_dataset.head()"
   ]
  },
  {
   "cell_type": "code",
   "execution_count": 4,
   "metadata": {
    "execution": {
     "iopub.execute_input": "2020-06-02T15:23:09.530433Z",
     "iopub.status.busy": "2020-06-02T15:23:09.530129Z",
     "iopub.status.idle": "2020-06-02T15:23:09.543712Z",
     "shell.execute_reply": "2020-06-02T15:23:09.543119Z",
     "shell.execute_reply.started": "2020-06-02T15:23:09.530324Z"
    }
   },
   "outputs": [
    {
     "data": {
      "text/html": [
       "<div>\n",
       "<style scoped>\n",
       "    .dataframe tbody tr th:only-of-type {\n",
       "        vertical-align: middle;\n",
       "    }\n",
       "\n",
       "    .dataframe tbody tr th {\n",
       "        vertical-align: top;\n",
       "    }\n",
       "\n",
       "    .dataframe thead th {\n",
       "        text-align: right;\n",
       "    }\n",
       "</style>\n",
       "<table border=\"1\" class=\"dataframe\">\n",
       "  <thead>\n",
       "    <tr style=\"text-align: right;\">\n",
       "      <th></th>\n",
       "      <th>燃油效率(MPG)</th>\n",
       "      <th>气缸数(Cylinders)</th>\n",
       "      <th>排量(Displacement)</th>\n",
       "      <th>马力(Horsepower)</th>\n",
       "      <th>重量(Weight)</th>\n",
       "      <th>加速度(Acceleration)</th>\n",
       "      <th>年款(Model Year)</th>\n",
       "      <th>产地(Origin)</th>\n",
       "    </tr>\n",
       "  </thead>\n",
       "  <tbody>\n",
       "    <tr>\n",
       "      <th>392</th>\n",
       "      <td>27.0</td>\n",
       "      <td>4</td>\n",
       "      <td>140.0</td>\n",
       "      <td>86.0</td>\n",
       "      <td>2790.0</td>\n",
       "      <td>15.6</td>\n",
       "      <td>82</td>\n",
       "      <td>1</td>\n",
       "    </tr>\n",
       "    <tr>\n",
       "      <th>393</th>\n",
       "      <td>44.0</td>\n",
       "      <td>4</td>\n",
       "      <td>97.0</td>\n",
       "      <td>52.0</td>\n",
       "      <td>2130.0</td>\n",
       "      <td>24.6</td>\n",
       "      <td>82</td>\n",
       "      <td>2</td>\n",
       "    </tr>\n",
       "    <tr>\n",
       "      <th>394</th>\n",
       "      <td>32.0</td>\n",
       "      <td>4</td>\n",
       "      <td>135.0</td>\n",
       "      <td>84.0</td>\n",
       "      <td>2295.0</td>\n",
       "      <td>11.6</td>\n",
       "      <td>82</td>\n",
       "      <td>1</td>\n",
       "    </tr>\n",
       "    <tr>\n",
       "      <th>395</th>\n",
       "      <td>28.0</td>\n",
       "      <td>4</td>\n",
       "      <td>120.0</td>\n",
       "      <td>79.0</td>\n",
       "      <td>2625.0</td>\n",
       "      <td>18.6</td>\n",
       "      <td>82</td>\n",
       "      <td>1</td>\n",
       "    </tr>\n",
       "    <tr>\n",
       "      <th>396</th>\n",
       "      <td>31.0</td>\n",
       "      <td>4</td>\n",
       "      <td>119.0</td>\n",
       "      <td>82.0</td>\n",
       "      <td>2720.0</td>\n",
       "      <td>19.4</td>\n",
       "      <td>82</td>\n",
       "      <td>1</td>\n",
       "    </tr>\n",
       "  </tbody>\n",
       "</table>\n",
       "</div>"
      ],
      "text/plain": [
       "     燃油效率(MPG)  气缸数(Cylinders)  排量(Displacement)  马力(Horsepower)  重量(Weight)  \\\n",
       "392       27.0               4             140.0            86.0      2790.0   \n",
       "393       44.0               4              97.0            52.0      2130.0   \n",
       "394       32.0               4             135.0            84.0      2295.0   \n",
       "395       28.0               4             120.0            79.0      2625.0   \n",
       "396       31.0               4             119.0            82.0      2720.0   \n",
       "\n",
       "     加速度(Acceleration)  年款(Model Year)  产地(Origin)  \n",
       "392               15.6              82           1  \n",
       "393               24.6              82           2  \n",
       "394               11.6              82           1  \n",
       "395               18.6              82           1  \n",
       "396               19.4              82           1  "
      ]
     },
     "execution_count": 4,
     "metadata": {},
     "output_type": "execute_result"
    }
   ],
   "source": [
    "column_names = [\n",
    "    '燃油效率(MPG)',\n",
    "    '气缸数(Cylinders)',\n",
    "    '排量(Displacement)',\n",
    "    '马力(Horsepower)',\n",
    "    '重量(Weight)',\n",
    "    '加速度(Acceleration)', \n",
    "    '年款(Model Year)', \n",
    "    '产地(Origin)'\n",
    "]\n",
    "raw_dataset.columns = column_names\n",
    "# shape = (398, 8)\n",
    "dataset = raw_dataset.copy()\n",
    "dataset.tail()"
   ]
  },
  {
   "cell_type": "code",
   "execution_count": 5,
   "metadata": {
    "execution": {
     "iopub.execute_input": "2020-06-02T15:23:09.545002Z",
     "iopub.status.busy": "2020-06-02T15:23:09.544775Z",
     "iopub.status.idle": "2020-06-02T15:23:09.550706Z",
     "shell.execute_reply": "2020-06-02T15:23:09.550118Z",
     "shell.execute_reply.started": "2020-06-02T15:23:09.544959Z"
    }
   },
   "outputs": [
    {
     "data": {
      "text/plain": [
       "燃油效率(MPG)            0\n",
       "气缸数(Cylinders)       0\n",
       "排量(Displacement)     0\n",
       "马力(Horsepower)       6\n",
       "重量(Weight)           0\n",
       "加速度(Acceleration)    0\n",
       "年款(Model Year)       0\n",
       "产地(Origin)           0\n",
       "dtype: int64"
      ]
     },
     "execution_count": 5,
     "metadata": {},
     "output_type": "execute_result"
    }
   ],
   "source": [
    "# 查看存在列属性缺失的数据行\n",
    "dataset.isna().sum()"
   ]
  },
  {
   "cell_type": "code",
   "execution_count": 6,
   "metadata": {
    "execution": {
     "iopub.execute_input": "2020-06-02T15:23:09.552027Z",
     "iopub.status.busy": "2020-06-02T15:23:09.551581Z",
     "iopub.status.idle": "2020-06-02T15:23:09.558366Z",
     "shell.execute_reply": "2020-06-02T15:23:09.557796Z",
     "shell.execute_reply.started": "2020-06-02T15:23:09.551923Z"
    }
   },
   "outputs": [
    {
     "data": {
      "text/plain": [
       "(391, 8)"
      ]
     },
     "execution_count": 6,
     "metadata": {},
     "output_type": "execute_result"
    }
   ],
   "source": [
    "# 为了保证这个初始示例的简单性，删除这些行。\n",
    "dataset = dataset.dropna()\n",
    "dataset.shape"
   ]
  },
  {
   "cell_type": "code",
   "execution_count": 7,
   "metadata": {
    "execution": {
     "iopub.execute_input": "2020-06-02T15:23:09.559670Z",
     "iopub.status.busy": "2020-06-02T15:23:09.559355Z",
     "iopub.status.idle": "2020-06-02T15:23:09.565651Z",
     "shell.execute_reply": "2020-06-02T15:23:09.565069Z",
     "shell.execute_reply.started": "2020-06-02T15:23:09.559538Z"
    }
   },
   "outputs": [
    {
     "data": {
      "text/plain": [
       "(0      1\n",
       " 1      1\n",
       " 2      1\n",
       " 3      1\n",
       " 4      1\n",
       "       ..\n",
       " 392    1\n",
       " 393    2\n",
       " 394    1\n",
       " 395    1\n",
       " 396    1\n",
       " Name: 产地(Origin), Length: 391, dtype: int64, pandas.core.series.Series)"
      ]
     },
     "execution_count": 7,
     "metadata": {},
     "output_type": "execute_result"
    }
   ],
   "source": [
    "# \"Origin\" 列实际上代表分类，而不仅仅是一个数字。所以把它转换为独热码(one-hot), 即分成3列\n",
    "origin = dataset.pop('产地(Origin)')\n",
    "origin, type(origin)"
   ]
  },
  {
   "cell_type": "code",
   "execution_count": 8,
   "metadata": {
    "execution": {
     "iopub.execute_input": "2020-06-02T15:23:09.568010Z",
     "iopub.status.busy": "2020-06-02T15:23:09.567724Z",
     "iopub.status.idle": "2020-06-02T15:23:09.586019Z",
     "shell.execute_reply": "2020-06-02T15:23:09.585521Z",
     "shell.execute_reply.started": "2020-06-02T15:23:09.567906Z"
    }
   },
   "outputs": [
    {
     "data": {
      "text/html": [
       "<div>\n",
       "<style scoped>\n",
       "    .dataframe tbody tr th:only-of-type {\n",
       "        vertical-align: middle;\n",
       "    }\n",
       "\n",
       "    .dataframe tbody tr th {\n",
       "        vertical-align: top;\n",
       "    }\n",
       "\n",
       "    .dataframe thead th {\n",
       "        text-align: right;\n",
       "    }\n",
       "</style>\n",
       "<table border=\"1\" class=\"dataframe\">\n",
       "  <thead>\n",
       "    <tr style=\"text-align: right;\">\n",
       "      <th></th>\n",
       "      <th>燃油效率(MPG)</th>\n",
       "      <th>气缸数(Cylinders)</th>\n",
       "      <th>排量(Displacement)</th>\n",
       "      <th>马力(Horsepower)</th>\n",
       "      <th>重量(Weight)</th>\n",
       "      <th>加速度(Acceleration)</th>\n",
       "      <th>年款(Model Year)</th>\n",
       "      <th>USA</th>\n",
       "      <th>Europe</th>\n",
       "      <th>Japan</th>\n",
       "    </tr>\n",
       "  </thead>\n",
       "  <tbody>\n",
       "    <tr>\n",
       "      <th>392</th>\n",
       "      <td>27.0</td>\n",
       "      <td>4</td>\n",
       "      <td>140.0</td>\n",
       "      <td>86.0</td>\n",
       "      <td>2790.0</td>\n",
       "      <td>15.6</td>\n",
       "      <td>82</td>\n",
       "      <td>1.0</td>\n",
       "      <td>0.0</td>\n",
       "      <td>0.0</td>\n",
       "    </tr>\n",
       "    <tr>\n",
       "      <th>393</th>\n",
       "      <td>44.0</td>\n",
       "      <td>4</td>\n",
       "      <td>97.0</td>\n",
       "      <td>52.0</td>\n",
       "      <td>2130.0</td>\n",
       "      <td>24.6</td>\n",
       "      <td>82</td>\n",
       "      <td>0.0</td>\n",
       "      <td>1.0</td>\n",
       "      <td>0.0</td>\n",
       "    </tr>\n",
       "    <tr>\n",
       "      <th>394</th>\n",
       "      <td>32.0</td>\n",
       "      <td>4</td>\n",
       "      <td>135.0</td>\n",
       "      <td>84.0</td>\n",
       "      <td>2295.0</td>\n",
       "      <td>11.6</td>\n",
       "      <td>82</td>\n",
       "      <td>1.0</td>\n",
       "      <td>0.0</td>\n",
       "      <td>0.0</td>\n",
       "    </tr>\n",
       "    <tr>\n",
       "      <th>395</th>\n",
       "      <td>28.0</td>\n",
       "      <td>4</td>\n",
       "      <td>120.0</td>\n",
       "      <td>79.0</td>\n",
       "      <td>2625.0</td>\n",
       "      <td>18.6</td>\n",
       "      <td>82</td>\n",
       "      <td>1.0</td>\n",
       "      <td>0.0</td>\n",
       "      <td>0.0</td>\n",
       "    </tr>\n",
       "    <tr>\n",
       "      <th>396</th>\n",
       "      <td>31.0</td>\n",
       "      <td>4</td>\n",
       "      <td>119.0</td>\n",
       "      <td>82.0</td>\n",
       "      <td>2720.0</td>\n",
       "      <td>19.4</td>\n",
       "      <td>82</td>\n",
       "      <td>1.0</td>\n",
       "      <td>0.0</td>\n",
       "      <td>0.0</td>\n",
       "    </tr>\n",
       "  </tbody>\n",
       "</table>\n",
       "</div>"
      ],
      "text/plain": [
       "     燃油效率(MPG)  气缸数(Cylinders)  排量(Displacement)  马力(Horsepower)  重量(Weight)  \\\n",
       "392       27.0               4             140.0            86.0      2790.0   \n",
       "393       44.0               4              97.0            52.0      2130.0   \n",
       "394       32.0               4             135.0            84.0      2295.0   \n",
       "395       28.0               4             120.0            79.0      2625.0   \n",
       "396       31.0               4             119.0            82.0      2720.0   \n",
       "\n",
       "     加速度(Acceleration)  年款(Model Year)  USA  Europe  Japan  \n",
       "392               15.6              82  1.0     0.0    0.0  \n",
       "393               24.6              82  0.0     1.0    0.0  \n",
       "394               11.6              82  1.0     0.0    0.0  \n",
       "395               18.6              82  1.0     0.0    0.0  \n",
       "396               19.4              82  1.0     0.0    0.0  "
      ]
     },
     "execution_count": 8,
     "metadata": {},
     "output_type": "execute_result"
    }
   ],
   "source": [
    "dataset['USA'] = (origin == 1) * 1.0\n",
    "dataset['Europe'] = (origin == 2) * 1.0\n",
    "dataset['Japan'] = (origin == 3) * 1.0\n",
    "dataset.tail()"
   ]
  },
  {
   "cell_type": "code",
   "execution_count": 9,
   "metadata": {
    "execution": {
     "iopub.execute_input": "2020-06-02T15:23:09.587393Z",
     "iopub.status.busy": "2020-06-02T15:23:09.587132Z",
     "iopub.status.idle": "2020-06-02T15:23:09.593619Z",
     "shell.execute_reply": "2020-06-02T15:23:09.593081Z",
     "shell.execute_reply.started": "2020-06-02T15:23:09.587288Z"
    }
   },
   "outputs": [
    {
     "name": "stdout",
     "output_type": "stream",
     "text": [
      "train dataset shape: (313, 10)\n",
      "test dataset shape: (78, 10)\n"
     ]
    }
   ],
   "source": [
    "# 拆分 训练集 和 测试集\n",
    "train_dataset = dataset.sample(frac=0.8, random_state=0)\n",
    "test_dataset = dataset.drop(train_dataset.index)\n",
    "print(f\"train dataset shape: {train_dataset.shape}\")\n",
    "print(f\"test dataset shape: {test_dataset.shape}\")"
   ]
  },
  {
   "cell_type": "code",
   "execution_count": 10,
   "metadata": {
    "execution": {
     "iopub.execute_input": "2020-06-02T15:23:09.594667Z",
     "iopub.status.busy": "2020-06-02T15:23:09.594409Z",
     "iopub.status.idle": "2020-06-02T15:23:13.232355Z",
     "shell.execute_reply": "2020-06-02T15:23:13.231655Z",
     "shell.execute_reply.started": "2020-06-02T15:23:09.594627Z"
    }
   },
   "outputs": [
    {
     "name": "stderr",
     "output_type": "stream",
     "text": [
      "/home/sq/miniconda3/envs/nlpqs/lib/python3.7/site-packages/matplotlib/backends/backend_agg.py:211: RuntimeWarning: Glyph 29123 missing from current font.\n",
      "  font.set_text(s, 0.0, flags=flags)\n",
      "/home/sq/miniconda3/envs/nlpqs/lib/python3.7/site-packages/matplotlib/backends/backend_agg.py:211: RuntimeWarning: Glyph 27833 missing from current font.\n",
      "  font.set_text(s, 0.0, flags=flags)\n",
      "/home/sq/miniconda3/envs/nlpqs/lib/python3.7/site-packages/matplotlib/backends/backend_agg.py:211: RuntimeWarning: Glyph 25928 missing from current font.\n",
      "  font.set_text(s, 0.0, flags=flags)\n",
      "/home/sq/miniconda3/envs/nlpqs/lib/python3.7/site-packages/matplotlib/backends/backend_agg.py:211: RuntimeWarning: Glyph 29575 missing from current font.\n",
      "  font.set_text(s, 0.0, flags=flags)\n",
      "/home/sq/miniconda3/envs/nlpqs/lib/python3.7/site-packages/matplotlib/backends/backend_agg.py:211: RuntimeWarning: Glyph 27668 missing from current font.\n",
      "  font.set_text(s, 0.0, flags=flags)\n",
      "/home/sq/miniconda3/envs/nlpqs/lib/python3.7/site-packages/matplotlib/backends/backend_agg.py:211: RuntimeWarning: Glyph 32568 missing from current font.\n",
      "  font.set_text(s, 0.0, flags=flags)\n",
      "/home/sq/miniconda3/envs/nlpqs/lib/python3.7/site-packages/matplotlib/backends/backend_agg.py:211: RuntimeWarning: Glyph 25968 missing from current font.\n",
      "  font.set_text(s, 0.0, flags=flags)\n",
      "/home/sq/miniconda3/envs/nlpqs/lib/python3.7/site-packages/matplotlib/backends/backend_agg.py:211: RuntimeWarning: Glyph 25490 missing from current font.\n",
      "  font.set_text(s, 0.0, flags=flags)\n",
      "/home/sq/miniconda3/envs/nlpqs/lib/python3.7/site-packages/matplotlib/backends/backend_agg.py:211: RuntimeWarning: Glyph 37327 missing from current font.\n",
      "  font.set_text(s, 0.0, flags=flags)\n",
      "/home/sq/miniconda3/envs/nlpqs/lib/python3.7/site-packages/matplotlib/backends/backend_agg.py:211: RuntimeWarning: Glyph 37325 missing from current font.\n",
      "  font.set_text(s, 0.0, flags=flags)\n"
     ]
    },
    {
     "data": {
      "text/plain": [
       "<seaborn.axisgrid.PairGrid at 0x7ff94169bbd0>"
      ]
     },
     "execution_count": 10,
     "metadata": {},
     "output_type": "execute_result"
    },
    {
     "name": "stderr",
     "output_type": "stream",
     "text": [
      "/home/sq/miniconda3/envs/nlpqs/lib/python3.7/site-packages/matplotlib/backends/backend_agg.py:180: RuntimeWarning: Glyph 29123 missing from current font.\n",
      "  font.set_text(s, 0, flags=flags)\n",
      "/home/sq/miniconda3/envs/nlpqs/lib/python3.7/site-packages/matplotlib/backends/backend_agg.py:180: RuntimeWarning: Glyph 27833 missing from current font.\n",
      "  font.set_text(s, 0, flags=flags)\n",
      "/home/sq/miniconda3/envs/nlpqs/lib/python3.7/site-packages/matplotlib/backends/backend_agg.py:180: RuntimeWarning: Glyph 25928 missing from current font.\n",
      "  font.set_text(s, 0, flags=flags)\n",
      "/home/sq/miniconda3/envs/nlpqs/lib/python3.7/site-packages/matplotlib/backends/backend_agg.py:180: RuntimeWarning: Glyph 29575 missing from current font.\n",
      "  font.set_text(s, 0, flags=flags)\n",
      "/home/sq/miniconda3/envs/nlpqs/lib/python3.7/site-packages/matplotlib/backends/backend_agg.py:180: RuntimeWarning: Glyph 27668 missing from current font.\n",
      "  font.set_text(s, 0, flags=flags)\n",
      "/home/sq/miniconda3/envs/nlpqs/lib/python3.7/site-packages/matplotlib/backends/backend_agg.py:180: RuntimeWarning: Glyph 32568 missing from current font.\n",
      "  font.set_text(s, 0, flags=flags)\n",
      "/home/sq/miniconda3/envs/nlpqs/lib/python3.7/site-packages/matplotlib/backends/backend_agg.py:180: RuntimeWarning: Glyph 25968 missing from current font.\n",
      "  font.set_text(s, 0, flags=flags)\n",
      "/home/sq/miniconda3/envs/nlpqs/lib/python3.7/site-packages/matplotlib/backends/backend_agg.py:180: RuntimeWarning: Glyph 25490 missing from current font.\n",
      "  font.set_text(s, 0, flags=flags)\n",
      "/home/sq/miniconda3/envs/nlpqs/lib/python3.7/site-packages/matplotlib/backends/backend_agg.py:180: RuntimeWarning: Glyph 37327 missing from current font.\n",
      "  font.set_text(s, 0, flags=flags)\n",
      "/home/sq/miniconda3/envs/nlpqs/lib/python3.7/site-packages/matplotlib/backends/backend_agg.py:180: RuntimeWarning: Glyph 37325 missing from current font.\n",
      "  font.set_text(s, 0, flags=flags)\n"
     ]
    },
    {
     "data": {
      "image/png": "[encoded data removed]",
      "text/plain": [
       "<Figure size 720x720 with 20 Axes>"
      ]
     },
     "metadata": {
      "needs_background": "light"
     },
     "output_type": "display_data"
    }
   ],
   "source": [
    "# [\n",
    "#     '燃油效率(MPG)',\n",
    "#     '气缸数(Cylinders)',\n",
    "#     '排量(Displacement)',\n",
    "#     '马力(Horsepower)',\n",
    "#     '重量(Weight)',\n",
    "#     '加速度(Acceleration)', \n",
    "#     '年款(Model Year)', \n",
    "#     '产地(Origin)'\n",
    "# ]\n",
    "l_select_col = [\n",
    "    '燃油效率(MPG)',\n",
    "    '气缸数(Cylinders)',\n",
    "    '排量(Displacement)',\n",
    "    '重量(Weight)',\n",
    "]\n",
    "sns.pairplot(train_dataset[l_select_col], diag_kind=\"kde\")"
   ]
  },
  {
   "cell_type": "code",
   "execution_count": 11,
   "metadata": {
    "execution": {
     "iopub.execute_input": "2020-06-02T15:23:13.233851Z",
     "iopub.status.busy": "2020-06-02T15:23:13.233654Z",
     "iopub.status.idle": "2020-06-02T15:23:13.273502Z",
     "shell.execute_reply": "2020-06-02T15:23:13.272798Z",
     "shell.execute_reply.started": "2020-06-02T15:23:13.233812Z"
    }
   },
   "outputs": [
    {
     "data": {
      "text/html": [
       "<div>\n",
       "<style scoped>\n",
       "    .dataframe tbody tr th:only-of-type {\n",
       "        vertical-align: middle;\n",
       "    }\n",
       "\n",
       "    .dataframe tbody tr th {\n",
       "        vertical-align: top;\n",
       "    }\n",
       "\n",
       "    .dataframe thead th {\n",
       "        text-align: right;\n",
       "    }\n",
       "</style>\n",
       "<table border=\"1\" class=\"dataframe\">\n",
       "  <thead>\n",
       "    <tr style=\"text-align: right;\">\n",
       "      <th></th>\n",
       "      <th>count</th>\n",
       "      <th>mean</th>\n",
       "      <th>std</th>\n",
       "      <th>min</th>\n",
       "      <th>25%</th>\n",
       "      <th>50%</th>\n",
       "      <th>75%</th>\n",
       "      <th>max</th>\n",
       "    </tr>\n",
       "  </thead>\n",
       "  <tbody>\n",
       "    <tr>\n",
       "      <th>气缸数(Cylinders)</th>\n",
       "      <td>313.0</td>\n",
       "      <td>5.498403</td>\n",
       "      <td>1.706181</td>\n",
       "      <td>3.0</td>\n",
       "      <td>4.0</td>\n",
       "      <td>4.0</td>\n",
       "      <td>8.0</td>\n",
       "      <td>8.0</td>\n",
       "    </tr>\n",
       "    <tr>\n",
       "      <th>排量(Displacement)</th>\n",
       "      <td>313.0</td>\n",
       "      <td>197.701278</td>\n",
       "      <td>105.981453</td>\n",
       "      <td>70.0</td>\n",
       "      <td>107.0</td>\n",
       "      <td>151.0</td>\n",
       "      <td>302.0</td>\n",
       "      <td>455.0</td>\n",
       "    </tr>\n",
       "    <tr>\n",
       "      <th>马力(Horsepower)</th>\n",
       "      <td>313.0</td>\n",
       "      <td>105.945687</td>\n",
       "      <td>39.117758</td>\n",
       "      <td>46.0</td>\n",
       "      <td>76.0</td>\n",
       "      <td>95.0</td>\n",
       "      <td>130.0</td>\n",
       "      <td>230.0</td>\n",
       "    </tr>\n",
       "    <tr>\n",
       "      <th>重量(Weight)</th>\n",
       "      <td>313.0</td>\n",
       "      <td>3011.108626</td>\n",
       "      <td>851.750295</td>\n",
       "      <td>1613.0</td>\n",
       "      <td>2255.0</td>\n",
       "      <td>2870.0</td>\n",
       "      <td>3651.0</td>\n",
       "      <td>4997.0</td>\n",
       "    </tr>\n",
       "    <tr>\n",
       "      <th>加速度(Acceleration)</th>\n",
       "      <td>313.0</td>\n",
       "      <td>15.463259</td>\n",
       "      <td>2.707970</td>\n",
       "      <td>8.0</td>\n",
       "      <td>13.7</td>\n",
       "      <td>15.5</td>\n",
       "      <td>17.0</td>\n",
       "      <td>24.8</td>\n",
       "    </tr>\n",
       "    <tr>\n",
       "      <th>年款(Model Year)</th>\n",
       "      <td>313.0</td>\n",
       "      <td>75.910543</td>\n",
       "      <td>3.669650</td>\n",
       "      <td>70.0</td>\n",
       "      <td>73.0</td>\n",
       "      <td>76.0</td>\n",
       "      <td>79.0</td>\n",
       "      <td>82.0</td>\n",
       "    </tr>\n",
       "    <tr>\n",
       "      <th>USA</th>\n",
       "      <td>313.0</td>\n",
       "      <td>0.629393</td>\n",
       "      <td>0.483741</td>\n",
       "      <td>0.0</td>\n",
       "      <td>0.0</td>\n",
       "      <td>1.0</td>\n",
       "      <td>1.0</td>\n",
       "      <td>1.0</td>\n",
       "    </tr>\n",
       "    <tr>\n",
       "      <th>Europe</th>\n",
       "      <td>313.0</td>\n",
       "      <td>0.172524</td>\n",
       "      <td>0.378440</td>\n",
       "      <td>0.0</td>\n",
       "      <td>0.0</td>\n",
       "      <td>0.0</td>\n",
       "      <td>0.0</td>\n",
       "      <td>1.0</td>\n",
       "    </tr>\n",
       "    <tr>\n",
       "      <th>Japan</th>\n",
       "      <td>313.0</td>\n",
       "      <td>0.198083</td>\n",
       "      <td>0.399193</td>\n",
       "      <td>0.0</td>\n",
       "      <td>0.0</td>\n",
       "      <td>0.0</td>\n",
       "      <td>0.0</td>\n",
       "      <td>1.0</td>\n",
       "    </tr>\n",
       "  </tbody>\n",
       "</table>\n",
       "</div>"
      ],
      "text/plain": [
       "                   count         mean         std     min     25%     50%  \\\n",
       "气缸数(Cylinders)     313.0     5.498403    1.706181     3.0     4.0     4.0   \n",
       "排量(Displacement)   313.0   197.701278  105.981453    70.0   107.0   151.0   \n",
       "马力(Horsepower)     313.0   105.945687   39.117758    46.0    76.0    95.0   \n",
       "重量(Weight)         313.0  3011.108626  851.750295  1613.0  2255.0  2870.0   \n",
       "加速度(Acceleration)  313.0    15.463259    2.707970     8.0    13.7    15.5   \n",
       "年款(Model Year)     313.0    75.910543    3.669650    70.0    73.0    76.0   \n",
       "USA                313.0     0.629393    0.483741     0.0     0.0     1.0   \n",
       "Europe             313.0     0.172524    0.378440     0.0     0.0     0.0   \n",
       "Japan              313.0     0.198083    0.399193     0.0     0.0     0.0   \n",
       "\n",
       "                      75%     max  \n",
       "气缸数(Cylinders)        8.0     8.0  \n",
       "排量(Displacement)    302.0   455.0  \n",
       "马力(Horsepower)      130.0   230.0  \n",
       "重量(Weight)         3651.0  4997.0  \n",
       "加速度(Acceleration)    17.0    24.8  \n",
       "年款(Model Year)       79.0    82.0  \n",
       "USA                   1.0     1.0  \n",
       "Europe                0.0     1.0  \n",
       "Japan                 0.0     1.0  "
      ]
     },
     "execution_count": 11,
     "metadata": {},
     "output_type": "execute_result"
    }
   ],
   "source": [
    "# [\n",
    "#     '燃油效率(MPG)',\n",
    "#     '气缸数(Cylinders)',\n",
    "#     '排量(Displacement)',\n",
    "#     '马力(Horsepower)',\n",
    "#     '重量(Weight)',\n",
    "#     '加速度(Acceleration)', \n",
    "#     '年款(Model Year)', \n",
    "#     '产地(Origin)'\n",
    "# ]\n",
    "train_stats = train_dataset.describe()\n",
    "train_stats.pop(\"燃油效率(MPG)\")\n",
    "train_stats = train_stats.transpose()\n",
    "train_stats"
   ]
  },
  {
   "cell_type": "code",
   "execution_count": 12,
   "metadata": {
    "execution": {
     "iopub.execute_input": "2020-06-02T15:23:13.274530Z",
     "iopub.status.busy": "2020-06-02T15:23:13.274347Z",
     "iopub.status.idle": "2020-06-02T15:23:13.278483Z",
     "shell.execute_reply": "2020-06-02T15:23:13.277851Z",
     "shell.execute_reply.started": "2020-06-02T15:23:13.274498Z"
    }
   },
   "outputs": [],
   "source": [
    "train_labels = train_dataset.pop('燃油效率(MPG)')\n",
    "test_labels = test_dataset.pop('燃油效率(MPG)')"
   ]
  },
  {
   "cell_type": "code",
   "execution_count": 13,
   "metadata": {
    "execution": {
     "iopub.execute_input": "2020-06-02T15:23:13.279485Z",
     "iopub.status.busy": "2020-06-02T15:23:13.279276Z",
     "iopub.status.idle": "2020-06-02T15:23:13.303691Z",
     "shell.execute_reply": "2020-06-02T15:23:13.303010Z",
     "shell.execute_reply.started": "2020-06-02T15:23:13.279449Z"
    }
   },
   "outputs": [
    {
     "name": "stdout",
     "output_type": "stream",
     "text": [
      "     气缸数(Cylinders)  排量(Displacement)  马力(Horsepower)  重量(Weight)  \\\n",
      "55        -0.878220         -1.006792       -0.918910   -1.239928   \n",
      "126        0.293988          0.323629       -0.151995   -0.129273   \n",
      "355       -0.878220         -0.846387       -0.791091   -0.776177   \n",
      "177       -0.878220         -0.733159       -0.458761   -0.063526   \n",
      "286        1.466197          1.446467        0.819431    1.108179   \n",
      "\n",
      "     加速度(Acceleration)  年款(Model Year)       USA    Europe     Japan  \n",
      "55            1.859969       -1.338150  0.766127 -0.455882 -0.496208  \n",
      "126           0.198208       -0.520634  0.766127 -0.455882 -0.496208  \n",
      "355           0.493632        1.386905 -1.301096 -0.455882  2.008844  \n",
      "177           0.567488       -0.248128 -1.301096  2.186544 -0.496208  \n",
      "286          -0.835777        0.841894  0.766127 -0.455882 -0.496208  \n",
      "\n",
      "------------------------------------------------------------------------------------------\n",
      "\n",
      "     气缸数(Cylinders)  排量(Displacement)  马力(Horsepower)  重量(Weight)  \\\n",
      "366        -0.87822         -0.808644       -0.458761   -0.476793   \n",
      "368        -0.87822         -0.808644       -0.458761   -0.723344   \n",
      "381        -0.87822         -0.846387       -0.918910   -0.899452   \n",
      "383        -0.87822         -1.006792       -0.995601   -1.228187   \n",
      "395        -0.87822         -0.733159       -0.688835   -0.453312   \n",
      "\n",
      "     加速度(Acceleration)  年款(Model Year)       USA    Europe     Japan  \n",
      "366           1.527617        1.659411  0.766127 -0.455882 -0.496208  \n",
      "368           0.936769        1.659411  0.766127 -0.455882 -0.496208  \n",
      "381           0.530560        1.659411 -1.301096 -0.455882  2.008844  \n",
      "383           0.087424        1.659411 -1.301096 -0.455882  2.008844  \n",
      "395           1.158337        1.659411  0.766127 -0.455882 -0.496208  \n"
     ]
    }
   ],
   "source": [
    "# 归一化 训练集 和 测试集 数据\n",
    "def norm(x):\n",
    "  return (x - train_stats['mean']) / train_stats['std']\n",
    "normed_train_data = norm(train_dataset)\n",
    "normed_test_data = norm(test_dataset)\n",
    "print(normed_train_data.head())\n",
    "print()\n",
    "print(\"---\" * 30)\n",
    "print()\n",
    "print(normed_test_data.tail())"
   ]
  },
  {
   "cell_type": "code",
   "execution_count": 14,
   "metadata": {
    "execution": {
     "iopub.execute_input": "2020-06-02T15:23:13.304710Z",
     "iopub.status.busy": "2020-06-02T15:23:13.304518Z",
     "iopub.status.idle": "2020-06-02T15:23:13.311414Z",
     "shell.execute_reply": "2020-06-02T15:23:13.310792Z",
     "shell.execute_reply.started": "2020-06-02T15:23:13.304675Z"
    }
   },
   "outputs": [
    {
     "name": "stdout",
     "output_type": "stream",
     "text": [
      "Index(['气缸数(Cylinders)', '排量(Displacement)', '马力(Horsepower)', '重量(Weight)',\n",
      "       '加速度(Acceleration)', '年款(Model Year)', 'USA', 'Europe', 'Japan'],\n",
      "      dtype='object')\n",
      "9\n"
     ]
    }
   ],
   "source": [
    "def build_model():\n",
    "    # 设计模型结构\n",
    "    model = keras.Sequential([\n",
    "        layers.Dense(64, activation='relu', input_shape=[len(train_dataset.keys())]),\n",
    "        layers.Dense(64, activation='relu'),\n",
    "        layers.Dense(1)\n",
    "    ])\n",
    "    # 选择优化器\n",
    "    optimizer = keras.optimizers.RMSprop(0.001)\n",
    "    # 配置模型训练参数\n",
    "    model.compile(loss='mse', optimizer=optimizer, metrics=['mae', 'mse'])\n",
    "    return model\n",
    "\n",
    "print(train_dataset.keys())\n",
    "print(len(train_dataset.keys()))"
   ]
  },
  {
   "cell_type": "code",
   "execution_count": 15,
   "metadata": {
    "execution": {
     "iopub.execute_input": "2020-06-02T15:23:13.312430Z",
     "iopub.status.busy": "2020-06-02T15:23:13.312222Z",
     "iopub.status.idle": "2020-06-02T15:23:13.411334Z",
     "shell.execute_reply": "2020-06-02T15:23:13.410633Z",
     "shell.execute_reply.started": "2020-06-02T15:23:13.312389Z"
    }
   },
   "outputs": [
    {
     "name": "stdout",
     "output_type": "stream",
     "text": [
      "WARNING:tensorflow:From /home/sq/miniconda3/envs/nlpqs/lib/python3.7/site-packages/tensorflow_core/python/ops/resource_variable_ops.py:1630: calling BaseResourceVariable.__init__ (from tensorflow.python.ops.resource_variable_ops) with constraint is deprecated and will be removed in a future version.\n",
      "Instructions for updating:\n",
      "If using Keras pass *_constraint arguments to layers.\n",
      "train dataset shape: (313, 9)\n",
      "test dataset shape: (78, 9)\n"
     ]
    }
   ],
   "source": [
    "model = build_model()\n",
    "print(f\"train dataset shape: {normed_train_data.shape}\")\n",
    "print(f\"test dataset shape: {normed_test_data.shape}\")"
   ]
  },
  {
   "cell_type": "code",
   "execution_count": 16,
   "metadata": {
    "execution": {
     "iopub.execute_input": "2020-06-02T15:23:13.412404Z",
     "iopub.status.busy": "2020-06-02T15:23:13.412197Z",
     "iopub.status.idle": "2020-06-02T15:23:13.418562Z",
     "shell.execute_reply": "2020-06-02T15:23:13.417955Z",
     "shell.execute_reply.started": "2020-06-02T15:23:13.412370Z"
    }
   },
   "outputs": [
    {
     "name": "stdout",
     "output_type": "stream",
     "text": [
      "Model: \"sequential\"\n",
      "_________________________________________________________________\n",
      "Layer (type)                 Output Shape              Param #   \n",
      "=================================================================\n",
      "dense (Dense)                (None, 64)                640       \n",
      "_________________________________________________________________\n",
      "dense_1 (Dense)              (None, 64)                4160      \n",
      "_________________________________________________________________\n",
      "dense_2 (Dense)              (None, 1)                 65        \n",
      "=================================================================\n",
      "Total params: 4,865\n",
      "Trainable params: 4,865\n",
      "Non-trainable params: 0\n",
      "_________________________________________________________________\n"
     ]
    }
   ],
   "source": [
    "model.summary()"
   ]
  },
  {
   "cell_type": "code",
   "execution_count": 17,
   "metadata": {
    "execution": {
     "iopub.execute_input": "2020-06-02T15:23:13.419562Z",
     "iopub.status.busy": "2020-06-02T15:23:13.419380Z",
     "iopub.status.idle": "2020-06-02T15:23:19.320222Z",
     "shell.execute_reply": "2020-06-02T15:23:19.318908Z",
     "shell.execute_reply.started": "2020-06-02T15:23:13.419522Z"
    }
   },
   "outputs": [
    {
     "data": {
      "text/plain": [
       "array([[ 0.03643379],\n",
       "       [ 0.06280639],\n",
       "       [ 0.02975245],\n",
       "       [ 0.10751779],\n",
       "       [ 0.49004906],\n",
       "       [-0.1350233 ],\n",
       "       [ 0.14661008],\n",
       "       [ 0.39412102],\n",
       "       [ 0.04438309],\n",
       "       [ 0.02984173]], dtype=float32)"
      ]
     },
     "execution_count": 17,
     "metadata": {},
     "output_type": "execute_result"
    }
   ],
   "source": [
    "# 试用为训练的模型\n",
    "example_batch = normed_train_data[:10]\n",
    "example_result = model.predict(example_batch)\n",
    "example_result"
   ]
  },
  {
   "cell_type": "code",
   "execution_count": 18,
   "metadata": {
    "execution": {
     "iopub.execute_input": "2020-06-02T15:23:19.322681Z",
     "iopub.status.busy": "2020-06-02T15:23:19.322246Z",
     "iopub.status.idle": "2020-06-02T15:24:03.883047Z",
     "shell.execute_reply": "2020-06-02T15:24:03.881735Z",
     "shell.execute_reply.started": "2020-06-02T15:23:19.322601Z"
    }
   },
   "outputs": [
    {
     "name": "stdout",
     "output_type": "stream",
     "text": [
      "\n",
      "\n",
      "* * * * * * * * * * * * * * * * * * * * * * * * * * * * * * * * * * * * * * * * * * * * * * * * * * \n",
      "\n",
      "* * * * * * * * * * * * * * * * * * * * * * * * * * * * * * * * * * * * * * * * * * * * * * * * * * \n",
      "\n",
      "* * * * * * * * * * * * * * * * * * * * * * * * * * * * * * * * * * * * * * * * * * * * * * * * * * \n",
      "\n",
      "* * * * * * * * * * * * * * * * * * * * * * * * * * * * * * * * * * * * * * * * * * * * * * * * * * \n",
      "\n",
      "* * * * * * * * * * * * * * * * * * * * * * * * * * * * * * * * * * * * * * * * * * * * * * * * * * \n",
      "\n",
      "* * * * * * * * * * * * * * * * * * * * * * * * * * * * * * * * * * * * * * * * * * * * * * * * * * \n",
      "\n",
      "* * * * * * * * * * * * * * * * * * * * * * * * * * * * * * * * * * * * * * * * * * * * * * * * * * \n",
      "\n",
      "* * * * * * * * * * * * * * * * * * * * * * * * * * * * * * * * * * * * * * * * * * * * * * * * * * \n",
      "\n",
      "* * * * * * * * * * * * * * * * * * * * * * * * * * * * * * * * * * * * * * * * * * * * * * * * * * \n",
      "\n",
      "* * * * * * * * * * * * * * * * * * * * * * * * * * * * * * * * * * * * * * * * * * * * * * * * * * \n",
      "\n",
      "* * * * * * * * * * * * * * * * * * * * * * * * * * * * * * * * * * * * * * * * * * * * * * * * * * \n",
      "\n",
      "* * * * * * * * * * * * * * * * * * * * * * * * * * * * * * * * * * * * * * * * * * * * * * * * * * \n",
      "\n",
      "* * * * * * * * * * * * * * * * * * * * * * * * * * * * * * * * * * * * * * * * * * * * * * * * * * \n",
      "\n",
      "* * * * * * * * * * * * * * * * * * * * * * * * * * * * * * * * * * * * * * * * * * * * * * * * * * \n",
      "\n",
      "* * * * * * * * * * * * * * * * * * * * * * * * * * * * * * * * * * * * * * * * * * * * * * * * * * \n",
      "\n",
      "* * * * * * * * * * * * * * * * * * * * * * * * * * * * * * * * * * * * * * * * * * * * * * * * * * \n",
      "\n",
      "* * * * * * * * * * * * * * * * * * * * * * * * * * * * * * * * * * * * * * * * * * * * * * * * * * \n",
      "\n",
      "* * * * * * * * * * * * * * * * * * * * * * * * * * * * * * * * * * * * * * * * * * * * * * * * * * \n",
      "\n",
      "* * * * * * * * * * * * * * * * * * * * * * * * * * * * * * * * * * * * * * * * * * * * * * * * * * \n",
      "\n",
      "* * * * * * * * * * * * * * * * * * * * * * * * * * * * * * * * * * * * * * * * * * * * * * * * * * "
     ]
    }
   ],
   "source": [
    "# 通过为每个完成的时期打印一个点来显示训练进度\n",
    "class PrintDot(keras.callbacks.Callback):\n",
    "    def on_epoch_end(self, epoch, logs):\n",
    "        if epoch % 50 == 0: \n",
    "            print('\\n')\n",
    "            pass\n",
    "        print('*', end=' ')\n",
    "        pass\n",
    "    pass\n",
    "\n",
    "num_epoch = 1000\n",
    "history = model.fit(normed_train_data, \n",
    "                    train_labels, \n",
    "                    epochs=num_epoch, \n",
    "                    validation_split=0.2, \n",
    "                    verbose=0, \n",
    "                    callbacks=[PrintDot()])"
   ]
  },
  {
   "cell_type": "code",
   "execution_count": 19,
   "metadata": {
    "execution": {
     "iopub.execute_input": "2020-06-02T15:24:03.885532Z",
     "iopub.status.busy": "2020-06-02T15:24:03.885182Z",
     "iopub.status.idle": "2020-06-02T15:24:03.910278Z",
     "shell.execute_reply": "2020-06-02T15:24:03.909386Z",
     "shell.execute_reply.started": "2020-06-02T15:24:03.885462Z"
    }
   },
   "outputs": [
    {
     "data": {
      "text/html": [
       "<div>\n",
       "<style scoped>\n",
       "    .dataframe tbody tr th:only-of-type {\n",
       "        vertical-align: middle;\n",
       "    }\n",
       "\n",
       "    .dataframe tbody tr th {\n",
       "        vertical-align: top;\n",
       "    }\n",
       "\n",
       "    .dataframe thead th {\n",
       "        text-align: right;\n",
       "    }\n",
       "</style>\n",
       "<table border=\"1\" class=\"dataframe\">\n",
       "  <thead>\n",
       "    <tr style=\"text-align: right;\">\n",
       "      <th></th>\n",
       "      <th>loss</th>\n",
       "      <th>mean_absolute_error</th>\n",
       "      <th>mean_squared_error</th>\n",
       "      <th>val_loss</th>\n",
       "      <th>val_mean_absolute_error</th>\n",
       "      <th>val_mean_squared_error</th>\n",
       "      <th>epoch</th>\n",
       "    </tr>\n",
       "  </thead>\n",
       "  <tbody>\n",
       "    <tr>\n",
       "      <th>995</th>\n",
       "      <td>2.083226</td>\n",
       "      <td>0.917069</td>\n",
       "      <td>2.083226</td>\n",
       "      <td>13.109672</td>\n",
       "      <td>2.208328</td>\n",
       "      <td>13.109673</td>\n",
       "      <td>995</td>\n",
       "    </tr>\n",
       "    <tr>\n",
       "      <th>996</th>\n",
       "      <td>1.772196</td>\n",
       "      <td>0.846257</td>\n",
       "      <td>1.772196</td>\n",
       "      <td>13.052432</td>\n",
       "      <td>2.251672</td>\n",
       "      <td>13.052432</td>\n",
       "      <td>996</td>\n",
       "    </tr>\n",
       "    <tr>\n",
       "      <th>997</th>\n",
       "      <td>2.092477</td>\n",
       "      <td>0.889637</td>\n",
       "      <td>2.092477</td>\n",
       "      <td>12.814334</td>\n",
       "      <td>2.252580</td>\n",
       "      <td>12.814335</td>\n",
       "      <td>997</td>\n",
       "    </tr>\n",
       "    <tr>\n",
       "      <th>998</th>\n",
       "      <td>1.797951</td>\n",
       "      <td>0.832517</td>\n",
       "      <td>1.797951</td>\n",
       "      <td>13.446705</td>\n",
       "      <td>2.310642</td>\n",
       "      <td>13.446705</td>\n",
       "      <td>998</td>\n",
       "    </tr>\n",
       "    <tr>\n",
       "      <th>999</th>\n",
       "      <td>1.850836</td>\n",
       "      <td>0.855799</td>\n",
       "      <td>1.850836</td>\n",
       "      <td>12.884024</td>\n",
       "      <td>2.190824</td>\n",
       "      <td>12.884024</td>\n",
       "      <td>999</td>\n",
       "    </tr>\n",
       "  </tbody>\n",
       "</table>\n",
       "</div>"
      ],
      "text/plain": [
       "         loss  mean_absolute_error  mean_squared_error   val_loss  \\\n",
       "995  2.083226             0.917069            2.083226  13.109672   \n",
       "996  1.772196             0.846257            1.772196  13.052432   \n",
       "997  2.092477             0.889637            2.092477  12.814334   \n",
       "998  1.797951             0.832517            1.797951  13.446705   \n",
       "999  1.850836             0.855799            1.850836  12.884024   \n",
       "\n",
       "     val_mean_absolute_error  val_mean_squared_error  epoch  \n",
       "995                 2.208328               13.109673    995  \n",
       "996                 2.251672               13.052432    996  \n",
       "997                 2.252580               12.814335    997  \n",
       "998                 2.310642               13.446705    998  \n",
       "999                 2.190824               12.884024    999  "
      ]
     },
     "execution_count": 19,
     "metadata": {},
     "output_type": "execute_result"
    }
   ],
   "source": [
    "# 可视化模型训练过程的状态表换\n",
    "hist = pd.DataFrame(history.history)\n",
    "hist['epoch'] = history.epoch\n",
    "hist.tail()"
   ]
  },
  {
   "cell_type": "code",
   "execution_count": 20,
   "metadata": {
    "execution": {
     "iopub.execute_input": "2020-06-02T15:24:03.911695Z",
     "iopub.status.busy": "2020-06-02T15:24:03.911337Z",
     "iopub.status.idle": "2020-06-02T15:24:04.547815Z",
     "shell.execute_reply": "2020-06-02T15:24:04.546839Z",
     "shell.execute_reply.started": "2020-06-02T15:24:03.911542Z"
    }
   },
   "outputs": [
    {
     "data": {
      "image/png": "[encoded data removed]",
      "text/plain": [
       "<Figure size 432x288 with 1 Axes>"
      ]
     },
     "metadata": {
      "needs_background": "light"
     },
     "output_type": "display_data"
    },
    {
     "data": {
      "image/png": "[encoded data removed]",
      "text/plain": [
       "<Figure size 432x288 with 1 Axes>"
      ]
     },
     "metadata": {
      "needs_background": "light"
     },
     "output_type": "display_data"
    }
   ],
   "source": [
    "def plot_history(history):\n",
    "    hist = pd.DataFrame(history.history)\n",
    "    hist['epoch'] = history.epoch\n",
    "\n",
    "    plt.figure()\n",
    "    plt.xlabel('Epoch')\n",
    "    plt.ylabel('Mean Abs Error [MPG]')\n",
    "    plt.plot(hist['epoch'], hist['loss'], label='Train Error')\n",
    "    plt.plot(hist['epoch'], hist['val_loss'], label = 'Val Error')\n",
    "    plt.ylim([0,20])\n",
    "    plt.legend()\n",
    "\n",
    "    plt.figure()\n",
    "    plt.xlabel('Epoch')\n",
    "    plt.ylabel('Mean Square Error [$MPG^2$]')\n",
    "    plt.plot(hist['epoch'], hist['loss'], label='Train Error')\n",
    "    plt.plot(hist['epoch'], hist['val_loss'], label = 'Val Error')\n",
    "    plt.ylim([0,20])\n",
    "    plt.legend()\n",
    "    plt.show()\n",
    "\n",
    "\n",
    "plot_history(history)"
   ]
  },
  {
   "cell_type": "code",
   "execution_count": 21,
   "metadata": {
    "execution": {
     "iopub.execute_input": "2020-06-02T15:24:04.548956Z",
     "iopub.status.busy": "2020-06-02T15:24:04.548735Z",
     "iopub.status.idle": "2020-06-02T15:24:10.004272Z",
     "shell.execute_reply": "2020-06-02T15:24:10.002500Z",
     "shell.execute_reply.started": "2020-06-02T15:24:04.548915Z"
    }
   },
   "outputs": [
    {
     "name": "stdout",
     "output_type": "stream",
     "text": [
      "\n",
      "\n",
      "* * * * * * * * * * * * * * * * * * * * * * * * * * * * * * * * * * * * * * * * * * * * * * * * * * \n",
      "\n",
      "* * * * * * * * * * * * * * * * * * * * * * * * * * * * * * * * * * * * * * * * "
     ]
    },
    {
     "data": {
      "image/png": "[encoded data removed]",
      "text/plain": [
       "<Figure size 432x288 with 1 Axes>"
      ]
     },
     "metadata": {
      "needs_background": "light"
     },
     "output_type": "display_data"
    },
    {
     "data": {
      "image/png": "[encoded data removed]",
      "text/plain": [
       "<Figure size 432x288 with 1 Axes>"
      ]
     },
     "metadata": {
      "needs_background": "light"
     },
     "output_type": "display_data"
    }
   ],
   "source": [
    "model = build_model()\n",
    "\n",
    "# patience 值用来检查改进 epochs 的数量\n",
    "early_stop = keras.callbacks.EarlyStopping(monitor='val_loss', patience=10)\n",
    "\n",
    "num_epoch = 1000\n",
    "history = model.fit(normed_train_data, \n",
    "                    train_labels, \n",
    "                    epochs=num_epoch, \n",
    "                    validation_split=0.2, \n",
    "                    verbose=0, \n",
    "                    callbacks=[early_stop, PrintDot()])\n",
    "\n",
    "plot_history(history)"
   ]
  },
  {
   "cell_type": "code",
   "execution_count": 22,
   "metadata": {
    "execution": {
     "iopub.execute_input": "2020-06-02T15:24:10.007989Z",
     "iopub.status.busy": "2020-06-02T15:24:10.007371Z",
     "iopub.status.idle": "2020-06-02T15:24:10.029536Z",
     "shell.execute_reply": "2020-06-02T15:24:10.028522Z",
     "shell.execute_reply.started": "2020-06-02T15:24:10.007760Z"
    }
   },
   "outputs": [
    {
     "name": "stdout",
     "output_type": "stream",
     "text": [
      "78/78 - 0s - loss: 6.3529 - mean_absolute_error: 1.9390 - mean_squared_error: 6.3529\n",
      "Testing set Mean Abs Error:  1.94 MPG\n"
     ]
    }
   ],
   "source": [
    "loss, mae, mse = model.evaluate(normed_test_data, test_labels, verbose=2)\n",
    "\n",
    "print(\"Testing set Mean Abs Error: {:5.2f} MPG\".format(mae))"
   ]
  },
  {
   "cell_type": "code",
   "execution_count": 23,
   "metadata": {
    "execution": {
     "iopub.execute_input": "2020-06-02T15:24:10.031703Z",
     "iopub.status.busy": "2020-06-02T15:24:10.031170Z",
     "iopub.status.idle": "2020-06-02T15:24:10.306206Z",
     "shell.execute_reply": "2020-06-02T15:24:10.305195Z",
     "shell.execute_reply.started": "2020-06-02T15:24:10.031504Z"
    }
   },
   "outputs": [
    {
     "data": {
      "image/png": "[encoded data removed]",
      "text/plain": [
       "<Figure size 432x288 with 1 Axes>"
      ]
     },
     "metadata": {
      "needs_background": "light"
     },
     "output_type": "display_data"
    }
   ],
   "source": [
    "test_predictions = model.predict(normed_test_data).flatten()\n",
    "\n",
    "plt.scatter(test_labels, test_predictions)\n",
    "plt.xlabel('True Values [MPG]')\n",
    "plt.ylabel('Predictions [MPG]')\n",
    "plt.axis('equal')\n",
    "plt.axis('square')\n",
    "plt.xlim([0,plt.xlim()[1]])\n",
    "plt.ylim([0,plt.ylim()[1]])\n",
    "_ = plt.plot([-100, 100], [-100, 100])\n"
   ]
  },
  {
   "cell_type": "code",
   "execution_count": 24,
   "metadata": {
    "execution": {
     "iopub.execute_input": "2020-06-02T15:24:10.307477Z",
     "iopub.status.busy": "2020-06-02T15:24:10.307239Z",
     "iopub.status.idle": "2020-06-02T15:24:10.536329Z",
     "shell.execute_reply": "2020-06-02T15:24:10.535454Z",
     "shell.execute_reply.started": "2020-06-02T15:24:10.307432Z"
    }
   },
   "outputs": [
    {
     "data": {
      "image/png": "[encoded data removed]",
      "text/plain": [
       "<Figure size 432x288 with 1 Axes>"
      ]
     },
     "metadata": {
      "needs_background": "light"
     },
     "output_type": "display_data"
    }
   ],
   "source": [
    "error = test_predictions - test_labels\n",
    "plt.hist(error, bins = 25)\n",
    "plt.xlabel(\"Prediction Error [MPG]\")\n",
    "_ = plt.ylabel(\"Count\")"
   ]
  },
  {
   "cell_type": "code",
   "execution_count": null,
   "metadata": {},
   "outputs": [],
   "source": []
  }
 ],
 "metadata": {
  "kernelspec": {
   "display_name": "nlpqs",
   "language": "python",
   "name": "nlpqs"
  },
  "language_info": {
   "codemirror_mode": {
    "name": "ipython",
    "version": 3
   },
   "file_extension": ".py",
   "mimetype": "text/x-python",
   "name": "python",
   "nbconvert_exporter": "python",
   "pygments_lexer": "ipython3",
   "version": "3.7.6"
  }
 },
 "nbformat": 4,
 "nbformat_minor": 4
}

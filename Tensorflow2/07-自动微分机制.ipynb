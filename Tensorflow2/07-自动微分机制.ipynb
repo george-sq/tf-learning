{
 "cells": [
  {
   "cell_type": "markdown",
   "metadata": {},
   "source": [
    "# 自动微分机制"
   ]
  },
  {
   "cell_type": "code",
   "execution_count": 17,
   "metadata": {
    "execution": {
     "iopub.execute_input": "2020-06-09T10:29:12.401728Z",
     "iopub.status.busy": "2020-06-09T10:29:12.401162Z",
     "iopub.status.idle": "2020-06-09T10:29:12.411623Z",
     "shell.execute_reply": "2020-06-09T10:29:12.410016Z",
     "shell.execute_reply.started": "2020-06-09T10:29:12.401664Z"
    }
   },
   "outputs": [
    {
     "data": {
      "text/plain": [
       "'2.1.0'"
      ]
     },
     "execution_count": 17,
     "metadata": {},
     "output_type": "execute_result"
    }
   ],
   "source": [
    "import numpy as np\n",
    "from tensorflow import keras\n",
    "import tensorflow as tf\n",
    "import matplotlib.pyplot as plt\n",
    "\n",
    "tf.__version__"
   ]
  },
  {
   "cell_type": "markdown",
   "metadata": {},
   "source": [
    "Tensorflow一般使用 **梯度磁带** tf.GradientTape来记录正向运算过程，然后 **反播** 磁带自动得到梯度值。\n",
    "\n",
    "这种利用tf.GradientTape求微分的方法叫做 **Tensorflow的自动微分机制**。"
   ]
  },
  {
   "cell_type": "markdown",
   "metadata": {},
   "source": [
    "## 求导"
   ]
  },
  {
   "cell_type": "code",
   "execution_count": 2,
   "metadata": {
    "execution": {
     "iopub.execute_input": "2020-06-09T10:03:14.733305Z",
     "iopub.status.busy": "2020-06-09T10:03:14.733088Z",
     "iopub.status.idle": "2020-06-09T10:03:19.437310Z",
     "shell.execute_reply": "2020-06-09T10:03:19.436088Z",
     "shell.execute_reply.started": "2020-06-09T10:03:14.733274Z"
    }
   },
   "outputs": [
    {
     "name": "stdout",
     "output_type": "stream",
     "text": [
      "x = <tf.Variable 'x:0' shape=() dtype=float32, numpy=0.0>\n",
      "tf.Tensor(1.0, shape=(), dtype=float32)\n",
      "a = 1.0\n",
      "b = -2.0\n",
      "c = 3.0\n",
      "e = -4.0\n"
     ]
    }
   ],
   "source": [
    "# f(x) = x^2 - 2*x + 1 的导数\n",
    "x = tf.Variable(0.0, name = \"x\", dtype = tf.float32)\n",
    "a = tf.constant(1.0)\n",
    "b = tf.constant(-2.0)\n",
    "c = tf.constant(3.0)\n",
    "e = tf.constant(-4.0)\n",
    "\n",
    "print(f\"x = {x}\")\n",
    "print(a)\n",
    "print(f\"a = {a}\")\n",
    "print(f\"b = {b}\")\n",
    "print(f\"c = {c}\")\n",
    "print(f\"e = {e}\")"
   ]
  },
  {
   "cell_type": "code",
   "execution_count": 3,
   "metadata": {
    "execution": {
     "iopub.execute_input": "2020-06-09T10:03:19.440036Z",
     "iopub.status.busy": "2020-06-09T10:03:19.439652Z",
     "iopub.status.idle": "2020-06-09T10:03:19.452775Z",
     "shell.execute_reply": "2020-06-09T10:03:19.451691Z",
     "shell.execute_reply.started": "2020-06-09T10:03:19.439984Z"
    }
   },
   "outputs": [
    {
     "name": "stdout",
     "output_type": "stream",
     "text": [
      "y = (1.0 * x^2) + (-2.0 * x) + (3.0)\n",
      "dy_dx = -2.0\n"
     ]
    }
   ],
   "source": [
    "# 对 变量x 求导\n",
    "with tf.GradientTape() as tape:\n",
    "    y = a * tf.pow(x, 2) + b * x + c\n",
    "    print(f\"y = ({a} * x^2) + ({b} * x) + ({c})\")\n",
    "\n",
    "dy_dx = tape.gradient(y, x)\n",
    "print(f\"dy_dx = {dy_dx}\")"
   ]
  },
  {
   "cell_type": "code",
   "execution_count": 4,
   "metadata": {
    "collapsed": false,
    "execution": {
     "iopub.execute_input": "2020-06-09T10:03:19.454925Z",
     "iopub.status.busy": "2020-06-09T10:03:19.454607Z",
     "iopub.status.idle": "2020-06-09T10:03:19.467224Z",
     "shell.execute_reply": "2020-06-09T10:03:19.466271Z",
     "shell.execute_reply.started": "2020-06-09T10:03:19.454882Z"
    },
    "jupyter": {
     "outputs_hidden": false
    },
    "pycharm": {
     "name": "#%%\n"
    }
   },
   "outputs": [
    {
     "name": "stdout",
     "output_type": "stream",
     "text": [
      "y = (1.0 * x^2) + (-2.0 * x) + (3.0)\n",
      "dy_dx = -2.0\n",
      "dy_da = 0.0\n",
      "dy_db = 0.0\n",
      "dy_dc = 1.0\n"
     ]
    }
   ],
   "source": [
    "# 对 常量张量 求导，需要增加watch\n",
    "\n",
    "with tf.GradientTape() as tape:\n",
    "    tape.watch([a, b, c])\n",
    "    y = a * tf.pow(x, 2) + b * x + c\n",
    "    print(f\"y = ({a} * x^2) + ({b} * x) + ({c})\")\n",
    "\n",
    "dy_dx, dy_da, dy_db, dy_dc = tape.gradient(y, [x, a, b, c])\n",
    "\n",
    "print(f\"dy_dx = {dy_dx}\")\n",
    "print(f\"dy_da = {dy_da}\")\n",
    "print(f\"dy_db = {dy_db}\")\n",
    "print(f\"dy_dc = {dy_dc}\")"
   ]
  },
  {
   "cell_type": "code",
   "execution_count": 5,
   "metadata": {
    "collapsed": false,
    "execution": {
     "iopub.execute_input": "2020-06-09T10:03:19.468960Z",
     "iopub.status.busy": "2020-06-09T10:03:19.468650Z",
     "iopub.status.idle": "2020-06-09T10:03:19.481494Z",
     "shell.execute_reply": "2020-06-09T10:03:19.480593Z",
     "shell.execute_reply.started": "2020-06-09T10:03:19.468919Z"
    },
    "jupyter": {
     "outputs_hidden": false
    },
    "pycharm": {
     "name": "#%%\n"
    }
   },
   "outputs": [
    {
     "name": "stdout",
     "output_type": "stream",
     "text": [
      "y = (1.0 * x^3) + (-2.0 * x^2) + (3.0 * x) + (-4.0)\n",
      "dy_dx = 3.0\n",
      "dy2_dx2 = -4.0\n"
     ]
    }
   ],
   "source": [
    "# 对 变量x 求二阶导数\n",
    "with tf.GradientTape() as tape2:\n",
    "    with tf.GradientTape() as tape1:\n",
    "        print(f\"y = ({a} * x^3) + ({b} * x^2) + ({c} * x) + ({e})\")\n",
    "        y = a * tf.pow(x, 3) + b * tf.pow(x, 2) + c * x + e\n",
    "    dy_dx = tape1.gradient(y, x)\n",
    "dy2_dx2 = tape2.gradient(dy_dx, x)\n",
    "\n",
    "print(f\"dy_dx = {dy_dx}\")\n",
    "print(f\"dy2_dx2 = {dy2_dx2}\")\n"
   ]
  },
  {
   "cell_type": "code",
   "execution_count": 6,
   "metadata": {
    "collapsed": false,
    "execution": {
     "iopub.execute_input": "2020-06-09T10:03:19.483046Z",
     "iopub.status.busy": "2020-06-09T10:03:19.482738Z",
     "iopub.status.idle": "2020-06-09T10:03:19.496348Z",
     "shell.execute_reply": "2020-06-09T10:03:19.495493Z",
     "shell.execute_reply.started": "2020-06-09T10:03:19.483005Z"
    },
    "jupyter": {
     "outputs_hidden": false
    },
    "pycharm": {
     "name": "#%%\n"
    }
   },
   "outputs": [
    {
     "name": "stdout",
     "output_type": "stream",
     "text": [
      "y = (1.0 * x^3) + (-2.0 * x^2) + (3.0 * x) + (-4.0)\n",
      "dy_dx = 3.0\n",
      "dy2_dx2 = -4.0\n",
      "dy3_dx3 = nan\n"
     ]
    }
   ],
   "source": [
    "# 对 变量x 求三阶导数\n",
    "with tf.GradientTape() as tape3:\n",
    "    with tf.GradientTape() as tape2:\n",
    "        with tf.GradientTape() as tape1:\n",
    "            print(f\"y = ({a} * x^3) + ({b} * x^2) + ({c} * x) + ({e})\")\n",
    "            y = a * tf.pow(x, 3) + b * tf.pow(x, 2) + c * x + e\n",
    "            dy_dx = tape1.gradient(y, x)\n",
    "        dy2_dx2 = tape2.gradient(dy_dx, x)\n",
    "    dy3_dx3 = tape3.gradient(dy2_dx2, x)\n",
    "\n",
    "print(f\"dy_dx = {dy_dx}\")\n",
    "print(f\"dy2_dx2 = {dy2_dx2}\")\n",
    "print(f\"dy3_dx3 = {dy3_dx3}\")\n",
    "\n"
   ]
  },
  {
   "cell_type": "code",
   "execution_count": 7,
   "metadata": {
    "collapsed": false,
    "execution": {
     "iopub.execute_input": "2020-06-09T10:03:20.014869Z",
     "iopub.status.busy": "2020-06-09T10:03:20.014456Z",
     "iopub.status.idle": "2020-06-09T10:03:20.285968Z",
     "shell.execute_reply": "2020-06-09T10:03:20.284972Z",
     "shell.execute_reply.started": "2020-06-09T10:03:20.014811Z"
    },
    "jupyter": {
     "outputs_hidden": false
    },
    "pycharm": {
     "name": "#%%\n"
    }
   },
   "outputs": [
    {
     "name": "stdout",
     "output_type": "stream",
     "text": [
      "aa = Tensor(\"Const:0\", shape=(), dtype=float32)\n",
      "bb = Tensor(\"Const_1:0\", shape=(), dtype=float32)\n",
      "cc = Tensor(\"Const_2:0\", shape=(), dtype=float32)\n",
      "(-4, 6)\n",
      "\n",
      "aa = Tensor(\"Const:0\", shape=(), dtype=float32)\n",
      "bb = Tensor(\"Const_1:0\", shape=(), dtype=float32)\n",
      "cc = Tensor(\"Const_2:0\", shape=(), dtype=float32)\n",
      "(0, 4)\n"
     ]
    }
   ],
   "source": [
    "# 在autograph中, 使用求导\n",
    "@tf.function\n",
    "def f(xx):\n",
    "    aa = tf.constant(2.0)\n",
    "    bb = tf.constant(-4.0)\n",
    "    cc = tf.constant(6.0)\n",
    "    tf.print(f\"aa = {aa}\")\n",
    "#     tf.print(aa)\n",
    "    tf.print(f\"bb = {bb}\")\n",
    "    tf.print(f\"cc = {cc}\")\n",
    "\n",
    "    # 自变量转换成tf.float32\n",
    "    xx = tf.cast(xx, tf.float32)\n",
    "    with tf.GradientTape() as tap:\n",
    "        tap.watch(xx)\n",
    "        yy = aa * tf.pow(xx, 2) + bb * xx + cc\n",
    "#         print(f\"y = ({aa} * x^2) + ({bb} * x) + ({cc})\")\n",
    "#         tf.print(f\"y = ({aa.numpy()} * x^2) + ({bb.numpy()} * x) + ({cc.numpy()})\")\n",
    "    dyy_dxx = tap.gradient(yy, xx)\n",
    "\n",
    "    return dyy_dxx, yy\n",
    "\n",
    "tf.print(f(tf.constant(0.0)))\n",
    "print()\n",
    "tf.print(f(tf.constant(1.0)))\n"
   ]
  },
  {
   "cell_type": "markdown",
   "metadata": {},
   "source": [
    "## 利用梯度磁带和优化器求最小值\n"
   ]
  },
  {
   "cell_type": "markdown",
   "metadata": {
    "pycharm": {
     "name": "#%% md\n"
    }
   },
   "source": [
    "### 方式 - 1\n",
    "\n",
    "使用optimizer.apply_gradients"
   ]
  },
  {
   "cell_type": "code",
   "execution_count": 8,
   "metadata": {
    "collapsed": false,
    "execution": {
     "iopub.execute_input": "2020-06-09T10:03:30.313307Z",
     "iopub.status.busy": "2020-06-09T10:03:30.312763Z",
     "iopub.status.idle": "2020-06-09T10:03:30.543343Z",
     "shell.execute_reply": "2020-06-09T10:03:30.542543Z",
     "shell.execute_reply.started": "2020-06-09T10:03:30.313243Z"
    },
    "jupyter": {
     "outputs_hidden": false
    },
    "pycharm": {
     "name": "#%%\n"
    }
   },
   "outputs": [
    {
     "name": "stdout",
     "output_type": "stream",
     "text": [
      "y = (1.0 * x^2) + (2.0 * x) + (3.0)\n"
     ]
    },
    {
     "data": {
      "image/png": "[encoded data removed]",
      "text/plain": [
       "<Figure size 432x288 with 1 Axes>"
      ]
     },
     "metadata": {
      "needs_background": "light"
     },
     "output_type": "display_data"
    }
   ],
   "source": [
    "# 求f(x) = a*x^2 + b*x + c的最小值\n",
    "# 使用optimizer.apply_gradients\n",
    "a = 1.0\n",
    "b = 2.0\n",
    "c = 3.0\n",
    "print(f\"y = ({a} * x^2) + ({b} * x) + ({c})\")\n",
    "x = np.linspace(-2, 2, 10**3)\n",
    "l_x = list(x)\n",
    "l_y = []\n",
    "for i in x:\n",
    "    y = a*i**2 + b*i + c\n",
    "    # y = a*i**2 + c\n",
    "    l_y.append(y)\n",
    "    pass\n",
    "\n",
    "plt.plot(l_x, l_y)\n",
    "plt.show()\n"
   ]
  },
  {
   "cell_type": "code",
   "execution_count": 11,
   "metadata": {
    "collapsed": false,
    "execution": {
     "iopub.execute_input": "2020-06-09T10:08:33.931856Z",
     "iopub.status.busy": "2020-06-09T10:08:33.931290Z",
     "iopub.status.idle": "2020-06-09T10:08:35.276064Z",
     "shell.execute_reply": "2020-06-09T10:08:35.275293Z",
     "shell.execute_reply.started": "2020-06-09T10:08:33.931793Z"
    },
    "jupyter": {
     "outputs_hidden": false
    },
    "pycharm": {
     "name": "#%%\n"
    }
   },
   "outputs": [
    {
     "name": "stdout",
     "output_type": "stream",
     "text": [
      "y = (1.0 * x^2) + (2.0 * x) + (3.0)\n",
      "\n",
      "x = <tf.Variable 'x:0' shape=() dtype=float32, numpy=-0.99999857>\n",
      "\n",
      "dy_dx = 2.86102294921875e-06\n",
      "\n",
      "y = 2.0\n"
     ]
    }
   ],
   "source": [
    "# x 会自动往最小值的方向变化\n",
    "# x初始化为0，会 【递增】 至最小值\n",
    "x = tf.Variable(0.0, name = \"x\", dtype = tf.float32)\n",
    "a = tf.constant(1.0)\n",
    "b = tf.constant(2.0)\n",
    "c = tf.constant(3.0)\n",
    "\n",
    "print(f\"y = ({a} * x^2) + ({b} * x) + ({c})\")\n",
    "print()\n",
    "\n",
    "l_x = []\n",
    "l_y = []\n",
    "l_d = []\n",
    "\n",
    "optimizer = tf.keras.optimizers.SGD(learning_rate=0.01)\n",
    "for _ in range(1000):\n",
    "#     print(f\"x = {x}\")\n",
    "    l_x.append(x.numpy())\n",
    "    with tf.GradientTape() as tape:\n",
    "        y = a * tf.pow(x, 2) + b * x + c\n",
    "        # print(f\"y = {y}\")\n",
    "        l_y.append(y.numpy())\n",
    "\n",
    "    dy_dx = tape.gradient(y, x)\n",
    "    l_d.append(dy_dx.numpy())\n",
    "    # print(f\"dy_dx = {dy_dx}\")\n",
    "#     print(f\"x = {x}\")\n",
    "    optimizer.apply_gradients(grads_and_vars=[(dy_dx, x)])  # 根据梯度变化，x 的值会被改变\n",
    "#     print(f\"x = {x}\")\n",
    "#     print()\n",
    "\n",
    "tf.print(f\"x = {x}\")\n",
    "print()\n",
    "tf.print(f\"dy_dx = {dy_dx}\")\n",
    "print()\n",
    "tf.print(f\"y = {y}\")"
   ]
  },
  {
   "cell_type": "code",
   "execution_count": 10,
   "metadata": {
    "collapsed": false,
    "execution": {
     "iopub.execute_input": "2020-06-09T10:01:08.254518Z",
     "iopub.status.busy": "2020-06-09T10:01:08.254108Z",
     "iopub.status.idle": "2020-06-09T10:01:08.600059Z",
     "shell.execute_reply": "2020-06-09T10:01:08.599211Z",
     "shell.execute_reply.started": "2020-06-09T10:01:08.254463Z"
    },
    "jupyter": {
     "outputs_hidden": false
    },
    "pycharm": {
     "name": "#%%\n"
    }
   },
   "outputs": [
    {
     "name": "stdout",
     "output_type": "stream",
     "text": [
      "l_x = [-0.99999857, -0.99999857, -0.99999857, -0.99999857, -0.99999857, -0.99999857, -0.99999857, -0.99999857, -0.99999857, -0.99999857, -0.99999857, -0.99999857, -0.99999857, -0.99999857, -0.99999857, -0.99999857, -0.99999857, -0.99999857, -0.99999857, -0.99999857]\n",
      "l_d = [2.861023e-06, 2.861023e-06, 2.861023e-06, 2.861023e-06, 2.861023e-06, 2.861023e-06, 2.861023e-06, 2.861023e-06, 2.861023e-06, 2.861023e-06, 2.861023e-06, 2.861023e-06, 2.861023e-06, 2.861023e-06, 2.861023e-06, 2.861023e-06, 2.861023e-06, 2.861023e-06, 2.861023e-06, 2.861023e-06]\n",
      "l_y = [2.0, 2.0, 2.0, 2.0, 2.0, 2.0, 2.0, 2.0, 2.0, 2.0, 2.0, 2.0, 2.0, 2.0, 2.0, 2.0, 2.0, 2.0, 2.0, 2.0]\n"
     ]
    },
    {
     "data": {
      "image/png": "[encoded data removed]",
      "text/plain": [
       "<Figure size 432x288 with 1 Axes>"
      ]
     },
     "metadata": {
      "needs_background": "light"
     },
     "output_type": "display_data"
    },
    {
     "data": {
      "image/png": "[encoded data removed]",
      "text/plain": [
       "<Figure size 432x288 with 1 Axes>"
      ]
     },
     "metadata": {
      "needs_background": "light"
     },
     "output_type": "display_data"
    }
   ],
   "source": [
    "print(f\"l_x = {l_x[::-1][:20]}\")\n",
    "print(f\"l_d = {l_d[::-1][:20]}\")\n",
    "print(f\"l_y = {l_y[::-1][:20]}\")\n",
    "\n",
    "plt.plot(l_x, l_y)\n",
    "plt.show()\n",
    "plt.plot(l_x, l_d)\n",
    "plt.show()\n"
   ]
  },
  {
   "cell_type": "code",
   "execution_count": 11,
   "metadata": {
    "collapsed": false,
    "execution": {
     "iopub.execute_input": "2020-06-09T10:01:08.601264Z",
     "iopub.status.busy": "2020-06-09T10:01:08.601048Z",
     "iopub.status.idle": "2020-06-09T10:01:09.996758Z",
     "shell.execute_reply": "2020-06-09T10:01:09.995775Z",
     "shell.execute_reply.started": "2020-06-09T10:01:08.601235Z"
    },
    "jupyter": {
     "outputs_hidden": false
    },
    "pycharm": {
     "name": "#%%\n"
    }
   },
   "outputs": [
    {
     "name": "stdout",
     "output_type": "stream",
     "text": [
      "y = (1.0 * x^2) + (2.0 * x) + (3.0)\n",
      "\n",
      "x = <tf.Variable 'x:0' shape=() dtype=float32, numpy=-1.0000029>\n",
      "\n",
      "dy_dx = -5.7220458984375e-06\n",
      "\n",
      "y = 2.0\n"
     ]
    }
   ],
   "source": [
    "# x 会自动往最小值的方向变化\n",
    "# x初始化为-2，会 【递减】 至最小值\n",
    "x = tf.Variable(-2.0, name = \"x\", dtype = tf.float32)\n",
    "a = tf.constant(1.0)\n",
    "b = tf.constant(2.0)\n",
    "c = tf.constant(3.0)\n",
    "\n",
    "print(f\"y = ({a} * x^2) + ({b} * x) + ({c})\")\n",
    "print()\n",
    "\n",
    "l_x = []\n",
    "l_y = []\n",
    "l_d = []\n",
    "\n",
    "optimizer = tf.keras.optimizers.SGD(learning_rate=0.01)\n",
    "for _ in range(1000):\n",
    "    # print(f\"x = {x}\")\n",
    "    l_x.append(x.numpy())\n",
    "    with tf.GradientTape() as tape:\n",
    "        y = a * tf.pow(x, 2) + b * x + c\n",
    "        # print(f\"y = {y}\")\n",
    "        l_y.append(y.numpy())\n",
    "\n",
    "    dy_dx = tape.gradient(y, x)\n",
    "    l_d.append(dy_dx.numpy())\n",
    "    # print(f\"dy_dx = {dy_dx}\")\n",
    "    optimizer.apply_gradients(grads_and_vars=[(dy_dx, x)])\n",
    "    # print()\n",
    "\n",
    "tf.print(f\"x = {x}\")\n",
    "print()\n",
    "tf.print(f\"dy_dx = {dy_dx}\")\n",
    "print()\n",
    "tf.print(f\"y = {y}\")\n"
   ]
  },
  {
   "cell_type": "code",
   "execution_count": 12,
   "metadata": {
    "collapsed": false,
    "execution": {
     "iopub.execute_input": "2020-06-09T10:01:09.998596Z",
     "iopub.status.busy": "2020-06-09T10:01:09.998234Z",
     "iopub.status.idle": "2020-06-09T10:01:10.328230Z",
     "shell.execute_reply": "2020-06-09T10:01:10.327481Z",
     "shell.execute_reply.started": "2020-06-09T10:01:09.998548Z"
    },
    "jupyter": {
     "outputs_hidden": false
    },
    "pycharm": {
     "name": "#%%\n"
    }
   },
   "outputs": [
    {
     "name": "stdout",
     "output_type": "stream",
     "text": [
      "l_x = [-1.0000029, -1.0000029, -1.0000029, -1.0000029, -1.0000029, -1.0000029, -1.0000029, -1.0000029, -1.0000029, -1.0000029, -1.0000029, -1.0000029, -1.0000029, -1.0000029, -1.0000029, -1.0000029, -1.0000029, -1.0000029, -1.0000029, -1.0000029]\n",
      "l_d = [-5.722046e-06, -5.722046e-06, -5.722046e-06, -5.722046e-06, -5.722046e-06, -5.722046e-06, -5.722046e-06, -5.722046e-06, -5.722046e-06, -5.722046e-06, -5.722046e-06, -5.722046e-06, -5.722046e-06, -5.722046e-06, -5.722046e-06, -5.722046e-06, -5.722046e-06, -5.722046e-06, -5.722046e-06, -5.722046e-06]\n",
      "l_y = [2.0, 2.0, 2.0, 2.0, 2.0, 2.0, 2.0, 2.0, 2.0, 2.0, 2.0, 2.0, 2.0, 2.0, 2.0, 2.0, 2.0, 2.0, 2.0, 2.0]\n"
     ]
    },
    {
     "data": {
      "image/png": "[encoded data removed]",
      "text/plain": [
       "<Figure size 432x288 with 1 Axes>"
      ]
     },
     "metadata": {
      "needs_background": "light"
     },
     "output_type": "display_data"
    },
    {
     "data": {
      "image/png": "[encoded data removed]",
      "text/plain": [
       "<Figure size 432x288 with 1 Axes>"
      ]
     },
     "metadata": {
      "needs_background": "light"
     },
     "output_type": "display_data"
    }
   ],
   "source": [
    "print(f\"l_x = {l_x[::-1][:20]}\")\n",
    "print(f\"l_d = {l_d[::-1][:20]}\")\n",
    "print(f\"l_y = {l_y[::-1][:20]}\")\n",
    "\n",
    "plt.plot(l_x, l_y)\n",
    "plt.show()\n",
    "plt.plot(l_x, l_d)\n",
    "plt.show()"
   ]
  },
  {
   "cell_type": "markdown",
   "metadata": {},
   "source": [
    "### 方式 - 2\n",
    "\n",
    "使用optimizer.minimize：相当于先用tape求gradient, 再apply_gradient"
   ]
  },
  {
   "cell_type": "code",
   "execution_count": 13,
   "metadata": {
    "collapsed": false,
    "execution": {
     "iopub.execute_input": "2020-06-09T10:01:10.329434Z",
     "iopub.status.busy": "2020-06-09T10:01:10.329209Z",
     "iopub.status.idle": "2020-06-09T10:01:11.684941Z",
     "shell.execute_reply": "2020-06-09T10:01:11.683825Z",
     "shell.execute_reply.started": "2020-06-09T10:01:10.329404Z"
    },
    "jupyter": {
     "outputs_hidden": false
    },
    "pycharm": {
     "name": "#%%\n"
    }
   },
   "outputs": [
    {
     "name": "stdout",
     "output_type": "stream",
     "text": [
      "x = <tf.Variable 'x:0' shape=() dtype=float32, numpy=-0.99999857>\n",
      "y = 2.0\n"
     ]
    }
   ],
   "source": [
    "# 求f(x) = a*x^2 + b*x + c的最小值\n",
    "\n",
    "x = tf.Variable(0.0, name = \"x\", dtype = tf.float32)\n",
    "\n",
    "#注意f()无参数\n",
    "def f():\n",
    "    aa = tf.constant(1.0)\n",
    "    bb = tf.constant(2.0)\n",
    "    cc = tf.constant(3.0)\n",
    "    yy = aa * tf.pow(x, 2) + b * x + c\n",
    "    return yy\n",
    "\n",
    "optimizer = tf.keras.optimizers.SGD(learning_rate=0.01)\n",
    "for _ in range(1000):\n",
    "    optimizer.minimize(f, [x])\n",
    "\n",
    "tf.print(f\"x = {x}\")\n",
    "tf.print(f\"y = {f()}\")"
   ]
  },
  {
   "cell_type": "markdown",
   "metadata": {},
   "source": [
    "### 方式 - 3\n",
    "\n",
    "使用autograph"
   ]
  },
  {
   "cell_type": "code",
   "execution_count": 14,
   "metadata": {
    "collapsed": false,
    "execution": {
     "iopub.execute_input": "2020-06-09T10:01:11.687094Z",
     "iopub.status.busy": "2020-06-09T10:01:11.686690Z",
     "iopub.status.idle": "2020-06-09T10:01:12.101824Z",
     "shell.execute_reply": "2020-06-09T10:01:12.100648Z",
     "shell.execute_reply.started": "2020-06-09T10:01:11.687038Z"
    },
    "jupyter": {
     "outputs_hidden": false
    },
    "pycharm": {
     "name": "#%%\n"
    }
   },
   "outputs": [
    {
     "name": "stdout",
     "output_type": "stream",
     "text": [
      "min = 2.0\n",
      "x = <tf.Variable 'x:0' shape=() dtype=float32, numpy=-0.99999857>\n"
     ]
    }
   ],
   "source": [
    "# 在autograph中完成最小值求解\n",
    "# 使用optimizer.apply_gradients\n",
    "\n",
    "x = tf.Variable(0.0, name=\"x\", dtype=tf.float32)\n",
    "optimizer = tf.keras.optimizers.SGD(learning_rate=0.01)\n",
    "\n",
    "@tf.function\n",
    "def minimizef():\n",
    "    aa = tf.constant(1.0)\n",
    "    bb = tf.constant(2.0)\n",
    "    cc = tf.constant(1.0)\n",
    "\n",
    "    #注意autograph时使用tf.range(1000)而不是range(1000)\n",
    "    for _ in tf.range(1000):\n",
    "        with tf.GradientTape() as t:\n",
    "            yy = aa*tf.pow(x, 2) + bb*x + cc\n",
    "        dyy_dxx = t.gradient(yy, x)\n",
    "        optimizer.apply_gradients(grads_and_vars=[(dyy_dxx, x)])\n",
    "\n",
    "    yy = a * tf.pow(x, 2) + b*x + c\n",
    "    return yy\n",
    "\n",
    "r = minimizef()\n",
    "tf.print(f\"min = {r}\")\n",
    "tf.print(f\"x = {x}\")\n"
   ]
  },
  {
   "cell_type": "code",
   "execution_count": 15,
   "metadata": {
    "execution": {
     "iopub.execute_input": "2020-06-09T10:01:12.104123Z",
     "iopub.status.busy": "2020-06-09T10:01:12.103698Z",
     "iopub.status.idle": "2020-06-09T10:01:12.500003Z",
     "shell.execute_reply": "2020-06-09T10:01:12.499142Z",
     "shell.execute_reply.started": "2020-06-09T10:01:12.104065Z"
    }
   },
   "outputs": [
    {
     "name": "stdout",
     "output_type": "stream",
     "text": [
      "min = 2.0\n",
      "x = <tf.Variable 'x:0' shape=() dtype=float32, numpy=-0.99999857>\n"
     ]
    }
   ],
   "source": [
    "# 在autograph中完成最小值求解\n",
    "# 使用optimizer.minimize\n",
    "\n",
    "x = tf.Variable(0.0, name = \"x\", dtype = tf.float32)\n",
    "optimizer = tf.keras.optimizers.SGD(learning_rate=0.01)   \n",
    "\n",
    "@tf.function\n",
    "def f():   \n",
    "    aa = tf.constant(1.0)\n",
    "    bb = tf.constant(2.0)\n",
    "    cc = tf.constant(1.0)\n",
    "    yy = aa * tf.pow(x, 2)+ bb*x + c\n",
    "    return yy\n",
    "\n",
    "@tf.function\n",
    "def train(epoch):  \n",
    "    for _ in tf.range(epoch):  \n",
    "        optimizer.minimize(f, [x])\n",
    "    return f()\n",
    "\n",
    "min_val = train(1000)\n",
    "tf.print(f\"min = {min_val}\")\n",
    "tf.print(f\"x = {x}\")"
   ]
  },
  {
   "cell_type": "code",
   "execution_count": null,
   "metadata": {},
   "outputs": [],
   "source": []
  }
 ],
 "metadata": {
  "kernelspec": {
   "display_name": "tf2",
   "language": "python",
   "name": "tf2"
  },
  "language_info": {
   "codemirror_mode": {
    "name": "ipython",
    "version": 3
   },
   "file_extension": ".py",
   "mimetype": "text/x-python",
   "name": "python",
   "nbconvert_exporter": "python",
   "pygments_lexer": "ipython3",
   "version": "3.7.7"
  },
  "toc-autonumbering": true,
  "toc-showmarkdowntxt": true
 },
 "nbformat": 4,
 "nbformat_minor": 4
}

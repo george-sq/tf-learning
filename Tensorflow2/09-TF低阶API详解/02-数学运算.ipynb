{
 "cells": [
  {
   "cell_type": "markdown",
   "metadata": {},
   "source": [
    "# 张量(Tensor)的数学运算"
   ]
  },
  {
   "cell_type": "code",
   "execution_count": 1,
   "metadata": {
    "collapsed": false,
    "execution": {
     "iopub.execute_input": "2020-06-16T15:14:20.123936Z",
     "iopub.status.busy": "2020-06-16T15:14:20.123371Z",
     "iopub.status.idle": "2020-06-16T15:14:21.912077Z",
     "shell.execute_reply": "2020-06-16T15:14:21.911063Z",
     "shell.execute_reply.started": "2020-06-16T15:14:20.123870Z"
    },
    "jupyter": {
     "outputs_hidden": false
    },
    "pycharm": {
     "name": "#%%\n"
    }
   },
   "outputs": [
    {
     "data": {
      "text/plain": [
       "'2.1.0'"
      ]
     },
     "execution_count": 1,
     "metadata": {},
     "output_type": "execute_result"
    }
   ],
   "source": [
    "import os\n",
    "\n",
    "import tensorflow as tf\n",
    "import numpy as np\n",
    "\n",
    "os.environ[\"CUDA_VISIBLE_DEVICES\"] = \"3\"\n",
    "tf.__version__"
   ]
  },
  {
   "cell_type": "markdown",
   "metadata": {},
   "source": [
    "张量数学运算主要有：\n",
    "- **标量运算**\n",
    "- **向量运算**\n",
    "- **矩阵运算**\n",
    "- **张量运算的广播机制**"
   ]
  },
  {
   "cell_type": "markdown",
   "metadata": {},
   "source": [
    "### 标量运算\n",
    "\n",
    "加、减、乘、除、乘方，以及三角函数，指数，对数等常见函数，逻辑比较运算符等都是标量运算；\n",
    "\n",
    "【标量运算符】的特点是 **对张量实施逐元素运算**；"
   ]
  },
  {
   "cell_type": "code",
   "execution_count": 2,
   "metadata": {
    "collapsed": false,
    "execution": {
     "iopub.execute_input": "2020-06-16T15:14:22.264396Z",
     "iopub.status.busy": "2020-06-16T15:14:22.264174Z",
     "iopub.status.idle": "2020-06-16T15:14:22.761021Z",
     "shell.execute_reply": "2020-06-16T15:14:22.759845Z",
     "shell.execute_reply.started": "2020-06-16T15:14:22.264367Z"
    },
    "jupyter": {
     "outputs_hidden": false
    },
    "pycharm": {
     "name": "#%%\n"
    }
   },
   "outputs": [
    {
     "name": "stdout",
     "output_type": "stream",
     "text": [
      "【a】 =\n",
      "[[ 1.  2.]\n",
      " [-3.  4.]]\n",
      "\n",
      "【b】 =\n",
      "[[5. 6.]\n",
      " [7. 8.]]\n",
      "\n",
      "【加法】：\n",
      "【c】 =\n",
      "[[ 6.  8.]\n",
      " [ 4. 12.]]\n",
      "\n",
      "【减法】：\n",
      "【c】 =\n",
      "[[ -4.  -4.]\n",
      " [-10.  -4.]]\n",
      "\n"
     ]
    }
   ],
   "source": [
    "a = tf.constant([[1.0, 2], [-3, 4.0]])\n",
    "b = tf.constant([[5.0, 6], [7.0, 8.0]])\n",
    "# print(f\"【a】 shape = {a.shape}\")\n",
    "print(f\"【a】 =\\n{a}\")\n",
    "print()\n",
    "# print(f\"【b】 shape = {b.shape}\")\n",
    "print(f\"【b】 =\\n{b}\")\n",
    "print()\n",
    "\n",
    "# 加法\n",
    "print(\"【加法】：\")\n",
    "c = a + b  #运算符重载\n",
    "# print(f\"【c】 shape = {c.shape}\")\n",
    "print(f\"【c】 =\\n{c}\")\n",
    "print()\n",
    "\n",
    "# 减法\n",
    "print(\"【减法】：\")\n",
    "c = a - b  #运算符重载\n",
    "# print(f\"【c】 shape = {c.shape}\")\n",
    "print(f\"【c】 =\\n{c}\")\n",
    "print()"
   ]
  },
  {
   "cell_type": "code",
   "execution_count": 3,
   "metadata": {
    "collapsed": false,
    "execution": {
     "iopub.execute_input": "2020-06-16T15:14:22.763455Z",
     "iopub.status.busy": "2020-06-16T15:14:22.763073Z",
     "iopub.status.idle": "2020-06-16T15:14:22.775420Z",
     "shell.execute_reply": "2020-06-16T15:14:22.774433Z",
     "shell.execute_reply.started": "2020-06-16T15:14:22.763403Z"
    },
    "jupyter": {
     "outputs_hidden": false
    },
    "pycharm": {
     "name": "#%%\n"
    }
   },
   "outputs": [
    {
     "name": "stdout",
     "output_type": "stream",
     "text": [
      "【a】 =\n",
      "[[ 1.  2.]\n",
      " [-3.  4.]]\n",
      "\n",
      "【b】 =\n",
      "[[5. 6.]\n",
      " [7. 8.]]\n",
      "\n",
      "【乘法】：\n",
      "【c】 =\n",
      "[[  5.  12.]\n",
      " [-21.  32.]]\n",
      "\n",
      "【除法】：\n",
      "【c】 =\n",
      "[[ 0.2         0.33333334]\n",
      " [-0.42857143  0.5       ]]\n",
      "\n"
     ]
    }
   ],
   "source": [
    "# print(f\"【a】 shape = {a.shape}\")\n",
    "print(f\"【a】 =\\n{a}\")\n",
    "print()\n",
    "# print(f\"【b】 shape = {b.shape}\")\n",
    "print(f\"【b】 =\\n{b}\")\n",
    "print()\n",
    "\n",
    "# 乘法\n",
    "print(\"【乘法】：\")\n",
    "c = a * b  #运算符重载\n",
    "# print(f\"【c】 shape = {c.shape}\")\n",
    "print(f\"【c】 =\\n{c}\")\n",
    "print()\n",
    "\n",
    "# 除法\n",
    "print(\"【除法】：\")\n",
    "c = a / b  #运算符重载\n",
    "# print(f\"【c】 shape = {c.shape}\")\n",
    "print(f\"【c】 =\\n{c}\")\n",
    "print()"
   ]
  },
  {
   "cell_type": "code",
   "execution_count": 4,
   "metadata": {
    "collapsed": false,
    "execution": {
     "iopub.execute_input": "2020-06-16T15:14:22.777044Z",
     "iopub.status.busy": "2020-06-16T15:14:22.776723Z",
     "iopub.status.idle": "2020-06-16T15:14:22.788738Z",
     "shell.execute_reply": "2020-06-16T15:14:22.787833Z",
     "shell.execute_reply.started": "2020-06-16T15:14:22.777000Z"
    },
    "jupyter": {
     "outputs_hidden": false
    },
    "pycharm": {
     "name": "#%%\n"
    }
   },
   "outputs": [
    {
     "name": "stdout",
     "output_type": "stream",
     "text": [
      "【a】 =\n",
      "[[ 1.  2.]\n",
      " [-3.  4.]]\n",
      "\n",
      "【b】 =\n",
      "[[5. 6.]\n",
      " [7. 8.]]\n",
      "\n",
      "【地板除】：\n",
      "【c】 =\n",
      "[[ 0.  1.]\n",
      " [-2.  2.]]\n",
      "\n",
      "【模运算】：\n",
      "【c】 =\n",
      "[[ 1.  2.]\n",
      " [-0.  1.]]\n",
      "\n"
     ]
    }
   ],
   "source": [
    "# print(f\"【a】 shape = {a.shape}\")\n",
    "print(f\"【a】 =\\n{a}\")\n",
    "print()\n",
    "# print(f\"【b】 shape = {b.shape}\")\n",
    "print(f\"【b】 =\\n{b}\")\n",
    "print()\n",
    "\n",
    "# 地板除\n",
    "print(\"【地板除】：\")\n",
    "c = a // 2\n",
    "# print(f\"【c】 shape = {c.shape}\")\n",
    "print(f\"【c】 =\\n{c}\")\n",
    "print()\n",
    "\n",
    "# 模运算%\n",
    "print(\"【模运算】：\")\n",
    "c = a % 3\n",
    "# print(f\"【c】 shape = {c.shape}\")\n",
    "print(f\"【c】 =\\n{c}\")\n",
    "print()"
   ]
  },
  {
   "cell_type": "code",
   "execution_count": 5,
   "metadata": {
    "collapsed": false,
    "execution": {
     "iopub.execute_input": "2020-06-16T15:14:23.030519Z",
     "iopub.status.busy": "2020-06-16T15:14:23.030038Z",
     "iopub.status.idle": "2020-06-16T15:14:23.044533Z",
     "shell.execute_reply": "2020-06-16T15:14:23.043351Z",
     "shell.execute_reply.started": "2020-06-16T15:14:23.030464Z"
    },
    "jupyter": {
     "outputs_hidden": false
    },
    "pycharm": {
     "name": "#%%\n"
    }
   },
   "outputs": [
    {
     "name": "stdout",
     "output_type": "stream",
     "text": [
      "【a】 =\n",
      "[[ 1.  2.]\n",
      " [-3.  4.]]\n",
      "\n",
      "【c】 =\n",
      "[[ 1.  4.]\n",
      " [ 9. 16.]]\n",
      "\n",
      "【c】 =\n",
      "[[1.        1.4142135]\n",
      " [      nan 2.       ]]\n",
      "\n",
      "【c】 =\n",
      "[[1.        1.4142135]\n",
      " [      nan 2.       ]]\n",
      "\n"
     ]
    }
   ],
   "source": [
    "# print(f\"【a】 shape = {a.shape}\")\n",
    "print(f\"【a】 =\\n{a}\")\n",
    "print()\n",
    "\n",
    "c = a ** 2\n",
    "# print(f\"【c】 shape = {c.shape}\")\n",
    "print(f\"【c】 =\\n{c}\")\n",
    "print()\n",
    "\n",
    "c = a ** (0.5)\n",
    "# print(f\"【c】 shape = {c.shape}\")\n",
    "print(f\"【c】 =\\n{c}\")\n",
    "print()\n",
    "\n",
    "c = tf.sqrt(a)\n",
    "# print(f\"【c】 shape = {c.shape}\")\n",
    "print(f\"【c】 =\\n{c}\")\n",
    "print()"
   ]
  },
  {
   "cell_type": "code",
   "execution_count": 6,
   "metadata": {
    "collapsed": false,
    "execution": {
     "iopub.execute_input": "2020-06-16T15:14:23.443701Z",
     "iopub.status.busy": "2020-06-16T15:14:23.443263Z",
     "iopub.status.idle": "2020-06-16T15:14:23.460607Z",
     "shell.execute_reply": "2020-06-16T15:14:23.459353Z",
     "shell.execute_reply.started": "2020-06-16T15:14:23.443642Z"
    },
    "jupyter": {
     "outputs_hidden": false
    },
    "pycharm": {
     "name": "#%%\n"
    }
   },
   "outputs": [
    {
     "name": "stdout",
     "output_type": "stream",
     "text": [
      "【a】 =\n",
      "[[ 1.  2.]\n",
      " [-3.  4.]]\n",
      "\n",
      "【c】 =\n",
      "[[False False]\n",
      " [False  True]]\n",
      "\n",
      "【c】 =\n",
      "[[False  True]\n",
      " [False  True]]\n",
      "\n",
      "【c】 =\n",
      "[[ True  True]\n",
      " [ True  True]]\n",
      "\n",
      "【c】 =\n",
      "[[False  True]\n",
      " [False False]]\n",
      "\n"
     ]
    }
   ],
   "source": [
    "# 逻辑运算\n",
    "\n",
    "# print(f\"【a】 shape = {a.shape}\")\n",
    "print(f\"【a】 =\\n{a}\")\n",
    "print()\n",
    "\n",
    "c = (a > 2)\n",
    "# print(f\"【c】 shape = {c.shape}\")\n",
    "print(f\"【c】 =\\n{c}\")\n",
    "print()\n",
    "\n",
    "c = (a >= 2) & (a <= 4)\n",
    "# print(f\"【c】 shape = {c.shape}\")\n",
    "print(f\"【c】 =\\n{c}\")\n",
    "print()\n",
    "\n",
    "c = (a >= 2) | (a <= 3)\n",
    "# print(f\"【c】 shape = {c.shape}\")\n",
    "print(f\"【c】 =\\n{c}\")\n",
    "print()\n",
    "\n",
    "c = (a == 2)\n",
    "# print(f\"【c】 shape = {c.shape}\")\n",
    "print(f\"【c】 =\\n{c}\")\n",
    "print()"
   ]
  },
  {
   "cell_type": "code",
   "execution_count": 7,
   "metadata": {
    "collapsed": false,
    "execution": {
     "iopub.execute_input": "2020-06-16T15:14:23.957342Z",
     "iopub.status.busy": "2020-06-16T15:14:23.956895Z",
     "iopub.status.idle": "2020-06-16T15:14:23.968478Z",
     "shell.execute_reply": "2020-06-16T15:14:23.967219Z",
     "shell.execute_reply.started": "2020-06-16T15:14:23.957265Z"
    },
    "jupyter": {
     "outputs_hidden": false
    },
    "pycharm": {
     "name": "#%%\n"
    }
   },
   "outputs": [
    {
     "data": {
      "text/plain": [
       "<tf.Tensor: shape=(2,), dtype=float32, numpy=array([12., 21.], dtype=float32)>"
      ]
     },
     "execution_count": 7,
     "metadata": {},
     "output_type": "execute_result"
    }
   ],
   "source": [
    "# 其他\n",
    "a = tf.constant([1.0, 8.0])\n",
    "b = tf.constant([5.0, 6.0])\n",
    "c = tf.constant([6.0, 7.0])\n",
    "tf.add_n([a, b, c])"
   ]
  },
  {
   "cell_type": "code",
   "execution_count": 8,
   "metadata": {
    "collapsed": false,
    "execution": {
     "iopub.execute_input": "2020-06-16T15:14:24.379591Z",
     "iopub.status.busy": "2020-06-16T15:14:24.379094Z",
     "iopub.status.idle": "2020-06-16T15:14:24.388425Z",
     "shell.execute_reply": "2020-06-16T15:14:24.387205Z",
     "shell.execute_reply.started": "2020-06-16T15:14:24.379513Z"
    },
    "jupyter": {
     "outputs_hidden": false
    },
    "pycharm": {
     "name": "#%%\n"
    }
   },
   "outputs": [
    {
     "data": {
      "text/plain": [
       "<tf.Tensor: shape=(2,), dtype=float32, numpy=array([5., 8.], dtype=float32)>"
      ]
     },
     "execution_count": 8,
     "metadata": {},
     "output_type": "execute_result"
    }
   ],
   "source": [
    "tf.maximum(a, b)"
   ]
  },
  {
   "cell_type": "code",
   "execution_count": 9,
   "metadata": {
    "collapsed": false,
    "execution": {
     "iopub.execute_input": "2020-06-16T15:14:24.848137Z",
     "iopub.status.busy": "2020-06-16T15:14:24.847691Z",
     "iopub.status.idle": "2020-06-16T15:14:24.856919Z",
     "shell.execute_reply": "2020-06-16T15:14:24.855634Z",
     "shell.execute_reply.started": "2020-06-16T15:14:24.848079Z"
    },
    "jupyter": {
     "outputs_hidden": false
    },
    "pycharm": {
     "name": "#%%\n"
    }
   },
   "outputs": [
    {
     "data": {
      "text/plain": [
       "<tf.Tensor: shape=(2,), dtype=float32, numpy=array([1., 6.], dtype=float32)>"
      ]
     },
     "execution_count": 9,
     "metadata": {},
     "output_type": "execute_result"
    }
   ],
   "source": [
    "tf.minimum(a, b)"
   ]
  },
  {
   "cell_type": "markdown",
   "metadata": {},
   "source": [
    "### 向量运算"
   ]
  },
  {
   "cell_type": "code",
   "execution_count": 10,
   "metadata": {
    "collapsed": false,
    "execution": {
     "iopub.execute_input": "2020-06-16T15:14:25.817199Z",
     "iopub.status.busy": "2020-06-16T15:14:25.816704Z",
     "iopub.status.idle": "2020-06-16T15:14:25.839798Z",
     "shell.execute_reply": "2020-06-16T15:14:25.838697Z",
     "shell.execute_reply.started": "2020-06-16T15:14:25.817138Z"
    },
    "jupyter": {
     "outputs_hidden": false
    },
    "pycharm": {
     "name": "#%%\n"
    }
   },
   "outputs": [
    {
     "name": "stdout",
     "output_type": "stream",
     "text": [
      "TensorShape([9])\n",
      "sum=45\n",
      "mean=5\n",
      "max=9\n",
      "min=1\n",
      "逐元素连乘=362880\n"
     ]
    }
   ],
   "source": [
    "#向量reduce\n",
    "a = tf.range(1, 10)\n",
    "tf.print(a.shape)\n",
    "tf.print(f\"sum={tf.reduce_sum(a)}\")\n",
    "tf.print(f\"mean={tf.reduce_mean(a)}\")\n",
    "tf.print(f\"max={tf.reduce_max(a)}\")\n",
    "tf.print(f\"min={tf.reduce_min(a)}\")\n",
    "tf.print(f\"逐元素连乘={tf.reduce_prod(a)}\")"
   ]
  },
  {
   "cell_type": "code",
   "execution_count": 11,
   "metadata": {
    "collapsed": false,
    "execution": {
     "iopub.execute_input": "2020-06-16T15:14:26.433508Z",
     "iopub.status.busy": "2020-06-16T15:14:26.433000Z",
     "iopub.status.idle": "2020-06-16T15:14:26.451829Z",
     "shell.execute_reply": "2020-06-16T15:14:26.450731Z",
     "shell.execute_reply.started": "2020-06-16T15:14:26.433450Z"
    },
    "jupyter": {
     "outputs_hidden": false
    },
    "pycharm": {
     "name": "#%%\n"
    }
   },
   "outputs": [
    {
     "name": "stdout",
     "output_type": "stream",
     "text": [
      "[[1 2 3]\n",
      " [4 5 6]\n",
      " [7 8 9]]\n",
      "\n",
      "[[6]\n",
      " [15]\n",
      " [24]]\n",
      "\n",
      "[[12 15 18]]\n",
      "\n",
      "[12 15 18]\n"
     ]
    }
   ],
   "source": [
    "#张量指定维度进行reduce\n",
    "b = tf.reshape(a, (3, 3))\n",
    "tf.print(b)\n",
    "print()\n",
    "tf.print(tf.reduce_sum(b, axis=1, keepdims=True))\n",
    "print()\n",
    "tf.print(tf.reduce_sum(b, axis=0, keepdims=True))\n",
    "print()\n",
    "tf.print(tf.reduce_sum(b, axis=0))"
   ]
  },
  {
   "cell_type": "code",
   "execution_count": 12,
   "metadata": {
    "collapsed": false,
    "execution": {
     "iopub.execute_input": "2020-06-16T15:14:27.079919Z",
     "iopub.status.busy": "2020-06-16T15:14:27.079489Z",
     "iopub.status.idle": "2020-06-16T15:14:27.091583Z",
     "shell.execute_reply": "2020-06-16T15:14:27.090464Z",
     "shell.execute_reply.started": "2020-06-16T15:14:27.079861Z"
    },
    "jupyter": {
     "outputs_hidden": false
    },
    "pycharm": {
     "name": "#%%\n"
    }
   },
   "outputs": [
    {
     "name": "stdout",
     "output_type": "stream",
     "text": [
      "0\n",
      "1\n"
     ]
    }
   ],
   "source": [
    "#bool类型的reduce\n",
    "p = tf.constant([True, False, False])\n",
    "q = tf.constant([False, True, False])\n",
    "\n",
    "tf.print(tf.reduce_all(p))\n",
    "tf.print(tf.reduce_any(q))"
   ]
  },
  {
   "cell_type": "code",
   "execution_count": 13,
   "metadata": {
    "collapsed": false,
    "execution": {
     "iopub.execute_input": "2020-06-16T15:14:27.733301Z",
     "iopub.status.busy": "2020-06-16T15:14:27.732873Z",
     "iopub.status.idle": "2020-06-16T15:14:27.745992Z",
     "shell.execute_reply": "2020-06-16T15:14:27.744878Z",
     "shell.execute_reply.started": "2020-06-16T15:14:27.733242Z"
    },
    "jupyter": {
     "outputs_hidden": false
    },
    "pycharm": {
     "name": "#%%\n"
    }
   },
   "outputs": [
    {
     "name": "stdout",
     "output_type": "stream",
     "text": [
      "45\n"
     ]
    }
   ],
   "source": [
    "#利用tf.foldr实现tf.reduce_sum\n",
    "\n",
    "s = tf.foldr(lambda a, b: a + b, a)\n",
    "tf.print(s)"
   ]
  },
  {
   "cell_type": "code",
   "execution_count": 14,
   "metadata": {
    "collapsed": false,
    "execution": {
     "iopub.execute_input": "2020-06-16T15:14:28.393048Z",
     "iopub.status.busy": "2020-06-16T15:14:28.392620Z",
     "iopub.status.idle": "2020-06-16T15:14:28.406136Z",
     "shell.execute_reply": "2020-06-16T15:14:28.405053Z",
     "shell.execute_reply.started": "2020-06-16T15:14:28.392990Z"
    },
    "jupyter": {
     "outputs_hidden": false
    },
    "pycharm": {
     "name": "#%%\n"
    }
   },
   "outputs": [
    {
     "name": "stdout",
     "output_type": "stream",
     "text": [
      "[1 2 3 ... 7 8 9]\n",
      "[1 3 6 ... 28 36 45]\n",
      "[1 2 6 ... 5040 40320 362880]\n"
     ]
    }
   ],
   "source": [
    "#cum扫描累积, 逐元素 累加 / 累乘\n",
    "a = tf.range(1, 10)\n",
    "tf.print(a)\n",
    "tf.print(tf.math.cumsum(a))\n",
    "tf.print(tf.math.cumprod(a))"
   ]
  },
  {
   "cell_type": "code",
   "execution_count": 15,
   "metadata": {
    "collapsed": false,
    "execution": {
     "iopub.execute_input": "2020-06-16T15:14:29.053414Z",
     "iopub.status.busy": "2020-06-16T15:14:29.052965Z",
     "iopub.status.idle": "2020-06-16T15:14:29.081778Z",
     "shell.execute_reply": "2020-06-16T15:14:29.080715Z",
     "shell.execute_reply.started": "2020-06-16T15:14:29.053355Z"
    },
    "jupyter": {
     "outputs_hidden": false
    },
    "pycharm": {
     "name": "#%%\n"
    }
   },
   "outputs": [
    {
     "name": "stdout",
     "output_type": "stream",
     "text": [
      "[1 2 3 ... 7 8 9]\n",
      "8\n",
      "0\n",
      "\n",
      "[[1 3 8]\n",
      " [8 0 3]\n",
      " [2 7 4]]\n",
      "\n",
      "max val index=[1 2 0]\n",
      "min val index=[0 1 1]\n",
      "\n",
      "max val index=[2 0 1]\n",
      "min val index=[0 1 0]\n"
     ]
    }
   ],
   "source": [
    "#arg 最大 / 最小值 所在位置的索引\n",
    "a = tf.range(1, 10)\n",
    "tf.print(a)\n",
    "tf.print(tf.argmax(a))\n",
    "tf.print(tf.argmin(a))\n",
    "print()\n",
    "\n",
    "a = tf.random.uniform(shape=(3, 3), minval=0, maxval=10, dtype=tf.int32)\n",
    "tf.print(a)\n",
    "print()\n",
    "tf.print(f\"max val index={tf.argmax(a)}\")\n",
    "tf.print(f\"min val index={tf.argmin(a)}\")\n",
    "print()\n",
    "tf.print(f\"max val index={tf.argmax(a, axis=1)}\")\n",
    "tf.print(f\"min val index={tf.argmin(a, axis=1)}\")"
   ]
  },
  {
   "cell_type": "code",
   "execution_count": 16,
   "metadata": {
    "collapsed": false,
    "execution": {
     "iopub.execute_input": "2020-06-16T15:14:29.625398Z",
     "iopub.status.busy": "2020-06-16T15:14:29.624860Z",
     "iopub.status.idle": "2020-06-16T15:14:29.638001Z",
     "shell.execute_reply": "2020-06-16T15:14:29.636927Z",
     "shell.execute_reply.started": "2020-06-16T15:14:29.625336Z"
    },
    "jupyter": {
     "outputs_hidden": false
    },
    "pycharm": {
     "name": "#%%\n"
    }
   },
   "outputs": [
    {
     "name": "stdout",
     "output_type": "stream",
     "text": [
      "top k val = [8 7 5]\n",
      "top k val index = [5 2 3]\n"
     ]
    }
   ],
   "source": [
    "#tf.math.top_k可以用于对张量排序\n",
    "a = tf.constant([1, 3, 7, 5, 4, 8])\n",
    "\n",
    "values, indices = tf.math.top_k(a, 3, sorted=True)\n",
    "tf.print(f\"top k val = {values}\")\n",
    "tf.print(f\"top k val index = {indices}\")\n",
    "\n",
    "#利用tf.math.top_k可以在TensorFlow中实现KNN算法"
   ]
  },
  {
   "cell_type": "markdown",
   "metadata": {},
   "source": [
    "### 矩阵运算"
   ]
  },
  {
   "cell_type": "markdown",
   "metadata": {},
   "source": [
    "矩阵运算包括：\n",
    "- 矩阵乘法\n",
    "- 矩阵转置\n",
    "- 矩阵求逆\n",
    "- 矩阵求迹\n",
    "- 矩阵范数\n",
    "- 矩阵行列式\n",
    "- 矩阵求特征值\n",
    "- 矩阵分解\n",
    "- ...\n",
    "\n",
    "除了一些常用的运算外，大部分和矩阵有关的运算都在 **tf.linalg子包** 中。"
   ]
  },
  {
   "cell_type": "code",
   "execution_count": 17,
   "metadata": {
    "collapsed": false,
    "execution": {
     "iopub.execute_input": "2020-06-16T15:14:31.611141Z",
     "iopub.status.busy": "2020-06-16T15:14:31.610707Z",
     "iopub.status.idle": "2020-06-16T15:14:31.629044Z",
     "shell.execute_reply": "2020-06-16T15:14:31.627952Z",
     "shell.execute_reply.started": "2020-06-16T15:14:31.611083Z"
    },
    "jupyter": {
     "outputs_hidden": false
    },
    "pycharm": {
     "name": "#%%\n"
    }
   },
   "outputs": [
    {
     "name": "stdout",
     "output_type": "stream",
     "text": [
      "【a】 shape = (2, 2)\n",
      "【a】 =\n",
      "[[1 3]\n",
      " [5 7]]\n",
      "\n",
      "【b】 shape = (2, 2)\n",
      "【b】 =\n",
      "[[2 4]\n",
      " [6 8]]\n",
      "\n",
      "【c】 shape = (2, 2)\n",
      "【c】 =\n",
      "[[20 28]\n",
      " [52 76]]\n",
      "\n",
      "【c】 shape = (2, 2)\n",
      "【c】 =\n",
      "[[20 28]\n",
      " [52 76]]\n",
      "\n"
     ]
    }
   ],
   "source": [
    "#矩阵乘法\n",
    "a = tf.constant([[1, 3], [5, 7]])\n",
    "b = tf.constant([[2, 4], [6, 8]])\n",
    "print(f\"【a】 shape = {a.shape}\")\n",
    "print(f\"【a】 =\\n{a}\")\n",
    "print()\n",
    "print(f\"【b】 shape = {b.shape}\")\n",
    "print(f\"【b】 =\\n{b}\")\n",
    "print()\n",
    "\n",
    "c = tf.matmul(a, b)\n",
    "print(f\"【c】 shape = {c.shape}\")\n",
    "print(f\"【c】 =\\n{c}\")\n",
    "print()\n",
    "\n",
    "c = a@b  #等价于tf.matmul(a,b)\n",
    "print(f\"【c】 shape = {c.shape}\")\n",
    "print(f\"【c】 =\\n{c}\")\n",
    "print()"
   ]
  },
  {
   "cell_type": "code",
   "execution_count": 18,
   "metadata": {
    "collapsed": false,
    "execution": {
     "iopub.execute_input": "2020-06-16T15:14:31.996188Z",
     "iopub.status.busy": "2020-06-16T15:14:31.995815Z",
     "iopub.status.idle": "2020-06-16T15:14:32.004968Z",
     "shell.execute_reply": "2020-06-16T15:14:32.003894Z",
     "shell.execute_reply.started": "2020-06-16T15:14:31.996138Z"
    },
    "jupyter": {
     "outputs_hidden": false
    },
    "pycharm": {
     "name": "#%%\n"
    }
   },
   "outputs": [
    {
     "name": "stdout",
     "output_type": "stream",
     "text": [
      "矩阵的zhuanzhi:\n",
      "【c】 shape = (2, 2)\n",
      "【c】 =\n",
      "[[20 52]\n",
      " [28 76]]\n",
      "\n"
     ]
    }
   ],
   "source": [
    "#矩阵转置\n",
    "c = tf.transpose(c)\n",
    "print(\"矩阵的zhuanzhi:\")\n",
    "print(f\"【c】 shape = {c.shape}\")\n",
    "print(f\"【c】 =\\n{c}\")\n",
    "print()"
   ]
  },
  {
   "cell_type": "code",
   "execution_count": 19,
   "metadata": {
    "collapsed": false,
    "execution": {
     "iopub.execute_input": "2020-06-16T15:14:32.362766Z",
     "iopub.status.busy": "2020-06-16T15:14:32.362249Z",
     "iopub.status.idle": "2020-06-16T15:14:32.375528Z",
     "shell.execute_reply": "2020-06-16T15:14:32.374414Z",
     "shell.execute_reply.started": "2020-06-16T15:14:32.362710Z"
    },
    "jupyter": {
     "outputs_hidden": false
    },
    "pycharm": {
     "name": "#%%\n"
    }
   },
   "outputs": [
    {
     "name": "stdout",
     "output_type": "stream",
     "text": [
      "【a】 shape = (2, 2)\n",
      "【a】 =\n",
      "[[1. 2.]\n",
      " [3. 4.]]\n",
      "\n",
      "矩阵求逆:\n",
      "【b】 shape = (2, 2)\n",
      "【b】 =\n",
      "[[-2.0000002   1.0000001 ]\n",
      " [ 1.5000001  -0.50000006]]\n",
      "\n"
     ]
    }
   ],
   "source": [
    "#矩阵求逆，必须为tf.float32或tf.double类型\n",
    "a = tf.constant([[1.0,  2], [3.0, 4]], dtype = tf.float32)\n",
    "print(f\"【a】 shape = {a.shape}\")\n",
    "print(f\"【a】 =\\n{a}\")\n",
    "print()\n",
    "\n",
    "b = tf.linalg.inv(a)\n",
    "print(\"矩阵求逆:\")\n",
    "print(f\"【b】 shape = {b.shape}\")\n",
    "print(f\"【b】 =\\n{b}\")\n",
    "print()"
   ]
  },
  {
   "cell_type": "code",
   "execution_count": 20,
   "metadata": {
    "collapsed": false,
    "execution": {
     "iopub.execute_input": "2020-06-16T15:14:32.751592Z",
     "iopub.status.busy": "2020-06-16T15:14:32.751152Z",
     "iopub.status.idle": "2020-06-16T15:14:32.764174Z",
     "shell.execute_reply": "2020-06-16T15:14:32.763070Z",
     "shell.execute_reply.started": "2020-06-16T15:14:32.751535Z"
    },
    "jupyter": {
     "outputs_hidden": false
    },
    "pycharm": {
     "name": "#%%\n"
    }
   },
   "outputs": [
    {
     "name": "stdout",
     "output_type": "stream",
     "text": [
      "【a】 shape = (2, 2)\n",
      "【a】 =\n",
      "[[1. 2.]\n",
      " [3. 4.]]\n",
      "\n",
      "矩阵求迹:\n",
      "【b】 shape = ()\n",
      "【b】 =\n",
      "5.0\n",
      "\n"
     ]
    }
   ],
   "source": [
    "#矩阵求迹(trace)\n",
    "a = tf.constant([[1.0, 2], [3, 4]])\n",
    "print(f\"【a】 shape = {a.shape}\")\n",
    "print(f\"【a】 =\\n{a}\")\n",
    "print()\n",
    "\n",
    "b = tf.linalg.trace(a)\n",
    "print(\"矩阵求迹:\")\n",
    "print(f\"【b】 shape = {b.shape}\")\n",
    "print(f\"【b】 =\\n{b}\")\n",
    "print()"
   ]
  },
  {
   "cell_type": "code",
   "execution_count": 21,
   "metadata": {
    "collapsed": false,
    "execution": {
     "iopub.execute_input": "2020-06-16T15:14:33.101771Z",
     "iopub.status.busy": "2020-06-16T15:14:33.101376Z",
     "iopub.status.idle": "2020-06-16T15:14:33.113307Z",
     "shell.execute_reply": "2020-06-16T15:14:33.112278Z",
     "shell.execute_reply.started": "2020-06-16T15:14:33.101720Z"
    },
    "jupyter": {
     "outputs_hidden": false
    },
    "pycharm": {
     "name": "#%%\n"
    }
   },
   "outputs": [
    {
     "name": "stdout",
     "output_type": "stream",
     "text": [
      "【a】 shape = (2, 2)\n",
      "【a】 =\n",
      "[[1. 2.]\n",
      " [3. 4.]]\n",
      "\n",
      "矩阵求范数:\n",
      "【b】 shape = ()\n",
      "【b】 =\n",
      "5.4772257804870605\n",
      "\n"
     ]
    }
   ],
   "source": [
    "#矩阵求范数\n",
    "a = tf.constant([[1.0, 2], [3, 4]])\n",
    "print(f\"【a】 shape = {a.shape}\")\n",
    "print(f\"【a】 =\\n{a}\")\n",
    "print()\n",
    "\n",
    "b = tf.linalg.norm(a)\n",
    "print(\"矩阵求范数:\")\n",
    "print(f\"【b】 shape = {b.shape}\")\n",
    "print(f\"【b】 =\\n{b}\")\n",
    "print()"
   ]
  },
  {
   "cell_type": "code",
   "execution_count": 22,
   "metadata": {
    "collapsed": false,
    "execution": {
     "iopub.execute_input": "2020-06-16T15:14:33.481584Z",
     "iopub.status.busy": "2020-06-16T15:14:33.481191Z",
     "iopub.status.idle": "2020-06-16T15:14:33.492552Z",
     "shell.execute_reply": "2020-06-16T15:14:33.491387Z",
     "shell.execute_reply.started": "2020-06-16T15:14:33.481533Z"
    },
    "jupyter": {
     "outputs_hidden": false
    },
    "pycharm": {
     "name": "#%%\n"
    }
   },
   "outputs": [
    {
     "name": "stdout",
     "output_type": "stream",
     "text": [
      "【a】 shape = (2, 2)\n",
      "【a】 =\n",
      "[[1. 2.]\n",
      " [3. 4.]]\n",
      "\n",
      "矩阵求行列式:\n",
      "【b】 shape = ()\n",
      "【b】 =\n",
      "-2.0\n",
      "\n"
     ]
    }
   ],
   "source": [
    "#矩阵求行列式\n",
    "a = tf.constant([[1.0, 2], [3, 4]])\n",
    "print(f\"【a】 shape = {a.shape}\")\n",
    "print(f\"【a】 =\\n{a}\")\n",
    "print()\n",
    "\n",
    "b = tf.linalg.det(a)\n",
    "print(\"矩阵求行列式:\")\n",
    "print(f\"【b】 shape = {b.shape}\")\n",
    "print(f\"【b】 =\\n{b}\")\n",
    "print()"
   ]
  },
  {
   "cell_type": "code",
   "execution_count": 23,
   "metadata": {
    "collapsed": false,
    "execution": {
     "iopub.execute_input": "2020-06-16T15:14:33.854516Z",
     "iopub.status.busy": "2020-06-16T15:14:33.854126Z",
     "iopub.status.idle": "2020-06-16T15:14:33.865868Z",
     "shell.execute_reply": "2020-06-16T15:14:33.864834Z",
     "shell.execute_reply.started": "2020-06-16T15:14:33.854465Z"
    },
    "jupyter": {
     "outputs_hidden": false
    },
    "pycharm": {
     "name": "#%%\n"
    }
   },
   "outputs": [
    {
     "name": "stdout",
     "output_type": "stream",
     "text": [
      "【a】 shape = (2, 2)\n",
      "【a】 =\n",
      "[[1. 2.]\n",
      " [3. 4.]]\n",
      "\n",
      "矩阵求特征值:\n",
      "【b】 shape = (2,)\n",
      "【b】 =\n",
      "[-0.8541021  5.854102 ]\n",
      "\n"
     ]
    }
   ],
   "source": [
    "#矩阵求特征值\n",
    "a = tf.constant([[1.0, 2], [3, 4]], dtype=tf.float32)\n",
    "print(f\"【a】 shape = {a.shape}\")\n",
    "print(f\"【a】 =\\n{a}\")\n",
    "print()\n",
    "\n",
    "b = tf.linalg.eigvalsh(a)\n",
    "print(\"矩阵求特征值:\")\n",
    "print(f\"【b】 shape = {b.shape}\")\n",
    "print(f\"【b】 =\\n{b}\")\n",
    "print()"
   ]
  },
  {
   "cell_type": "code",
   "execution_count": 24,
   "metadata": {
    "collapsed": false,
    "execution": {
     "iopub.execute_input": "2020-06-16T15:14:34.241301Z",
     "iopub.status.busy": "2020-06-16T15:14:34.240949Z",
     "iopub.status.idle": "2020-06-16T15:14:34.290350Z",
     "shell.execute_reply": "2020-06-16T15:14:34.289442Z",
     "shell.execute_reply.started": "2020-06-16T15:14:34.241253Z"
    },
    "jupyter": {
     "outputs_hidden": false
    },
    "pycharm": {
     "name": "#%%\n"
    }
   },
   "outputs": [
    {
     "name": "stdout",
     "output_type": "stream",
     "text": [
      "【a】 shape = (2, 2)\n",
      "【a】 =\n",
      "[[1. 2.]\n",
      " [3. 4.]]\n",
      "\n",
      "矩阵求qr分解:\n",
      "【b】 shape = (2, 2)\n",
      "【b】 =\n",
      "[[-0.3162278  -0.9486833 ]\n",
      " [-0.9486833   0.31622773]]\n",
      "\n",
      "【c】 shape = (2, 2)\n",
      "【c】 =\n",
      "[[-3.1622777  -4.4271884 ]\n",
      " [ 0.         -0.63245535]]\n",
      "\n",
      "【b@c】 shape = (2, 2)\n",
      "【b@c】 =\n",
      "[[1.0000001 1.9999998]\n",
      " [3.        4.       ]]\n",
      "\n"
     ]
    }
   ],
   "source": [
    "#矩阵求qr分解\n",
    "a = tf.constant([[1.0, 2], [3, 4]], dtype=tf.float32)\n",
    "print(f\"【a】 shape = {a.shape}\")\n",
    "print(f\"【a】 =\\n{a}\")\n",
    "print()\n",
    "\n",
    "b, c = tf.linalg.qr(a)\n",
    "print(\"矩阵求qr分解:\")\n",
    "print(f\"【b】 shape = {b.shape}\")\n",
    "print(f\"【b】 =\\n{b}\")\n",
    "print()\n",
    "print(f\"【c】 shape = {c.shape}\")\n",
    "print(f\"【c】 =\\n{c}\")\n",
    "print()\n",
    "\n",
    "d = b @ c\n",
    "print(f\"【b@c】 shape = {d.shape}\")\n",
    "print(f\"【b@c】 =\\n{d}\")\n",
    "print()"
   ]
  },
  {
   "cell_type": "code",
   "execution_count": 25,
   "metadata": {
    "collapsed": false,
    "execution": {
     "iopub.execute_input": "2020-06-16T15:14:34.652971Z",
     "iopub.status.busy": "2020-06-16T15:14:34.652492Z",
     "iopub.status.idle": "2020-06-16T15:14:34.676213Z",
     "shell.execute_reply": "2020-06-16T15:14:34.675071Z",
     "shell.execute_reply.started": "2020-06-16T15:14:34.652916Z"
    },
    "jupyter": {
     "outputs_hidden": false
    },
    "pycharm": {
     "name": "#%%\n"
    }
   },
   "outputs": [
    {
     "name": "stdout",
     "output_type": "stream",
     "text": [
      "【a】 shape = (2, 2)\n",
      "【a】 =\n",
      "[[1. 2.]\n",
      " [3. 4.]]\n",
      "\n",
      "矩阵求SVD分解:\n",
      "【v】 shape = (2,)\n",
      "【v】 =\n",
      "[5.4649854  0.36596614]\n",
      "\n",
      "【s】 shape = (2, 2)\n",
      "【s】 =\n",
      "[[ 0.4045535 -0.9145143]\n",
      " [ 0.9145143  0.4045535]]\n",
      "\n",
      "【d】 shape = (2, 2)\n",
      "【d】 =\n",
      "[[ 0.5760484  0.8174156]\n",
      " [ 0.8174156 -0.5760484]]\n",
      "\n",
      "【e】 shape = (2, 2)\n",
      "【e】 =\n",
      "[[0.9999996 1.9999996]\n",
      " [2.9999998 4.       ]]\n",
      "\n",
      "【e】 shape = (2, 2)\n",
      "【e】 =\n",
      "[[0.9999996 1.9999996]\n",
      " [2.9999998 4.       ]]\n",
      "\n"
     ]
    }
   ],
   "source": [
    "#矩阵求SVD分解\n",
    "a = tf.constant([[1.0, 2], [3, 4]], dtype=tf.float32)\n",
    "print(f\"【a】 shape = {a.shape}\")\n",
    "print(f\"【a】 =\\n{a}\")\n",
    "print()\n",
    "\n",
    "v, s, d = tf.linalg.svd(a)\n",
    "print(\"矩阵求SVD分解:\")\n",
    "print(f\"【v】 shape = {v.shape}\")\n",
    "print(f\"【v】 =\\n{v}\")\n",
    "print()\n",
    "print(f\"【s】 shape = {s.shape}\")\n",
    "print(f\"【s】 =\\n{s}\")\n",
    "print()\n",
    "print(f\"【d】 shape = {d.shape}\")\n",
    "print(f\"【d】 =\\n{d}\")\n",
    "print()\n",
    "\n",
    "e = tf.matmul(tf.matmul(s, tf.linalg.diag(v)), d)\n",
    "print(f\"【e】 shape = {e.shape}\")\n",
    "print(f\"【e】 =\\n{e}\")\n",
    "print()\n",
    "e = s @ tf.linalg.diag(v) @ d\n",
    "print(f\"【e】 shape = {e.shape}\")\n",
    "print(f\"【e】 =\\n{e}\")\n",
    "print()"
   ]
  },
  {
   "cell_type": "markdown",
   "metadata": {},
   "source": [
    "### 广播机制"
   ]
  },
  {
   "cell_type": "markdown",
   "metadata": {},
   "source": [
    "TensorFlow的广播规则和numpy是一样的:\n",
    "\n",
    "1. 若两个张量的维度长度不同，需将维度较小的张量扩展至较大张量的维度长度；\n",
    "2. 若两个张量在某个维度上的长度是相同的，或其中一个张量在该维度上的长度为1，则称两个张量在该维度上是相容的；\n",
    "3. 若两个张量在所有维度上都是相容的，它们就能使用广播机制；\n",
    "4. 将某维度长度较小的张量扩充至较大维度长度，即对维度长度较小的张量，在该维度方向进行复制，只到维度长度一致；\n",
    "5. 广播之后，每个维度的长度将取两个张量在该维度长度的较大值；\n"
   ]
  },
  {
   "cell_type": "code",
   "execution_count": 26,
   "metadata": {
    "collapsed": false,
    "execution": {
     "iopub.execute_input": "2020-06-16T15:14:36.346592Z",
     "iopub.status.busy": "2020-06-16T15:14:36.346076Z",
     "iopub.status.idle": "2020-06-16T15:14:36.367837Z",
     "shell.execute_reply": "2020-06-16T15:14:36.366490Z",
     "shell.execute_reply.started": "2020-06-16T15:14:36.346528Z"
    },
    "jupyter": {
     "outputs_hidden": false
    },
    "pycharm": {
     "name": "#%%\n"
    }
   },
   "outputs": [
    {
     "name": "stdout",
     "output_type": "stream",
     "text": [
      "【a】 shape = (3,)\n",
      "【a】 =\n",
      "[1 2 3]\n",
      "\n",
      "【b】 shape = (3, 3)\n",
      "【b】 =\n",
      "[[0 0 0]\n",
      " [1 1 1]\n",
      " [2 2 2]]\n",
      "\n",
      "【c】 shape = (3, 3)\n",
      "【c】 =\n",
      "[[1 2 3]\n",
      " [1 2 3]\n",
      " [1 2 3]]\n",
      "\n",
      "【d】 shape = (3, 3)\n",
      "【d】 =\n",
      "[[1 2 3]\n",
      " [2 3 4]\n",
      " [3 4 5]]\n",
      "\n",
      "【d】 shape = (3, 3)\n",
      "【d】 =\n",
      "[[1 2 3]\n",
      " [2 3 4]\n",
      " [3 4 5]]\n",
      "\n"
     ]
    }
   ],
   "source": [
    "a = tf.constant([1, 2, 3])\n",
    "b = tf.constant([[0, 0, 0], [1, 1, 1], [2, 2, 2]])\n",
    "c = tf.broadcast_to(a, b.shape)\n",
    "print(f\"【a】 shape = {a.shape}\")\n",
    "print(f\"【a】 =\\n{a}\")\n",
    "print()\n",
    "print(f\"【b】 shape = {b.shape}\")\n",
    "print(f\"【b】 =\\n{b}\")\n",
    "print()\n",
    "print(f\"【c】 shape = {c.shape}\")\n",
    "print(f\"【c】 =\\n{c}\")\n",
    "print()\n",
    "\n",
    "d = a + b # 等价于 b + tf.broadcast_to(a,b.shape)\n",
    "print(f\"【d】 shape = {d.shape}\")\n",
    "print(f\"【d】 =\\n{d}\")\n",
    "print()\n",
    "\n",
    "d = b + c\n",
    "print(f\"【d】 shape = {d.shape}\")\n",
    "print(f\"【d】 =\\n{d}\")\n",
    "print()"
   ]
  },
  {
   "cell_type": "code",
   "execution_count": 27,
   "metadata": {
    "collapsed": false,
    "execution": {
     "iopub.execute_input": "2020-06-16T15:14:37.209671Z",
     "iopub.status.busy": "2020-06-16T15:14:37.209224Z",
     "iopub.status.idle": "2020-06-16T15:14:37.217903Z",
     "shell.execute_reply": "2020-06-16T15:14:37.216402Z",
     "shell.execute_reply.started": "2020-06-16T15:14:37.209614Z"
    },
    "jupyter": {
     "outputs_hidden": false
    },
    "pycharm": {
     "name": "#%%\n"
    }
   },
   "outputs": [
    {
     "data": {
      "text/plain": [
       "TensorShape([3, 3])"
      ]
     },
     "execution_count": 27,
     "metadata": {},
     "output_type": "execute_result"
    }
   ],
   "source": [
    "#计算广播后计算结果的形状，静态形状，TensorShape类型参数\n",
    "tf.broadcast_static_shape(a.shape, b.shape)"
   ]
  },
  {
   "cell_type": "code",
   "execution_count": 28,
   "metadata": {
    "collapsed": false,
    "execution": {
     "iopub.execute_input": "2020-06-16T15:14:38.918076Z",
     "iopub.status.busy": "2020-06-16T15:14:38.917530Z",
     "iopub.status.idle": "2020-06-16T15:14:38.930196Z",
     "shell.execute_reply": "2020-06-16T15:14:38.928802Z",
     "shell.execute_reply.started": "2020-06-16T15:14:38.918015Z"
    },
    "jupyter": {
     "outputs_hidden": false
    },
    "pycharm": {
     "name": "#%%\n"
    }
   },
   "outputs": [
    {
     "data": {
      "text/plain": [
       "<tf.Tensor: shape=(2,), dtype=int32, numpy=array([3, 3], dtype=int32)>"
      ]
     },
     "execution_count": 28,
     "metadata": {},
     "output_type": "execute_result"
    }
   ],
   "source": [
    "#计算广播后计算结果的形状，动态形状，Tensor类型参数\n",
    "c = tf.constant([1, 2, 3])\n",
    "d = tf.constant([[1], [2], [3]])\n",
    "tf.broadcast_dynamic_shape(tf.shape(c), tf.shape(d))\n",
    "\n",
    "\n"
   ]
  },
  {
   "cell_type": "code",
   "execution_count": null,
   "metadata": {},
   "outputs": [],
   "source": []
  }
 ],
 "metadata": {
  "kernelspec": {
   "display_name": "tf2",
   "language": "python",
   "name": "tf2"
  },
  "language_info": {
   "codemirror_mode": {
    "name": "ipython",
    "version": 3
   },
   "file_extension": ".py",
   "mimetype": "text/x-python",
   "name": "python",
   "nbconvert_exporter": "python",
   "pygments_lexer": "ipython3",
   "version": "3.7.7"
  }
 },
 "nbformat": 4,
 "nbformat_minor": 4
}

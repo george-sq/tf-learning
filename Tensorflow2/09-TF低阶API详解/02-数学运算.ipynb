{
 "cells": [
  {
   "cell_type": "markdown",
   "source": [
    "# 张量(Tensor)的数学运算"
   ],
   "metadata": {
    "collapsed": false
   }
  },
  {
   "cell_type": "code",
   "execution_count": null,
   "outputs": [],
   "source": [
    "import os\n",
    "\n",
    "import tensorflow as tf\n",
    "import numpy as np\n",
    "\n",
    "os.environ[\"CUDA_VISIBLE_DEVICES\"] = \"3\"\n",
    "tf.__version__"
   ],
   "metadata": {
    "collapsed": false,
    "pycharm": {
     "name": "#%%\n"
    }
   }
  },
  {
   "cell_type": "markdown",
   "source": [
    "张量数学运算主要有：\n",
    "- **标量运算**\n",
    "- **向量运算**\n",
    "- **矩阵运算**\n",
    "- **张量运算的广播机制**"
   ],
   "metadata": {
    "collapsed": false
   }
  },
  {
   "cell_type": "markdown",
   "source": [
    "### 标量运算\n",
    "\n",
    "加、减、乘、除、乘方，以及三角函数，指数，对数等常见函数，逻辑比较运算符等都是标量运算；\n",
    "\n",
    "【标量运算符】的特点是 **对张量实施逐元素运算**；"
   ],
   "metadata": {
    "collapsed": false
   }
  },
  {
   "cell_type": "code",
   "execution_count": null,
   "outputs": [],
   "source": [
    "a = tf.constant([[1.0, 2], [-3, 4.0]])\n",
    "b = tf.constant([[5.0, 6], [7.0, 8.0]])\n",
    "# print(f\"【a】 shape = {a.shape}\")\n",
    "print(f\"【a】 =\\n{a}\")\n",
    "print()\n",
    "# print(f\"【b】 shape = {b.shape}\")\n",
    "print(f\"【b】 =\\n{b}\")\n",
    "print()\n",
    "\n",
    "# 加法\n",
    "print(\"【加法】：\")\n",
    "c = a + b  #运算符重载\n",
    "# print(f\"【c】 shape = {c.shape}\")\n",
    "print(f\"【c】 =\\n{c}\")\n",
    "print()\n",
    "\n",
    "# 减法\n",
    "print(\"【减法】：\")\n",
    "c = a - b  #运算符重载\n",
    "# print(f\"【c】 shape = {c.shape}\")\n",
    "print(f\"【c】 =\\n{c}\")\n",
    "print()"
   ],
   "metadata": {
    "collapsed": false,
    "pycharm": {
     "name": "#%%\n"
    }
   }
  },
  {
   "cell_type": "code",
   "execution_count": null,
   "outputs": [],
   "source": [
    "# print(f\"【a】 shape = {a.shape}\")\n",
    "print(f\"【a】 =\\n{a}\")\n",
    "print()\n",
    "# print(f\"【b】 shape = {b.shape}\")\n",
    "print(f\"【b】 =\\n{b}\")\n",
    "print()\n",
    "\n",
    "# 乘法\n",
    "print(\"【乘法】：\")\n",
    "c = a * b  #运算符重载\n",
    "# print(f\"【c】 shape = {c.shape}\")\n",
    "print(f\"【c】 =\\n{c}\")\n",
    "print()\n",
    "\n",
    "# 除法\n",
    "print(\"【除法】：\")\n",
    "c = a / b  #运算符重载\n",
    "# print(f\"【c】 shape = {c.shape}\")\n",
    "print(f\"【c】 =\\n{c}\")\n",
    "print()"
   ],
   "metadata": {
    "collapsed": false,
    "pycharm": {
     "name": "#%%\n"
    }
   }
  },
  {
   "cell_type": "code",
   "execution_count": null,
   "outputs": [],
   "source": [
    "# print(f\"【a】 shape = {a.shape}\")\n",
    "print(f\"【a】 =\\n{a}\")\n",
    "print()\n",
    "# print(f\"【b】 shape = {b.shape}\")\n",
    "print(f\"【b】 =\\n{b}\")\n",
    "print()\n",
    "\n",
    "# 地板除\n",
    "print(\"【地板除】：\")\n",
    "c = a // 2\n",
    "# print(f\"【c】 shape = {c.shape}\")\n",
    "print(f\"【c】 =\\n{c}\")\n",
    "print()\n",
    "\n",
    "# 模运算%\n",
    "print(\"【模运算】：\")\n",
    "c = a % 3\n",
    "# print(f\"【c】 shape = {c.shape}\")\n",
    "print(f\"【c】 =\\n{c}\")\n",
    "print()"
   ],
   "metadata": {
    "collapsed": false,
    "pycharm": {
     "name": "#%%\n"
    }
   }
  },
  {
   "cell_type": "code",
   "execution_count": null,
   "outputs": [],
   "source": [
    "# print(f\"【a】 shape = {a.shape}\")\n",
    "print(f\"【a】 =\\n{a}\")\n",
    "print()\n",
    "\n",
    "c = a ** 2\n",
    "# print(f\"【c】 shape = {c.shape}\")\n",
    "print(f\"【c】 =\\n{c}\")\n",
    "print()\n",
    "\n",
    "c = a ** (0.5)\n",
    "# print(f\"【c】 shape = {c.shape}\")\n",
    "print(f\"【c】 =\\n{c}\")\n",
    "print()\n",
    "\n",
    "c = tf.sqrt(a)\n",
    "# print(f\"【c】 shape = {c.shape}\")\n",
    "print(f\"【c】 =\\n{c}\")\n",
    "print()"
   ],
   "metadata": {
    "collapsed": false,
    "pycharm": {
     "name": "#%%\n"
    }
   }
  },
  {
   "cell_type": "code",
   "execution_count": null,
   "outputs": [],
   "source": [
    "# 逻辑运算\n",
    "\n",
    "# print(f\"【a】 shape = {a.shape}\")\n",
    "print(f\"【a】 =\\n{a}\")\n",
    "print()\n",
    "\n",
    "c = (a > 2)\n",
    "# print(f\"【c】 shape = {c.shape}\")\n",
    "print(f\"【c】 =\\n{c}\")\n",
    "print()\n",
    "\n",
    "c = (a >= 2) & (a <= 4)\n",
    "# print(f\"【c】 shape = {c.shape}\")\n",
    "print(f\"【c】 =\\n{c}\")\n",
    "print()\n",
    "\n",
    "c = (a >= 2) | (a <= 3)\n",
    "# print(f\"【c】 shape = {c.shape}\")\n",
    "print(f\"【c】 =\\n{c}\")\n",
    "print()\n",
    "\n",
    "c = (a == 2)\n",
    "# print(f\"【c】 shape = {c.shape}\")\n",
    "print(f\"【c】 =\\n{c}\")\n",
    "print()"
   ],
   "metadata": {
    "collapsed": false,
    "pycharm": {
     "name": "#%%\n"
    }
   }
  },
  {
   "cell_type": "code",
   "execution_count": null,
   "outputs": [],
   "source": [
    "# 其他\n",
    "a = tf.constant([1.0, 8.0])\n",
    "b = tf.constant([5.0, 6.0])\n",
    "c = tf.constant([6.0, 7.0])\n",
    "tf.add_n([a, b, c])"
   ],
   "metadata": {
    "collapsed": false,
    "pycharm": {
     "name": "#%%\n"
    }
   }
  },
  {
   "cell_type": "code",
   "execution_count": null,
   "outputs": [],
   "source": [
    "tf.maximum(a, b)"
   ],
   "metadata": {
    "collapsed": false,
    "pycharm": {
     "name": "#%%\n"
    }
   }
  },
  {
   "cell_type": "code",
   "execution_count": null,
   "outputs": [],
   "source": [
    "tf.minimum(a, b)"
   ],
   "metadata": {
    "collapsed": false,
    "pycharm": {
     "name": "#%%\n"
    }
   }
  },
  {
   "cell_type": "markdown",
   "source": [
    "### 向量运算"
   ],
   "metadata": {
    "collapsed": false
   }
  },
  {
   "cell_type": "code",
   "execution_count": null,
   "outputs": [],
   "source": [
    "#向量reduce\n",
    "a = tf.range(1, 10)\n",
    "tf.print(a.shape)\n",
    "tf.print(f\"sum={tf.reduce_sum(a)}\")\n",
    "tf.print(f\"mean={tf.reduce_mean(a)}\")\n",
    "tf.print(f\"max={tf.reduce_max(a)}\")\n",
    "tf.print(f\"min={tf.reduce_min(a)}\")\n",
    "tf.print(f\"逐元素连乘={tf.reduce_prod(a)}\")"
   ],
   "metadata": {
    "collapsed": false,
    "pycharm": {
     "name": "#%%\n"
    }
   }
  },
  {
   "cell_type": "code",
   "execution_count": null,
   "outputs": [],
   "source": [
    "#张量指定维度进行reduce\n",
    "b = tf.reshape(a, (3, 3))\n",
    "tf.print(b)\n",
    "print()\n",
    "tf.print(tf.reduce_sum(b, axis=1, keepdims=True))\n",
    "print()\n",
    "tf.print(tf.reduce_sum(b, axis=0, keepdims=True))\n",
    "print()\n",
    "tf.print(tf.reduce_sum(b, axis=0))"
   ],
   "metadata": {
    "collapsed": false,
    "pycharm": {
     "name": "#%%\n"
    }
   }
  },
  {
   "cell_type": "code",
   "execution_count": null,
   "outputs": [],
   "source": [
    "#bool类型的reduce\n",
    "p = tf.constant([True, False, False])\n",
    "q = tf.constant([False, True, False])\n",
    "\n",
    "tf.print(tf.reduce_all(p))\n",
    "tf.print(tf.reduce_any(q))"
   ],
   "metadata": {
    "collapsed": false,
    "pycharm": {
     "name": "#%%\n"
    }
   }
  },
  {
   "cell_type": "code",
   "execution_count": null,
   "outputs": [],
   "source": [
    "#利用tf.foldr实现tf.reduce_sum\n",
    "\n",
    "s = tf.foldr(lambda a, b: a + b, a)\n",
    "tf.print(s)"
   ],
   "metadata": {
    "collapsed": false,
    "pycharm": {
     "name": "#%%\n"
    }
   }
  },
  {
   "cell_type": "code",
   "execution_count": null,
   "outputs": [],
   "source": [
    "#cum扫描累积, 逐元素 累加 / 累乘\n",
    "a = tf.range(1, 10)\n",
    "tf.print(a)\n",
    "tf.print(tf.math.cumsum(a))\n",
    "tf.print(tf.math.cumprod(a))"
   ],
   "metadata": {
    "collapsed": false,
    "pycharm": {
     "name": "#%%\n"
    }
   }
  },
  {
   "cell_type": "code",
   "execution_count": null,
   "outputs": [],
   "source": [
    "#arg 最大 / 最小值 所在位置的索引\n",
    "a = tf.range(1, 10)\n",
    "tf.print(a)\n",
    "tf.print(tf.argmax(a))\n",
    "tf.print(tf.argmin(a))\n",
    "print()\n",
    "\n",
    "a = tf.random.uniform(shape=(3, 3), minval=0, maxval=10, dtype=tf.int32)\n",
    "tf.print(a)\n",
    "print()\n",
    "tf.print(f\"max val index={tf.argmax(a)}\")\n",
    "tf.print(f\"min val index={tf.argmin(a)}\")\n",
    "print()\n",
    "tf.print(f\"max val index={tf.argmax(a, axis=1)}\")\n",
    "tf.print(f\"min val index={tf.argmin(a, axis=1)}\")"
   ],
   "metadata": {
    "collapsed": false,
    "pycharm": {
     "name": "#%%\n"
    }
   }
  },
  {
   "cell_type": "code",
   "execution_count": null,
   "outputs": [],
   "source": [
    "#tf.math.top_k可以用于对张量排序\n",
    "a = tf.constant([1, 3, 7, 5, 4, 8])\n",
    "\n",
    "values, indices = tf.math.top_k(a, 3, sorted=True)\n",
    "tf.print(f\"top k val = {values}\")\n",
    "tf.print(f\"top k val index = {indices}\")\n",
    "\n",
    "#利用tf.math.top_k可以在TensorFlow中实现KNN算法"
   ],
   "metadata": {
    "collapsed": false,
    "pycharm": {
     "name": "#%%\n"
    }
   }
  },
  {
   "cell_type": "markdown",
   "source": [
    "### 矩阵运算"
   ],
   "metadata": {
    "collapsed": false
   }
  },
  {
   "cell_type": "markdown",
   "source": [
    "矩阵运算包括：\n",
    "- 矩阵乘法\n",
    "- 矩阵转置\n",
    "- 矩阵求逆\n",
    "- 矩阵求迹\n",
    "- 矩阵范数\n",
    "- 矩阵行列式\n",
    "- 矩阵求特征值\n",
    "- 矩阵分解\n",
    "- ...\n",
    "\n",
    "除了一些常用的运算外，大部分和矩阵有关的运算都在 **tf.linalg子包** 中。"
   ],
   "metadata": {
    "collapsed": false
   }
  },
  {
   "cell_type": "code",
   "execution_count": null,
   "outputs": [],
   "source": [
    "#矩阵乘法\n",
    "a = tf.constant([[1, 3], [5, 7]])\n",
    "b = tf.constant([[2, 4], [6, 8]])\n",
    "print(f\"【a】 shape = {a.shape}\")\n",
    "print(f\"【a】 =\\n{a}\")\n",
    "print()\n",
    "print(f\"【b】 shape = {b.shape}\")\n",
    "print(f\"【b】 =\\n{b}\")\n",
    "print()\n",
    "\n",
    "c = tf.matmul(a, b)\n",
    "print(f\"【c】 shape = {c.shape}\")\n",
    "print(f\"【c】 =\\n{c}\")\n",
    "print()\n",
    "\n",
    "c = a@b  #等价于tf.matmul(a,b)\n",
    "print(f\"【c】 shape = {c.shape}\")\n",
    "print(f\"【c】 =\\n{c}\")\n",
    "print()"
   ],
   "metadata": {
    "collapsed": false,
    "pycharm": {
     "name": "#%%\n"
    }
   }
  },
  {
   "cell_type": "code",
   "execution_count": null,
   "outputs": [],
   "source": [
    "#矩阵转置\n",
    "c = tf.transpose(c)\n",
    "print(\"矩阵的zhuanzhi:\")\n",
    "print(f\"【c】 shape = {c.shape}\")\n",
    "print(f\"【c】 =\\n{c}\")\n",
    "print()"
   ],
   "metadata": {
    "collapsed": false,
    "pycharm": {
     "name": "#%%\n"
    }
   }
  },
  {
   "cell_type": "code",
   "execution_count": null,
   "outputs": [],
   "source": [
    "#矩阵求逆，必须为tf.float32或tf.double类型\n",
    "a = tf.constant([[1.0,  2], [3.0, 4]], dtype = tf.float32)\n",
    "print(f\"【a】 shape = {a.shape}\")\n",
    "print(f\"【a】 =\\n{a}\")\n",
    "print()\n",
    "\n",
    "b = tf.linalg.inv(a)\n",
    "print(\"矩阵求逆:\")\n",
    "print(f\"【b】 shape = {b.shape}\")\n",
    "print(f\"【b】 =\\n{b}\")\n",
    "print()"
   ],
   "metadata": {
    "collapsed": false,
    "pycharm": {
     "name": "#%%\n"
    }
   }
  },
  {
   "cell_type": "code",
   "execution_count": null,
   "outputs": [],
   "source": [
    "#矩阵求迹(trace)\n",
    "a = tf.constant([[1.0, 2], [3, 4]])\n",
    "print(f\"【a】 shape = {a.shape}\")\n",
    "print(f\"【a】 =\\n{a}\")\n",
    "print()\n",
    "\n",
    "b = tf.linalg.trace(a)\n",
    "print(\"矩阵求迹:\")\n",
    "print(f\"【b】 shape = {b.shape}\")\n",
    "print(f\"【b】 =\\n{b}\")\n",
    "print()"
   ],
   "metadata": {
    "collapsed": false,
    "pycharm": {
     "name": "#%%\n"
    }
   }
  },
  {
   "cell_type": "code",
   "execution_count": null,
   "outputs": [],
   "source": [
    "#矩阵求范数\n",
    "a = tf.constant([[1.0, 2], [3, 4]])\n",
    "print(f\"【a】 shape = {a.shape}\")\n",
    "print(f\"【a】 =\\n{a}\")\n",
    "print()\n",
    "\n",
    "b = tf.linalg.norm(a)\n",
    "print(\"矩阵求范数:\")\n",
    "print(f\"【b】 shape = {b.shape}\")\n",
    "print(f\"【b】 =\\n{b}\")\n",
    "print()"
   ],
   "metadata": {
    "collapsed": false,
    "pycharm": {
     "name": "#%%\n"
    }
   }
  },
  {
   "cell_type": "code",
   "execution_count": null,
   "outputs": [],
   "source": [
    "#矩阵求行列式\n",
    "a = tf.constant([[1.0, 2], [3, 4]])\n",
    "print(f\"【a】 shape = {a.shape}\")\n",
    "print(f\"【a】 =\\n{a}\")\n",
    "print()\n",
    "\n",
    "b = tf.linalg.det(a)\n",
    "print(\"矩阵求行列式:\")\n",
    "print(f\"【b】 shape = {b.shape}\")\n",
    "print(f\"【b】 =\\n{b}\")\n",
    "print()"
   ],
   "metadata": {
    "collapsed": false,
    "pycharm": {
     "name": "#%%\n"
    }
   }
  },
  {
   "cell_type": "code",
   "execution_count": null,
   "outputs": [],
   "source": [
    "#矩阵求特征值\n",
    "a = tf.constant([[1.0, 2], [3, 4]], dtype=tf.float32)\n",
    "print(f\"【a】 shape = {a.shape}\")\n",
    "print(f\"【a】 =\\n{a}\")\n",
    "print()\n",
    "\n",
    "b = tf.linalg.eigvalsh(a)\n",
    "print(\"矩阵求特征值:\")\n",
    "print(f\"【b】 shape = {b.shape}\")\n",
    "print(f\"【b】 =\\n{b}\")\n",
    "print()"
   ],
   "metadata": {
    "collapsed": false,
    "pycharm": {
     "name": "#%%\n"
    }
   }
  },
  {
   "cell_type": "code",
   "execution_count": null,
   "outputs": [],
   "source": [
    "#矩阵求qr分解\n",
    "a = tf.constant([[1.0, 2], [3, 4]], dtype=tf.float32)\n",
    "print(f\"【a】 shape = {a.shape}\")\n",
    "print(f\"【a】 =\\n{a}\")\n",
    "print()\n",
    "\n",
    "b, c = tf.linalg.qr(a)\n",
    "print(\"矩阵求qr分解:\")\n",
    "print(f\"【b】 shape = {b.shape}\")\n",
    "print(f\"【b】 =\\n{b}\")\n",
    "print()\n",
    "print(f\"【c】 shape = {c.shape}\")\n",
    "print(f\"【c】 =\\n{c}\")\n",
    "print()\n",
    "\n",
    "d = b @ c\n",
    "print(f\"【b@c】 shape = {d.shape}\")\n",
    "print(f\"【b@c】 =\\n{d}\")\n",
    "print()"
   ],
   "metadata": {
    "collapsed": false,
    "pycharm": {
     "name": "#%%\n"
    }
   }
  },
  {
   "cell_type": "code",
   "execution_count": null,
   "outputs": [],
   "source": [
    "#矩阵求SVD分解\n",
    "a = tf.constant([[1.0, 2], [3, 4]], dtype=tf.float32)\n",
    "print(f\"【a】 shape = {a.shape}\")\n",
    "print(f\"【a】 =\\n{a}\")\n",
    "print()\n",
    "\n",
    "v, s, d = tf.linalg.svd(a)\n",
    "print(\"矩阵求SVD分解:\")\n",
    "print(f\"【v】 shape = {v.shape}\")\n",
    "print(f\"【v】 =\\n{v}\")\n",
    "print()\n",
    "print(f\"【s】 shape = {s.shape}\")\n",
    "print(f\"【s】 =\\n{s}\")\n",
    "print()\n",
    "print(f\"【d】 shape = {d.shape}\")\n",
    "print(f\"【d】 =\\n{d}\")\n",
    "print()\n",
    "\n",
    "e = tf.matmul(tf.matmul(s, tf.linalg.diag(v)), d)\n",
    "print(f\"【e】 shape = {e.shape}\")\n",
    "print(f\"【e】 =\\n{e}\")\n",
    "print()\n",
    "e = s @ tf.linalg.diag(v) @ d\n",
    "print(f\"【e】 shape = {e.shape}\")\n",
    "print(f\"【e】 =\\n{e}\")\n",
    "print()"
   ],
   "metadata": {
    "collapsed": false,
    "pycharm": {
     "name": "#%%\n"
    }
   }
  },
  {
   "cell_type": "markdown",
   "source": [
    "### 广播机制"
   ],
   "metadata": {
    "collapsed": false
   }
  },
  {
   "cell_type": "markdown",
   "source": [
    "TensorFlow的广播规则和numpy是一样的:\n",
    "\n",
    "1. 若两个张量的维度长度不同，需将维度较小的张量扩展至较大张量的维度长度；\n",
    "2. 若两个张量在某个维度上的长度是相同的，或其中一个张量在该维度上的长度为1，则称两个张量在该维度上是相容的；\n",
    "3. 若两个张量在所有维度上都是相容的，它们就能使用广播机制；\n",
    "4. 将某维度长度较小的张量扩充至较大维度长度，即对维度长度较小的张量，在该维度方向进行复制，只到维度长度一致；\n",
    "5. 广播之后，每个维度的长度将取两个张量在该维度长度的较大值；\n"
   ],
   "metadata": {
    "collapsed": false
   }
  },
  {
   "cell_type": "code",
   "execution_count": null,
   "outputs": [],
   "source": [
    "a = tf.constant([1, 2, 3])\n",
    "b = tf.constant([[0, 0, 0], [1, 1, 1], [2, 2, 2]])\n",
    "c = tf.broadcast_to(a, b.shape)\n",
    "print(f\"【a】 shape = {a.shape}\")\n",
    "print(f\"【a】 =\\n{a}\")\n",
    "print()\n",
    "print(f\"【b】 shape = {b.shape}\")\n",
    "print(f\"【b】 =\\n{b}\")\n",
    "print()\n",
    "print(f\"【c】 shape = {c.shape}\")\n",
    "print(f\"【c】 =\\n{c}\")\n",
    "print()\n",
    "\n",
    "d = a + b # 等价于 b + tf.broadcast_to(a,b.shape)\n",
    "print(f\"【d】 shape = {d.shape}\")\n",
    "print(f\"【d】 =\\n{d}\")\n",
    "print()\n",
    "\n",
    "d = b + c\n",
    "print(f\"【d】 shape = {d.shape}\")\n",
    "print(f\"【d】 =\\n{d}\")\n",
    "print()"
   ],
   "metadata": {
    "collapsed": false,
    "pycharm": {
     "name": "#%%\n"
    }
   }
  },
  {
   "cell_type": "code",
   "execution_count": null,
   "outputs": [],
   "source": [
    "#计算广播后计算结果的形状，静态形状，TensorShape类型参数\n",
    "tf.broadcast_static_shape(a.shape, b.shape)"
   ],
   "metadata": {
    "collapsed": false,
    "pycharm": {
     "name": "#%%\n"
    }
   }
  },
  {
   "cell_type": "code",
   "execution_count": null,
   "outputs": [],
   "source": [
    "#计算广播后计算结果的形状，动态形状，Tensor类型参数\n",
    "c = tf.constant([1, 2, 3])\n",
    "d = tf.constant([[1], [2], [3]])\n",
    "tf.broadcast_dynamic_shape(tf.shape(c), tf.shape(d))\n",
    "\n",
    "\n"
   ],
   "metadata": {
    "collapsed": false,
    "pycharm": {
     "name": "#%%\n"
    }
   }
  }
 ],
 "metadata": {
  "kernelspec": {
   "display_name": "tf2",
   "language": "python",
   "name": "tf2"
  },
  "language_info": {
   "codemirror_mode": {
    "name": "ipython",
    "version": 3
   },
   "file_extension": ".py",
   "mimetype": "text/x-python",
   "name": "python",
   "nbconvert_exporter": "python",
   "pygments_lexer": "ipython3",
   "version": "3.7.7"
  }
 },
 "nbformat": 4,
 "nbformat_minor": 4
}
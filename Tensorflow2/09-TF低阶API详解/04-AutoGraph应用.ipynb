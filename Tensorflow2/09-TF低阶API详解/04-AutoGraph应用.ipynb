{
 "cells": [
  {
   "cell_type": "markdown",
   "metadata": {},
   "source": [
    "# AutoGraph应用"
   ]
  },
  {
   "cell_type": "code",
   "execution_count": 1,
   "metadata": {
    "execution": {
     "iopub.execute_input": "2020-06-18T14:26:09.358915Z",
     "iopub.status.busy": "2020-06-18T14:26:09.358381Z",
     "iopub.status.idle": "2020-06-18T14:26:11.045760Z",
     "shell.execute_reply": "2020-06-18T14:26:11.044956Z",
     "shell.execute_reply.started": "2020-06-18T14:26:09.358851Z"
    }
   },
   "outputs": [
    {
     "data": {
      "text/plain": [
       "'2.1.0'"
      ]
     },
     "execution_count": 1,
     "metadata": {},
     "output_type": "execute_result"
    }
   ],
   "source": [
    "import os\n",
    "\n",
    "import tensorflow as tf\n",
    "import numpy as np\n",
    "\n",
    "os.environ[\"CUDA_VISIBLE_DEVICES\"] = \"3\"\n",
    "tf.__version__"
   ]
  },
  {
   "cell_type": "markdown",
   "metadata": {},
   "source": [
    "## tf.Module基类"
   ]
  },
  {
   "cell_type": "markdown",
   "metadata": {},
   "source": [
    "前面在介绍Autograph的编码规范时提到构建Autograph时应该避免在@tf.function修饰的函数内部定义tf.Variable；\n",
    "\n",
    "但是如果在函数外部定义tf.Variable的话，又会显得这个函数有外部变量依赖，封装不够完美。\n",
    "\n",
    "一种简单的思路是定义一个类，并将相关的tf.Variable创建放在类的初始化方法中。而将函数的逻辑放在其他方法中。\n",
    "\n",
    "在TensorFlow中提供了一个基类tf.Module，通过继承它构建子类，有如下优势：\n",
    "- 可以非常方便地管理变量；\n",
    "- 可以非常方便地管理它引用的其它Module；\n",
    "- 能够利用tf.saved_model保存模型，并实现跨平台部署使用；\n",
    "\n",
    "实际上，tf.keras.models.Model,tf.keras.layers.Layer 都是继承自tf.Module的，提供了方便的变量管理和所引用的子模块管理的功能。"
   ]
  },
  {
   "cell_type": "code",
   "execution_count": 2,
   "metadata": {
    "execution": {
     "iopub.execute_input": "2020-06-18T14:26:11.430663Z",
     "iopub.status.busy": "2020-06-18T14:26:11.430442Z",
     "iopub.status.idle": "2020-06-18T14:26:15.333540Z",
     "shell.execute_reply": "2020-06-18T14:26:15.331783Z",
     "shell.execute_reply.started": "2020-06-18T14:26:11.430632Z"
    }
   },
   "outputs": [],
   "source": [
    "x = tf.Variable(1.0, dtype=tf.float32)\n",
    "\n",
    "#在tf.function中用input_signature限定输入张量的签名类型：shape和dtype\n",
    "@tf.function(input_signature=[tf.TensorSpec(shape=[], dtype = tf.float32)])    \n",
    "def add_print(a):\n",
    "    x.assign_add(a)\n",
    "    tf.print(x)\n",
    "    return(x)"
   ]
  },
  {
   "cell_type": "code",
   "execution_count": 3,
   "metadata": {
    "execution": {
     "iopub.execute_input": "2020-06-18T14:26:15.336693Z",
     "iopub.status.busy": "2020-06-18T14:26:15.336189Z",
     "iopub.status.idle": "2020-06-18T14:26:15.498319Z",
     "shell.execute_reply": "2020-06-18T14:26:15.497274Z",
     "shell.execute_reply.started": "2020-06-18T14:26:15.336638Z"
    }
   },
   "outputs": [
    {
     "name": "stdout",
     "output_type": "stream",
     "text": [
      "4\n"
     ]
    },
    {
     "data": {
      "text/plain": [
       "<tf.Tensor: shape=(), dtype=float32, numpy=4.0>"
      ]
     },
     "execution_count": 3,
     "metadata": {},
     "output_type": "execute_result"
    }
   ],
   "source": [
    "add_print(tf.constant(3.0))\n",
    "# add_print(tf.constant(3)) # 输入 不符合 【输入张量定义签名】的参数将报错"
   ]
  },
  {
   "cell_type": "code",
   "execution_count": 4,
   "metadata": {
    "execution": {
     "iopub.execute_input": "2020-06-18T14:26:15.500240Z",
     "iopub.status.busy": "2020-06-18T14:26:15.500013Z",
     "iopub.status.idle": "2020-06-18T14:26:15.507859Z",
     "shell.execute_reply": "2020-06-18T14:26:15.507062Z",
     "shell.execute_reply.started": "2020-06-18T14:26:15.500207Z"
    }
   },
   "outputs": [],
   "source": [
    "# 基于tf.Module实现\n",
    "class DemoModule(tf.Module):\n",
    "    def __init__(self, init_value=tf.constant(0.0), name=None):\n",
    "        super(DemoModule, self).__init__(name=name)\n",
    "        with self.name_scope:  #相当于with tf.name_scope(\"demo_module\")\n",
    "            self.x = tf.Variable(init_value, dtype=tf.float32, trainable=True)\n",
    "\n",
    "\n",
    "    @tf.function(input_signature=[tf.TensorSpec(shape=[], dtype=tf.float32)])  \n",
    "    def addprint(self, a):\n",
    "        with self.name_scope:\n",
    "            self.x.assign_add(a)\n",
    "            tf.print(self.x)\n",
    "            return(self.x)"
   ]
  },
  {
   "cell_type": "code",
   "execution_count": 5,
   "metadata": {
    "execution": {
     "iopub.execute_input": "2020-06-18T14:26:15.509415Z",
     "iopub.status.busy": "2020-06-18T14:26:15.508960Z",
     "iopub.status.idle": "2020-06-18T14:26:15.598573Z",
     "shell.execute_reply": "2020-06-18T14:26:15.597756Z",
     "shell.execute_reply.started": "2020-06-18T14:26:15.509384Z"
    }
   },
   "outputs": [
    {
     "name": "stdout",
     "output_type": "stream",
     "text": [
      "6\n"
     ]
    }
   ],
   "source": [
    "#执行\n",
    "demo = DemoModule(init_value=tf.constant(1.0))\n",
    "result = demo.addprint(tf.constant(5.0))"
   ]
  },
  {
   "cell_type": "code",
   "execution_count": 6,
   "metadata": {
    "execution": {
     "iopub.execute_input": "2020-06-18T14:26:15.599731Z",
     "iopub.status.busy": "2020-06-18T14:26:15.599518Z",
     "iopub.status.idle": "2020-06-18T14:26:15.605959Z",
     "shell.execute_reply": "2020-06-18T14:26:15.604970Z",
     "shell.execute_reply.started": "2020-06-18T14:26:15.599702Z"
    }
   },
   "outputs": [
    {
     "name": "stdout",
     "output_type": "stream",
     "text": [
      "(<tf.Variable 'demo_module/Variable:0' shape=() dtype=float32, numpy=6.0>,)\n",
      "(<tf.Variable 'demo_module/Variable:0' shape=() dtype=float32, numpy=6.0>,)\n"
     ]
    }
   ],
   "source": [
    "#查看模块中的全部变量和全部可训练变量\n",
    "print(demo.variables)\n",
    "print(demo.trainable_variables)"
   ]
  },
  {
   "cell_type": "code",
   "execution_count": 7,
   "metadata": {
    "execution": {
     "iopub.execute_input": "2020-06-18T14:26:15.607240Z",
     "iopub.status.busy": "2020-06-18T14:26:15.606882Z",
     "iopub.status.idle": "2020-06-18T14:26:15.611881Z",
     "shell.execute_reply": "2020-06-18T14:26:15.610968Z",
     "shell.execute_reply.started": "2020-06-18T14:26:15.607208Z"
    }
   },
   "outputs": [
    {
     "data": {
      "text/plain": [
       "()"
      ]
     },
     "execution_count": 7,
     "metadata": {},
     "output_type": "execute_result"
    }
   ],
   "source": [
    "#查看模块中的全部子模块\n",
    "demo.submodules"
   ]
  },
  {
   "cell_type": "code",
   "execution_count": 8,
   "metadata": {
    "execution": {
     "iopub.execute_input": "2020-06-18T14:26:15.640760Z",
     "iopub.status.busy": "2020-06-18T14:26:15.640546Z",
     "iopub.status.idle": "2020-06-18T14:26:15.787205Z",
     "shell.execute_reply": "2020-06-18T14:26:15.786260Z",
     "shell.execute_reply.started": "2020-06-18T14:26:15.640730Z"
    }
   },
   "outputs": [
    {
     "name": "stdout",
     "output_type": "stream",
     "text": [
      "WARNING:tensorflow:From /home/sq/miniconda3/envs/TF2/lib/python3.7/site-packages/tensorflow_core/python/ops/resource_variable_ops.py:1786: calling BaseResourceVariable.__init__ (from tensorflow.python.ops.resource_variable_ops) with constraint is deprecated and will be removed in a future version.\n",
      "Instructions for updating:\n",
      "If using Keras pass *_constraint arguments to layers.\n",
      "INFO:tensorflow:Assets written to: /home/sq/data/model/tf2/demo/1/assets\n"
     ]
    }
   ],
   "source": [
    "# 使用tf.saved_model 保存模型，并指定需要跨平台部署的方法\n",
    "path_save = \"/home/sq/data/model/tf2/demo/1\"\n",
    "tf.saved_model.save(demo, path_save, signatures={\"serving_default\": demo.addprint})"
   ]
  },
  {
   "cell_type": "code",
   "execution_count": 9,
   "metadata": {
    "execution": {
     "iopub.execute_input": "2020-06-18T14:26:17.574478Z",
     "iopub.status.busy": "2020-06-18T14:26:17.573945Z",
     "iopub.status.idle": "2020-06-18T14:26:17.651152Z",
     "shell.execute_reply": "2020-06-18T14:26:17.650150Z",
     "shell.execute_reply.started": "2020-06-18T14:26:17.574416Z"
    }
   },
   "outputs": [
    {
     "name": "stdout",
     "output_type": "stream",
     "text": [
      "11\n"
     ]
    },
    {
     "data": {
      "text/plain": [
       "<tf.Tensor: shape=(), dtype=float32, numpy=11.0>"
      ]
     },
     "execution_count": 9,
     "metadata": {},
     "output_type": "execute_result"
    }
   ],
   "source": [
    "#加载模型\n",
    "demo2 = tf.saved_model.load(path_save)\n",
    "demo2.addprint(tf.constant(5.0))"
   ]
  },
  {
   "cell_type": "code",
   "execution_count": 10,
   "metadata": {
    "execution": {
     "iopub.execute_input": "2020-06-18T14:26:18.965699Z",
     "iopub.status.busy": "2020-06-18T14:26:18.965224Z",
     "iopub.status.idle": "2020-06-18T14:26:19.163833Z",
     "shell.execute_reply": "2020-06-18T14:26:19.162269Z",
     "shell.execute_reply.started": "2020-06-18T14:26:18.965639Z"
    }
   },
   "outputs": [
    {
     "name": "stdout",
     "output_type": "stream",
     "text": [
      "/usr/bin/sh: saved_model_cli: 未找到命令\n"
     ]
    }
   ],
   "source": [
    "# 查看模型文件相关信息，红框标出来的输出信息在模型部署和跨平台使用时有可能会用到\n",
    "!saved_model_cli show --dir path_save --all"
   ]
  },
  {
   "cell_type": "code",
   "execution_count": 11,
   "metadata": {
    "execution": {
     "iopub.execute_input": "2020-06-18T14:26:23.189780Z",
     "iopub.status.busy": "2020-06-18T14:26:23.189209Z",
     "iopub.status.idle": "2020-06-18T14:26:23.247291Z",
     "shell.execute_reply": "2020-06-18T14:26:23.246145Z",
     "shell.execute_reply.started": "2020-06-18T14:26:23.189716Z"
    }
   },
   "outputs": [
    {
     "name": "stdout",
     "output_type": "stream",
     "text": [
      "5\n"
     ]
    }
   ],
   "source": [
    "import datetime\n",
    "\n",
    "# 创建日志\n",
    "stamp = datetime.datetime.now().strftime(\"%Y%m%d-%H%M%S\")\n",
    "logdir = \"/home/sq/data/model/tf2/demo/log\"\n",
    "logdir_stamp = f'{logdir}/{stamp}'\n",
    "writer = tf.summary.create_file_writer(logdir_stamp)\n",
    "\n",
    "#开启autograph跟踪\n",
    "tf.summary.trace_on(graph=True, profiler=True) \n",
    "\n",
    "#执行autograph\n",
    "demo = DemoModule(init_value = tf.constant(0.0))\n",
    "result = demo.addprint(tf.constant(5.0))\n",
    "\n",
    "#将计算图信息写入日志\n",
    "with writer.as_default():\n",
    "    tf.summary.trace_export(\n",
    "        name=\"demomodule\",\n",
    "        step=0,\n",
    "        profiler_outdir=logdir_stamp)"
   ]
  },
  {
   "cell_type": "code",
   "execution_count": 12,
   "metadata": {
    "execution": {
     "iopub.execute_input": "2020-06-18T14:26:26.076726Z",
     "iopub.status.busy": "2020-06-18T14:26:26.076160Z",
     "iopub.status.idle": "2020-06-18T14:26:26.092338Z",
     "shell.execute_reply": "2020-06-18T14:26:26.091022Z",
     "shell.execute_reply.started": "2020-06-18T14:26:26.076661Z"
    }
   },
   "outputs": [
    {
     "name": "stdout",
     "output_type": "stream",
     "text": [
      "No known TensorBoard instances running.\n"
     ]
    }
   ],
   "source": [
    "#启动 tensorboard在jupyter中的魔法命令\n",
    "%reload_ext tensorboard\n",
    "\n",
    "from tensorboard import notebook\n",
    "notebook.list()\n"
   ]
  },
  {
   "cell_type": "code",
   "execution_count": 13,
   "metadata": {
    "execution": {
     "iopub.execute_input": "2020-06-18T14:26:27.219200Z",
     "iopub.status.busy": "2020-06-18T14:26:27.218757Z",
     "iopub.status.idle": "2020-06-18T14:26:27.280070Z",
     "shell.execute_reply": "2020-06-18T14:26:27.278793Z",
     "shell.execute_reply.started": "2020-06-18T14:26:27.219140Z"
    }
   },
   "outputs": [
    {
     "data": {
      "text/plain": [
       "ERROR: Could not find `tensorboard`. Please ensure that your PATH\n",
       "contains an executable `tensorboard` program, or explicitly specify\n",
       "the path to a TensorBoard binary by setting the `TENSORBOARD_BINARY`\n",
       "environment variable."
      ]
     },
     "metadata": {},
     "output_type": "display_data"
    }
   ],
   "source": [
    "notebook.start(f\"--logdir {logdir}\")"
   ]
  },
  {
   "cell_type": "code",
   "execution_count": null,
   "metadata": {},
   "outputs": [],
   "source": []
  }
 ],
 "metadata": {
  "kernelspec": {
   "display_name": "tf2",
   "language": "python",
   "name": "tf2"
  },
  "language_info": {
   "codemirror_mode": {
    "name": "ipython",
    "version": 3
   },
   "file_extension": ".py",
   "mimetype": "text/x-python",
   "name": "python",
   "nbconvert_exporter": "python",
   "pygments_lexer": "ipython3",
   "version": "3.7.7"
  }
 },
 "nbformat": 4,
 "nbformat_minor": 4
}

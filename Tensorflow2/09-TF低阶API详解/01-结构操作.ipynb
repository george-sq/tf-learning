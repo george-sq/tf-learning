{
 "cells": [
  {
   "cell_type": "markdown",
   "metadata": {},
   "source": [
    "# 张量(Tensor)的结构操作"
   ]
  },
  {
   "cell_type": "code",
   "execution_count": 1,
   "metadata": {
    "collapsed": false,
    "execution": {
     "iopub.execute_input": "2020-06-16T15:13:01.849359Z",
     "iopub.status.busy": "2020-06-16T15:13:01.848776Z",
     "iopub.status.idle": "2020-06-16T15:13:03.602578Z",
     "shell.execute_reply": "2020-06-16T15:13:03.601724Z",
     "shell.execute_reply.started": "2020-06-16T15:13:01.849275Z"
    },
    "jupyter": {
     "outputs_hidden": false
    },
    "pycharm": {
     "name": "#%%\n"
    }
   },
   "outputs": [
    {
     "data": {
      "text/plain": [
       "'2.1.0'"
      ]
     },
     "execution_count": 1,
     "metadata": {},
     "output_type": "execute_result"
    }
   ],
   "source": [
    "import os\n",
    "\n",
    "import tensorflow as tf\n",
    "import numpy as np\n",
    "\n",
    "os.environ[\"CUDA_VISIBLE_DEVICES\"] = \"3\"\n",
    "tf.__version__"
   ]
  },
  {
   "cell_type": "markdown",
   "metadata": {},
   "source": [
    "**张量结构操作** 如下：\n",
    "- 张量创建；\n",
    "- 索引切片；\n",
    "- 维度变换；\n",
    "- 合并分割；\n",
    "- ..."
   ]
  },
  {
   "cell_type": "markdown",
   "metadata": {},
   "source": [
    "### 创建张量"
   ]
  },
  {
   "cell_type": "code",
   "execution_count": 2,
   "metadata": {
    "collapsed": false,
    "execution": {
     "iopub.execute_input": "2020-06-16T15:13:05.319680Z",
     "iopub.status.busy": "2020-06-16T15:13:05.319103Z",
     "iopub.status.idle": "2020-06-16T15:13:06.818159Z",
     "shell.execute_reply": "2020-06-16T15:13:06.817083Z",
     "shell.execute_reply.started": "2020-06-16T15:13:05.319613Z"
    },
    "jupyter": {
     "outputs_hidden": false
    },
    "pycharm": {
     "name": "#%%\n"
    }
   },
   "outputs": [
    {
     "name": "stdout",
     "output_type": "stream",
     "text": [
      "a shape = (3,)\n",
      "a = [1. 2. 3.]\n",
      "\n",
      "x shape = ()\n",
      "x = <tf.Variable 'x:0' shape=() dtype=float32, numpy=1.0>\n",
      "\n"
     ]
    }
   ],
   "source": [
    "# 创建 常量\n",
    "a = tf.constant([1, 2, 3], dtype=tf.float32)\n",
    "\n",
    "# 创建 变量\n",
    "x = tf.Variable(1.0, name=\"x\", dtype=tf.float32)\n",
    "\n",
    "tf.print(f\"a shape = {a.shape}\")\n",
    "tf.print(f\"a = {a}\")\n",
    "print()\n",
    "tf.print(f\"x shape = {x.shape}\")\n",
    "tf.print(f\"x = {x}\")\n",
    "print()"
   ]
  },
  {
   "cell_type": "code",
   "execution_count": 3,
   "metadata": {
    "collapsed": false,
    "execution": {
     "iopub.execute_input": "2020-06-16T15:13:06.820373Z",
     "iopub.status.busy": "2020-06-16T15:13:06.819991Z",
     "iopub.status.idle": "2020-06-16T15:13:06.831120Z",
     "shell.execute_reply": "2020-06-16T15:13:06.830060Z",
     "shell.execute_reply.started": "2020-06-16T15:13:06.820308Z"
    },
    "jupyter": {
     "outputs_hidden": false
    },
    "pycharm": {
     "name": "#%%\n"
    }
   },
   "outputs": [
    {
     "name": "stdout",
     "output_type": "stream",
     "text": [
      "vec_a shape = (5,)\n",
      "vec_a =\n",
      "[1 3 5 7 9]\n",
      "\n",
      "vec_b shape = (10,)\n",
      "vec_b =\n",
      "[0.        0.6977778 1.3955556 2.0933335 2.7911112 3.488889  4.186667\n",
      " 4.8844447 5.5822225 6.28     ]\n",
      "\n"
     ]
    }
   ],
   "source": [
    "# 创建 Vector(一维张量)\n",
    "\n",
    "# 1.\n",
    "vec_a = tf.range(1, 10, delta=2)\n",
    "\n",
    "# 2.\n",
    "vec_b = tf.linspace(0.0, 2 * 3.14, 10)\n",
    "\n",
    "print(f\"vec_a shape = {vec_a.shape}\")\n",
    "print(f\"vec_a =\\n{vec_a}\")\n",
    "print()\n",
    "print(f\"vec_b shape = {vec_b.shape}\")\n",
    "print(f\"vec_b =\\n{vec_b}\")\n",
    "print()"
   ]
  },
  {
   "cell_type": "code",
   "execution_count": 4,
   "metadata": {
    "collapsed": false,
    "execution": {
     "iopub.execute_input": "2020-06-16T15:13:07.444883Z",
     "iopub.status.busy": "2020-06-16T15:13:07.444310Z",
     "iopub.status.idle": "2020-06-16T15:13:07.466745Z",
     "shell.execute_reply": "2020-06-16T15:13:07.465442Z",
     "shell.execute_reply.started": "2020-06-16T15:13:07.444817Z"
    },
    "jupyter": {
     "outputs_hidden": false
    },
    "pycharm": {
     "name": "#%%\n"
    }
   },
   "outputs": [
    {
     "name": "stdout",
     "output_type": "stream",
     "text": [
      "【m_ones】 shape = (2, 2)\n",
      "【m_ones】 =\n",
      "[[1. 1.]\n",
      " [1. 1.]]\n",
      "\n",
      "【m_zeros】 shape = (3, 3)\n",
      "【m_zeros】 =\n",
      "[[0. 0. 0.]\n",
      " [0. 0. 0.]\n",
      " [0. 0. 0.]]\n",
      "\n",
      "【m_zeros_1】 shape = (2, 2)\n",
      "【m_zeros_1】 =\n",
      "[[0. 0.]\n",
      " [0. 0.]]\n",
      "\n",
      "【m_zeros_2】 shape = (3, 2)\n",
      "【m_zeros_2】 =\n",
      "[[5 5]\n",
      " [5 5]\n",
      " [5 5]]\n",
      "\n"
     ]
    }
   ],
   "source": [
    "# 创建 Matrix(二维张量)\n",
    "\n",
    "# 1.\n",
    "m_ones = tf.ones([2, 2])\n",
    "\n",
    "m_zeros = tf.zeros([3, 3])\n",
    "\n",
    "m_zeros_1 = tf.zeros_like(m_ones, dtype=tf.float32)\n",
    "\n",
    "m_zeros_2 = tf.fill((3, 2), 5)\n",
    "\n",
    "\n",
    "print(f\"【m_ones】 shape = {m_ones.shape}\")\n",
    "print(f\"【m_ones】 =\\n{m_ones}\")\n",
    "print()\n",
    "print(f\"【m_zeros】 shape = {m_zeros.shape}\")\n",
    "print(f\"【m_zeros】 =\\n{m_zeros}\")\n",
    "print()\n",
    "print(f\"【m_zeros_1】 shape = {m_zeros_1.shape}\")\n",
    "print(f\"【m_zeros_1】 =\\n{m_zeros_1}\")\n",
    "print()\n",
    "print(f\"【m_zeros_2】 shape = {m_zeros_2.shape}\")\n",
    "print(f\"【m_zeros_2】 =\\n{m_zeros_2}\")\n",
    "print()"
   ]
  },
  {
   "cell_type": "code",
   "execution_count": 5,
   "metadata": {
    "collapsed": false,
    "execution": {
     "iopub.execute_input": "2020-06-16T15:13:08.346923Z",
     "iopub.status.busy": "2020-06-16T15:13:08.346480Z",
     "iopub.status.idle": "2020-06-16T15:13:08.360004Z",
     "shell.execute_reply": "2020-06-16T15:13:08.358699Z",
     "shell.execute_reply.started": "2020-06-16T15:13:08.346863Z"
    },
    "jupyter": {
     "outputs_hidden": false
    },
    "pycharm": {
     "name": "#%%\n"
    }
   },
   "outputs": [
    {
     "name": "stdout",
     "output_type": "stream",
     "text": [
      "【m_eye】 shape = (3, 3)\n",
      "【m_eye】 =\n",
      "[[1. 0. 0.]\n",
      " [0. 1. 0.]\n",
      " [0. 0. 1.]]\n",
      "\n",
      "【m_diag】 shape = (3, 3)\n",
      "【m_diag】 =\n",
      "[[1 0 0]\n",
      " [0 2 0]\n",
      " [0 0 3]]\n",
      "\n"
     ]
    }
   ],
   "source": [
    "# 特殊矩阵\n",
    "# 单位矩阵\n",
    "m_eye = tf.eye(3, 3)\n",
    "\n",
    "# 对角阵\n",
    "m_diag = tf.linalg.diag([1, 2, 3])\n",
    "\n",
    "print(f\"【m_eye】 shape = {m_eye.shape}\")\n",
    "print(f\"【m_eye】 =\\n{m_eye}\")\n",
    "print()\n",
    "print(f\"【m_diag】 shape = {m_diag.shape}\")\n",
    "print(f\"【m_diag】 =\\n{m_diag}\")\n",
    "print()"
   ]
  },
  {
   "cell_type": "code",
   "execution_count": 6,
   "metadata": {
    "collapsed": false,
    "execution": {
     "iopub.execute_input": "2020-06-16T15:13:09.249691Z",
     "iopub.status.busy": "2020-06-16T15:13:09.249239Z",
     "iopub.status.idle": "2020-06-16T15:13:09.269853Z",
     "shell.execute_reply": "2020-06-16T15:13:09.268629Z",
     "shell.execute_reply.started": "2020-06-16T15:13:09.249632Z"
    },
    "jupyter": {
     "outputs_hidden": false
    },
    "pycharm": {
     "name": "#%%\n"
    }
   },
   "outputs": [
    {
     "name": "stdout",
     "output_type": "stream",
     "text": [
      "【vec_a】 shape = (5,)\n",
      "【vec_a】 =\n",
      "[1.6513085 9.014812  6.309742  4.345461  2.9193902]\n",
      "\n",
      "【m_b】 shape = (3, 3)\n",
      "【m_b】 =\n",
      "[[ 0.40308788 -1.0880208  -0.06309535]\n",
      " [ 1.3365567   0.7117601  -0.48928645]\n",
      " [-0.7642213  -1.0372486  -1.2519338 ]]\n",
      "\n",
      "【m_c】 shape = (4, 4)\n",
      "【m_c】 =\n",
      "[[-0.45701224 -0.40686727  0.72857773 -0.8929778 ]\n",
      " [-0.36940458  0.32348856  1.1938332   0.88829905]\n",
      " [ 1.259856   -1.9595189  -0.2022444   0.2944969 ]\n",
      " [-0.46872804  1.294942    1.4814218   0.08109535]]\n",
      "\n"
     ]
    }
   ],
   "source": [
    "# 初始化 随机张量\n",
    "\n",
    "#均匀分布随机\n",
    "tf.random.set_seed(1.0)\n",
    "vec_a = tf.random.uniform([5], minval=0, maxval=10)\n",
    "\n",
    "#正态分布随机\n",
    "m_b = tf.random.normal([3, 3], mean=0.0, stddev=1.0)\n",
    "\n",
    "#正态分布随机，剔除2倍方差以外数据重新生成\n",
    "m_c = tf.random.truncated_normal((4, 4), mean=0.0, stddev=1.0, dtype=tf.float32)\n",
    "\n",
    "\n",
    "print(f\"【vec_a】 shape = {vec_a.shape}\")\n",
    "print(f\"【vec_a】 =\\n{vec_a}\")\n",
    "print()\n",
    "print(f\"【m_b】 shape = {m_b.shape}\")\n",
    "print(f\"【m_b】 =\\n{m_b}\")\n",
    "print()\n",
    "print(f\"【m_c】 shape = {m_c.shape}\")\n",
    "print(f\"【m_c】 =\\n{m_c}\")\n",
    "print()"
   ]
  },
  {
   "cell_type": "code",
   "execution_count": 7,
   "metadata": {
    "collapsed": false,
    "execution": {
     "iopub.execute_input": "2020-06-16T15:13:10.252453Z",
     "iopub.status.busy": "2020-06-16T15:13:10.251899Z",
     "iopub.status.idle": "2020-06-16T15:13:10.272200Z",
     "shell.execute_reply": "2020-06-16T15:13:10.271137Z",
     "shell.execute_reply.started": "2020-06-16T15:13:10.252392Z"
    },
    "jupyter": {
     "outputs_hidden": false
    },
    "pycharm": {
     "name": "#%%\n"
    }
   },
   "outputs": [
    {
     "name": "stdout",
     "output_type": "stream",
     "text": [
      "【vec_a】 shape = (5,)\n",
      "【vec_a】 =\n",
      "[1.6513085 9.014812  6.309742  4.345461  2.9193902]\n",
      "\n",
      "【vec_b】 shape = (5,)\n",
      "【vec_b】 =\n",
      "[6.4415097 8.082472  8.976547  6.3689017 6.270969 ]\n",
      "\n",
      "【vec_c】 shape = (5,)\n",
      "【vec_c】 =\n",
      "[1.6513085 9.014812  6.309742  4.345461  2.9193902]\n",
      "\n"
     ]
    }
   ],
   "source": [
    "# 通过设置seed，使得不同时间获得相同的随机值\n",
    "tf.random.set_seed(1.0)\n",
    "vec_a = tf.random.uniform([5], minval=0, maxval=10)\n",
    "\n",
    "tf.random.set_seed(10)\n",
    "vec_b = tf.random.uniform([5], minval=0, maxval=10)\n",
    "\n",
    "tf.random.set_seed(1.0)\n",
    "vec_c = tf.random.uniform([5], minval=0, maxval=10)\n",
    "\n",
    "print(f\"【vec_a】 shape = {vec_a.shape}\")\n",
    "print(f\"【vec_a】 =\\n{vec_a}\")\n",
    "print()\n",
    "print(f\"【vec_b】 shape = {vec_b.shape}\")\n",
    "print(f\"【vec_b】 =\\n{vec_b}\")\n",
    "print()\n",
    "print(f\"【vec_c】 shape = {vec_c.shape}\")\n",
    "print(f\"【vec_c】 =\\n{vec_c}\")\n",
    "print()"
   ]
  },
  {
   "cell_type": "markdown",
   "metadata": {},
   "source": [
    "### 数据索引 / 切片"
   ]
  },
  {
   "cell_type": "code",
   "execution_count": 8,
   "metadata": {
    "collapsed": false,
    "execution": {
     "iopub.execute_input": "2020-06-16T15:13:12.467938Z",
     "iopub.status.busy": "2020-06-16T15:13:12.467405Z",
     "iopub.status.idle": "2020-06-16T15:13:12.479832Z",
     "shell.execute_reply": "2020-06-16T15:13:12.478329Z",
     "shell.execute_reply.started": "2020-06-16T15:13:12.467873Z"
    },
    "jupyter": {
     "outputs_hidden": false
    },
    "pycharm": {
     "name": "#%%\n"
    }
   },
   "outputs": [
    {
     "data": {
      "text/plain": [
       "<tf.Tensor: shape=(5, 5), dtype=int32, numpy=\n",
       "array([[4, 7, 4, 2, 9],\n",
       "       [9, 1, 2, 4, 7],\n",
       "       [7, 2, 7, 4, 0],\n",
       "       [9, 6, 9, 7, 2],\n",
       "       [3, 7, 0, 0, 3]], dtype=int32)>"
      ]
     },
     "execution_count": 8,
     "metadata": {},
     "output_type": "execute_result"
    }
   ],
   "source": [
    "tf.random.set_seed(3)\n",
    "mtx_a = tf.random.uniform([5, 5], minval=0, maxval=10, dtype=tf.int32)\n",
    "\n",
    "mtx_a"
   ]
  },
  {
   "cell_type": "code",
   "execution_count": 9,
   "metadata": {
    "collapsed": false,
    "execution": {
     "iopub.execute_input": "2020-06-16T15:13:13.214297Z",
     "iopub.status.busy": "2020-06-16T15:13:13.213868Z",
     "iopub.status.idle": "2020-06-16T15:13:13.227094Z",
     "shell.execute_reply": "2020-06-16T15:13:13.225957Z",
     "shell.execute_reply.started": "2020-06-16T15:13:13.214237Z"
    },
    "jupyter": {
     "outputs_hidden": false
    },
    "pycharm": {
     "name": "#%%\n"
    }
   },
   "outputs": [
    {
     "name": "stdout",
     "output_type": "stream",
     "text": [
      "tf.Tensor([4 7 4 2 9], shape=(5,), dtype=int32)\n",
      "\n",
      "tf.Tensor([3 7 0 0 3], shape=(5,), dtype=int32)\n",
      "\n",
      "tf.Tensor(4, shape=(), dtype=int32)\n",
      "tf.Tensor(4, shape=(), dtype=int32)\n",
      "\n"
     ]
    }
   ],
   "source": [
    "# 默认从第一个轴，进行 索引 / 切片\n",
    "\n",
    "# 取 第1行 数据\n",
    "print(mtx_a[0])\n",
    "print()\n",
    "\n",
    "# 取 最后1行 数据\n",
    "print(mtx_a[-1])\n",
    "print()\n",
    "\n",
    "# 取 第2行、第3列 数据\n",
    "print(mtx_a[1][3])\n",
    "print(mtx_a[1, 3])\n",
    "print()"
   ]
  },
  {
   "cell_type": "code",
   "execution_count": 10,
   "metadata": {
    "collapsed": false,
    "execution": {
     "iopub.execute_input": "2020-06-16T15:13:14.112849Z",
     "iopub.status.busy": "2020-06-16T15:13:14.112396Z",
     "iopub.status.idle": "2020-06-16T15:13:14.128808Z",
     "shell.execute_reply": "2020-06-16T15:13:14.127707Z",
     "shell.execute_reply.started": "2020-06-16T15:13:14.112787Z"
    },
    "jupyter": {
     "outputs_hidden": false
    },
    "pycharm": {
     "name": "#%%\n"
    }
   },
   "outputs": [
    {
     "name": "stdout",
     "output_type": "stream",
     "text": [
      "[[9 1 2 4 7]\n",
      " [7 2 7 4 0]\n",
      " [9 6 9 7 2]]\n",
      "\n",
      "[[9 1 2 4 7]\n",
      " [7 2 7 4 0]\n",
      " [9 6 9 7 2]]\n",
      "\n",
      "[[9 2 7]\n",
      " [7 7 0]\n",
      " [9 9 2]\n",
      " [3 0 3]]\n"
     ]
    }
   ],
   "source": [
    "# 取 第1-3行 的切片数据\n",
    "tf.print(mtx_a[1:4, :])\n",
    "print()\n",
    "tf.print(tf.slice(mtx_a, [1, 0], [3, 5])) # tf.slice(input, begin_vector, size_vector)\n",
    "print()\n",
    "\n",
    "#第1行至最后1行，第0列到最后1列，每隔1列取1列\n",
    "tf.print(mtx_a[1:, ::2])"
   ]
  },
  {
   "cell_type": "code",
   "execution_count": 11,
   "metadata": {
    "collapsed": false,
    "execution": {
     "iopub.execute_input": "2020-06-16T15:13:14.843418Z",
     "iopub.status.busy": "2020-06-16T15:13:14.842953Z",
     "iopub.status.idle": "2020-06-16T15:13:14.861151Z",
     "shell.execute_reply": "2020-06-16T15:13:14.859878Z",
     "shell.execute_reply.started": "2020-06-16T15:13:14.843355Z"
    },
    "jupyter": {
     "outputs_hidden": false
    },
    "pycharm": {
     "name": "#%%\n"
    }
   },
   "outputs": [
    {
     "name": "stdout",
     "output_type": "stream",
     "text": [
      "【x】 shape = (2, 2)\n",
      "【x】 =\n",
      "<tf.Variable 'Variable:0' shape=(2, 2) dtype=float32, numpy=\n",
      "array([[1., 2.],\n",
      "       [3., 4.]], dtype=float32)>\n",
      "\n",
      "【x】 shape = (2, 2)\n",
      "【x】 =\n",
      "<tf.Variable 'Variable:0' shape=(2, 2) dtype=float32, numpy=\n",
      "array([[1., 2.],\n",
      "       [0., 0.]], dtype=float32)>\n",
      "\n"
     ]
    }
   ],
   "source": [
    "#对变量来说，还可以使用索引和切片修改部分元素\n",
    "x = tf.Variable([[1, 2], [3, 4]], dtype=tf.float32)\n",
    "\n",
    "print(f\"【x】 shape = {x.shape}\")\n",
    "print(f\"【x】 =\\n{x}\")\n",
    "print()\n",
    "x[1, :].assign(tf.constant([0.0, 0.0]))\n",
    "print(f\"【x】 shape = {x.shape}\")\n",
    "print(f\"【x】 =\\n{x}\")\n",
    "print()"
   ]
  },
  {
   "cell_type": "code",
   "execution_count": 12,
   "metadata": {
    "collapsed": false,
    "execution": {
     "iopub.execute_input": "2020-06-16T15:13:15.608979Z",
     "iopub.status.busy": "2020-06-16T15:13:15.608442Z",
     "iopub.status.idle": "2020-06-16T15:13:15.620022Z",
     "shell.execute_reply": "2020-06-16T15:13:15.618652Z",
     "shell.execute_reply.started": "2020-06-16T15:13:15.608915Z"
    },
    "jupyter": {
     "outputs_hidden": false
    },
    "pycharm": {
     "name": "#%%\n"
    }
   },
   "outputs": [
    {
     "name": "stdout",
     "output_type": "stream",
     "text": [
      "【a】 shape = (3, 3, 3)\n",
      "【a】 =\n",
      "[[[7 3 9]\n",
      "  [9 0 7]\n",
      "  [9 6 7]]\n",
      "\n",
      " [[1 3 3]\n",
      "  [0 8 1]\n",
      "  [3 1 0]]\n",
      "\n",
      " [[4 0 6]\n",
      "  [6 2 2]\n",
      "  [7 9 5]]]\n",
      "\n"
     ]
    }
   ],
   "source": [
    "a = tf.random.uniform([3, 3, 3], minval=0, maxval=10, dtype=tf.int32)\n",
    "\n",
    "print(f\"【a】 shape = {a.shape}\")\n",
    "print(f\"【a】 =\\n{a}\")\n",
    "print()"
   ]
  },
  {
   "cell_type": "code",
   "execution_count": 13,
   "metadata": {
    "collapsed": false,
    "execution": {
     "iopub.execute_input": "2020-06-16T15:13:16.379147Z",
     "iopub.status.busy": "2020-06-16T15:13:16.378728Z",
     "iopub.status.idle": "2020-06-16T15:13:16.386891Z",
     "shell.execute_reply": "2020-06-16T15:13:16.385726Z",
     "shell.execute_reply.started": "2020-06-16T15:13:16.379090Z"
    },
    "jupyter": {
     "outputs_hidden": false
    },
    "pycharm": {
     "name": "#%%\n"
    }
   },
   "outputs": [
    {
     "name": "stdout",
     "output_type": "stream",
     "text": [
      "[[3 0 6]\n",
      " [3 8 1]\n",
      " [0 2 9]]\n"
     ]
    }
   ],
   "source": [
    "#省略号可以表示多个冒号\n",
    "tf.print(a[:, :, 1])"
   ]
  },
  {
   "cell_type": "code",
   "execution_count": 14,
   "metadata": {
    "collapsed": false,
    "execution": {
     "iopub.execute_input": "2020-06-16T15:13:17.123110Z",
     "iopub.status.busy": "2020-06-16T15:13:17.122667Z",
     "iopub.status.idle": "2020-06-16T15:13:17.132376Z",
     "shell.execute_reply": "2020-06-16T15:13:17.131156Z",
     "shell.execute_reply.started": "2020-06-16T15:13:17.123051Z"
    },
    "jupyter": {
     "outputs_hidden": false
    },
    "pycharm": {
     "name": "#%%\n"
    }
   },
   "outputs": [
    {
     "name": "stdout",
     "output_type": "stream",
     "text": [
      "[[[52 82 66]\n",
      "  [55 17 86]\n",
      "  [14 8 36]\n",
      "  [94 16 13]\n",
      "  [78 41 77]]\n",
      "\n",
      " [[53 51 93]\n",
      "  [22 91 56]\n",
      "  [73 31 18]\n",
      "  [9 93 87]\n",
      "  [21 25 40]]\n",
      "\n",
      " [[16 76 32]\n",
      "  [49 88 24]\n",
      "  [80 70 46]\n",
      "  [72 63 96]\n",
      "  [16 44 31]]]\n"
     ]
    }
   ],
   "source": [
    "# 对于不规则的切片提取, 可以使用 tf.gather, tf.gather_nd, tf.boolean_mask\n",
    "\n",
    "# 3个班级，每个班级有 5个学生，每个学生有 3门功课的成绩\n",
    "scores = tf.random.uniform((3, 5, 3), minval=0, maxval=100, dtype=tf.int32)\n",
    "tf.print(scores)"
   ]
  },
  {
   "cell_type": "code",
   "execution_count": 15,
   "metadata": {
    "collapsed": false,
    "execution": {
     "iopub.execute_input": "2020-06-16T15:13:17.896167Z",
     "iopub.status.busy": "2020-06-16T15:13:17.895640Z",
     "iopub.status.idle": "2020-06-16T15:13:17.905413Z",
     "shell.execute_reply": "2020-06-16T15:13:17.904199Z",
     "shell.execute_reply.started": "2020-06-16T15:13:17.896106Z"
    },
    "jupyter": {
     "outputs_hidden": false
    },
    "pycharm": {
     "name": "#%%\n"
    }
   },
   "outputs": [
    {
     "name": "stdout",
     "output_type": "stream",
     "text": [
      "[[[52 82 66]\n",
      "  [14 8 36]\n",
      "  [78 41 77]]\n",
      "\n",
      " [[53 51 93]\n",
      "  [73 31 18]\n",
      "  [21 25 40]]\n",
      "\n",
      " [[16 76 32]\n",
      "  [80 70 46]\n",
      "  [16 44 31]]]\n"
     ]
    }
   ],
   "source": [
    "# 抽取每个班级第0个学生，第2个学生，第4个学生的全部成绩\n",
    "p = tf.gather(scores, [0, 2, 4], axis=1)\n",
    "\n",
    "tf.print(p)"
   ]
  },
  {
   "cell_type": "code",
   "execution_count": 16,
   "metadata": {
    "collapsed": false,
    "execution": {
     "iopub.execute_input": "2020-06-16T15:13:18.622789Z",
     "iopub.status.busy": "2020-06-16T15:13:18.622349Z",
     "iopub.status.idle": "2020-06-16T15:13:18.633265Z",
     "shell.execute_reply": "2020-06-16T15:13:18.631916Z",
     "shell.execute_reply.started": "2020-06-16T15:13:18.622729Z"
    },
    "jupyter": {
     "outputs_hidden": false
    },
    "pycharm": {
     "name": "#%%\n"
    }
   },
   "outputs": [
    {
     "data": {
      "text/plain": [
       "<tf.Tensor: shape=(3, 3), dtype=int32, numpy=\n",
       "array([[52, 82, 66],\n",
       "       [73, 31, 18],\n",
       "       [16, 44, 31]], dtype=int32)>"
      ]
     },
     "execution_count": 16,
     "metadata": {},
     "output_type": "execute_result"
    }
   ],
   "source": [
    "# 抽取第0个班级第0个学生，第1个班级的第2个学生，第2个班级的第4个学生的全部成绩\n",
    "\n",
    "#indices的长度为采样样本的个数，每个元素为采样位置的坐标\n",
    "s = tf.gather_nd(scores, indices=[(0, 0), (1, 2), (2, 4)])\n",
    "s"
   ]
  },
  {
   "cell_type": "code",
   "execution_count": 17,
   "metadata": {
    "collapsed": false,
    "execution": {
     "iopub.execute_input": "2020-06-16T15:13:20.384271Z",
     "iopub.status.busy": "2020-06-16T15:13:20.383808Z",
     "iopub.status.idle": "2020-06-16T15:13:20.397179Z",
     "shell.execute_reply": "2020-06-16T15:13:20.396036Z",
     "shell.execute_reply.started": "2020-06-16T15:13:20.384210Z"
    },
    "jupyter": {
     "outputs_hidden": false
    },
    "pycharm": {
     "name": "#%%\n"
    }
   },
   "outputs": [
    {
     "name": "stdout",
     "output_type": "stream",
     "text": [
      "[[[55 17 86]\n",
      "  [14 8 36]\n",
      "  [94 16 13]]\n",
      "\n",
      " [[22 91 56]\n",
      "  [73 31 18]\n",
      "  [9 93 87]]\n",
      "\n",
      " [[49 88 24]\n",
      "  [80 70 46]\n",
      "  [72 63 96]]]\n"
     ]
    }
   ],
   "source": [
    "#抽取每个班级第1个学生，第2个学生，第3个学生的全部成绩\n",
    "p = tf.boolean_mask(scores, [False, True, True, True, False], axis=1)\n",
    "tf.print(p)"
   ]
  },
  {
   "cell_type": "code",
   "execution_count": 18,
   "metadata": {
    "collapsed": false,
    "execution": {
     "iopub.execute_input": "2020-06-16T15:13:21.175010Z",
     "iopub.status.busy": "2020-06-16T15:13:21.174019Z",
     "iopub.status.idle": "2020-06-16T15:13:21.204126Z",
     "shell.execute_reply": "2020-06-16T15:13:21.203099Z",
     "shell.execute_reply.started": "2020-06-16T15:13:21.174882Z"
    },
    "jupyter": {
     "outputs_hidden": false
    },
    "pycharm": {
     "name": "#%%\n"
    }
   },
   "outputs": [
    {
     "name": "stdout",
     "output_type": "stream",
     "text": [
      "[[-1 1 -1]\n",
      " [2 2 -2]\n",
      " [3 -3 3]] \n",
      "\n",
      "[-1 -1 -2 -3] \n",
      "\n",
      "\n",
      "[-1 -1 -2 -3]\n"
     ]
    }
   ],
   "source": [
    "#利用tf.boolean_mask可以实现布尔索引\n",
    "\n",
    "#找到矩阵中小于0的元素\n",
    "c = tf.constant([[-1, 1, -1], [2, 2, -2], [3, -3, 3]], dtype=tf.float32)\n",
    "tf.print(c, \"\\n\")\n",
    "\n",
    "tf.print(tf.boolean_mask(c, c<0), \"\\n\")\n",
    "print()\n",
    "tf.print(c[c<0]) #布尔索引，为boolean_mask的语法糖形式"
   ]
  },
  {
   "cell_type": "code",
   "execution_count": 19,
   "metadata": {
    "collapsed": false,
    "execution": {
     "iopub.execute_input": "2020-06-16T15:13:22.266566Z",
     "iopub.status.busy": "2020-06-16T15:13:22.266102Z",
     "iopub.status.idle": "2020-06-16T15:13:22.290290Z",
     "shell.execute_reply": "2020-06-16T15:13:22.289214Z",
     "shell.execute_reply.started": "2020-06-16T15:13:22.266506Z"
    },
    "jupyter": {
     "outputs_hidden": false
    },
    "pycharm": {
     "name": "#%%\n"
    }
   },
   "outputs": [
    {
     "name": "stdout",
     "output_type": "stream",
     "text": [
      "【c】 shape = (3, 3)\n",
      "【c】 =\n",
      "[[-1.  1. -1.]\n",
      " [ 2.  2. -2.]\n",
      " [ 3. -3.  3.]]\n",
      "\n",
      "【indices】 shape = (4, 2)\n",
      "【indices】 =\n",
      "[[0 0]\n",
      " [0 2]\n",
      " [1 2]\n",
      " [2 1]]\n",
      "\n",
      "【b】 shape = (3, 3)\n",
      "【b】 =\n",
      "[[0. 0. 0.]\n",
      " [0. 0. 0.]\n",
      " [0. 0. 0.]]\n",
      "\n",
      "【a】 shape = (3, 3)\n",
      "\n"
     ]
    },
    {
     "data": {
      "text/plain": [
       "<tf.Tensor: shape=(3, 3), dtype=float32, numpy=\n",
       "array([[0., 1., 0.],\n",
       "       [2., 2., 0.],\n",
       "       [3., 0., 3.]], dtype=float32)>"
      ]
     },
     "execution_count": 19,
     "metadata": {},
     "output_type": "execute_result"
    }
   ],
   "source": [
    "#找到张量中小于0的元素, 将其换成np.nan得到新的张量\n",
    "#tf.where和np.where作用类似，可以理解为if的张量版本\n",
    "\n",
    "c = tf.constant([[-1, 1, -1], [2, 2, -2], [3, -3, 3]], dtype=tf.float32)\n",
    "\n",
    "print(f\"【c】 shape = {c.shape}\")\n",
    "print(f\"【c】 =\\n{c}\")\n",
    "print()\n",
    "\n",
    "#如果where只有一个参数，将返回所有满足条件的位置坐标\n",
    "indices = tf.where(c < 0)\n",
    "\n",
    "print(f\"【indices】 shape = {indices.shape}\")\n",
    "print(f\"【indices】 =\\n{indices}\")\n",
    "print()\n",
    "\n",
    "b = tf.fill(c.shape, 0.0)\n",
    "print(f\"【b】 shape = {b.shape}\")\n",
    "print(f\"【b】 =\\n{b}\")\n",
    "print()\n",
    "\n",
    "a = tf.where(c<0, b, c)\n",
    "print(f\"【a】 shape = {a.shape}\")\n",
    "# print(f\"【a】 =\\n{a}\")\n",
    "print()\n",
    "a"
   ]
  },
  {
   "cell_type": "code",
   "execution_count": 20,
   "metadata": {
    "collapsed": false,
    "execution": {
     "iopub.execute_input": "2020-06-16T15:13:23.192121Z",
     "iopub.status.busy": "2020-06-16T15:13:23.191704Z",
     "iopub.status.idle": "2020-06-16T15:13:23.199906Z",
     "shell.execute_reply": "2020-06-16T15:13:23.198605Z",
     "shell.execute_reply.started": "2020-06-16T15:13:23.192065Z"
    },
    "jupyter": {
     "outputs_hidden": false
    },
    "pycharm": {
     "name": "#%%\n"
    }
   },
   "outputs": [
    {
     "data": {
      "text/plain": [
       "<tf.Tensor: shape=(3, 3), dtype=float32, numpy=\n",
       "array([[-1.,  1., -1.],\n",
       "       [ 2.,  2., -2.],\n",
       "       [ 3., -3.,  3.]], dtype=float32)>"
      ]
     },
     "execution_count": 20,
     "metadata": {},
     "output_type": "execute_result"
    }
   ],
   "source": [
    "c"
   ]
  },
  {
   "cell_type": "code",
   "execution_count": 21,
   "metadata": {
    "collapsed": false,
    "execution": {
     "iopub.execute_input": "2020-06-16T15:13:24.116667Z",
     "iopub.status.busy": "2020-06-16T15:13:24.116202Z",
     "iopub.status.idle": "2020-06-16T15:13:24.128618Z",
     "shell.execute_reply": "2020-06-16T15:13:24.127281Z",
     "shell.execute_reply.started": "2020-06-16T15:13:24.116607Z"
    },
    "jupyter": {
     "outputs_hidden": false
    },
    "pycharm": {
     "name": "#%%\n"
    }
   },
   "outputs": [
    {
     "data": {
      "text/plain": [
       "<tf.Tensor: shape=(3, 3), dtype=float32, numpy=\n",
       "array([[-1.,  0.,  0.],\n",
       "       [ 0.,  0.,  0.],\n",
       "       [ 0., -3.,  0.]], dtype=float32)>"
      ]
     },
     "execution_count": 21,
     "metadata": {},
     "output_type": "execute_result"
    }
   ],
   "source": [
    "cc = tf.scatter_nd([[0, 0], [2, 1]], [c[0, 0], c[2, 1]], c.shape)\n",
    "cc"
   ]
  },
  {
   "cell_type": "code",
   "execution_count": 22,
   "metadata": {
    "collapsed": false,
    "execution": {
     "iopub.execute_input": "2020-06-16T15:13:24.888120Z",
     "iopub.status.busy": "2020-06-16T15:13:24.887572Z",
     "iopub.status.idle": "2020-06-16T15:13:24.897960Z",
     "shell.execute_reply": "2020-06-16T15:13:24.896435Z",
     "shell.execute_reply.started": "2020-06-16T15:13:24.888057Z"
    },
    "jupyter": {
     "outputs_hidden": false
    },
    "pycharm": {
     "name": "#%%\n"
    }
   },
   "outputs": [
    {
     "data": {
      "text/plain": [
       "<tf.Tensor: shape=(3, 3), dtype=float32, numpy=\n",
       "array([[ 0.,  1., -1.],\n",
       "       [ 2.,  2., -2.],\n",
       "       [ 3.,  0.,  3.]], dtype=float32)>"
      ]
     },
     "execution_count": 22,
     "metadata": {},
     "output_type": "execute_result"
    }
   ],
   "source": [
    "#将张量的第[0, 0]和[2, 1]两个位置元素替换为0, 得到新的张量\n",
    "d = c - cc\n",
    "d"
   ]
  },
  {
   "cell_type": "code",
   "execution_count": 23,
   "metadata": {
    "collapsed": false,
    "execution": {
     "iopub.execute_input": "2020-06-16T15:13:25.595552Z",
     "iopub.status.busy": "2020-06-16T15:13:25.595097Z",
     "iopub.status.idle": "2020-06-16T15:13:25.616229Z",
     "shell.execute_reply": "2020-06-16T15:13:25.615108Z",
     "shell.execute_reply.started": "2020-06-16T15:13:25.595492Z"
    },
    "jupyter": {
     "outputs_hidden": false
    },
    "pycharm": {
     "name": "#%%\n"
    }
   },
   "outputs": [
    {
     "name": "stdout",
     "output_type": "stream",
     "text": [
      "【c】 shape = (3, 3)\n",
      "【c】 =\n",
      "[[-1.  1. -1.]\n",
      " [ 2.  2. -2.]\n",
      " [ 3. -3.  3.]]\n",
      "\n",
      "【indices】 shape = (4, 2)\n",
      "【indices】 =\n",
      "[[0 0]\n",
      " [0 2]\n",
      " [1 2]\n",
      " [2 1]]\n",
      "\n",
      "【n】 shape = (4,)\n",
      "【n】 =\n",
      "[-1. -1. -2. -3.]\n",
      "\n"
     ]
    },
    {
     "data": {
      "text/plain": [
       "<tf.Tensor: shape=(3, 3), dtype=float32, numpy=\n",
       "array([[-1.,  0., -1.],\n",
       "       [ 0.,  0., -2.],\n",
       "       [ 0., -3.,  0.]], dtype=float32)>"
      ]
     },
     "execution_count": 23,
     "metadata": {},
     "output_type": "execute_result"
    }
   ],
   "source": [
    "#scatter_nd的作用和gather_nd有些相反\n",
    "#可以将某些值插入到一个给定shape的全0的张量的指定位置处。\n",
    "\n",
    "indices = tf.where(c < 0)\n",
    "\n",
    "print(f\"【c】 shape = {c.shape}\")\n",
    "print(f\"【c】 =\\n{c}\")\n",
    "print()\n",
    "print(f\"【indices】 shape = {indices.shape}\")\n",
    "print(f\"【indices】 =\\n{indices}\")\n",
    "print()\n",
    "\n",
    "n = tf.gather_nd(c, indices)\n",
    "print(f\"【n】 shape = {n.shape}\")\n",
    "print(f\"【n】 =\\n{n}\")\n",
    "print()\n",
    "\n",
    "tf.scatter_nd(indices, n, c.shape)"
   ]
  },
  {
   "cell_type": "markdown",
   "metadata": {},
   "source": [
    "### 维度转换"
   ]
  },
  {
   "cell_type": "markdown",
   "metadata": {},
   "source": [
    "- **tf.reshape** 可以改变张量的形状。\n",
    "\n",
    "- **tf.squeeze** 可以减少维度。\n",
    "\n",
    "- **tf.expand_dims** 可以增加维度。\n",
    "\n",
    "- **tf.transpose** 可以交换维度。"
   ]
  },
  {
   "cell_type": "code",
   "execution_count": 24,
   "metadata": {
    "collapsed": false,
    "execution": {
     "iopub.execute_input": "2020-06-16T15:13:28.181078Z",
     "iopub.status.busy": "2020-06-16T15:13:28.180498Z",
     "iopub.status.idle": "2020-06-16T15:13:28.193086Z",
     "shell.execute_reply": "2020-06-16T15:13:28.191522Z",
     "shell.execute_reply.started": "2020-06-16T15:13:28.181010Z"
    },
    "jupyter": {
     "outputs_hidden": false
    },
    "pycharm": {
     "name": "#%%\n"
    }
   },
   "outputs": [
    {
     "name": "stdout",
     "output_type": "stream",
     "text": [
      "【a】 shape = (1, 2, 3, 4)\n",
      "【a】 =\n",
      "[[[[100  44 181  14]\n",
      "   [ 90  53 205 141]\n",
      "   [ 14  24 239  46]]\n",
      "\n",
      "  [[225 174 212  78]\n",
      "   [ 14 144 209 106]\n",
      "   [165  41  44  38]]]]\n",
      "\n"
     ]
    }
   ],
   "source": [
    "a = tf.random.uniform(shape=[1, 2, 3, 4], minval=0, maxval=255, dtype=tf.int32)\n",
    "print(f\"【a】 shape = {a.shape}\")\n",
    "print(f\"【a】 =\\n{a}\")\n",
    "print()"
   ]
  },
  {
   "cell_type": "code",
   "execution_count": 25,
   "metadata": {
    "collapsed": false,
    "execution": {
     "iopub.execute_input": "2020-06-16T15:13:29.084433Z",
     "iopub.status.busy": "2020-06-16T15:13:29.083983Z",
     "iopub.status.idle": "2020-06-16T15:13:29.097967Z",
     "shell.execute_reply": "2020-06-16T15:13:29.096652Z",
     "shell.execute_reply.started": "2020-06-16T15:13:29.084372Z"
    },
    "jupyter": {
     "outputs_hidden": false
    },
    "pycharm": {
     "name": "#%%\n"
    }
   },
   "outputs": [
    {
     "name": "stdout",
     "output_type": "stream",
     "text": [
      "【b】 shape = (4, 6)\n",
      "【b】 =\n",
      "[[100  44 181  14  90  53]\n",
      " [205 141  14  24 239  46]\n",
      " [225 174 212  78  14 144]\n",
      " [209 106 165  41  44  38]]\n",
      "\n",
      "【c】 shape = (1, 2, 3, 4)\n",
      "【c】 =\n",
      "[[[[100  44 181  14]\n",
      "   [ 90  53 205 141]\n",
      "   [ 14  24 239  46]]\n",
      "\n",
      "  [[225 174 212  78]\n",
      "   [ 14 144 209 106]\n",
      "   [165  41  44  38]]]]\n",
      "\n"
     ]
    }
   ],
   "source": [
    "# 使用reshape，改变张量形状为 (4,6): 不会改变张量元素的存储顺序\n",
    "b = tf.reshape(a, [4, 6])\n",
    "print(f\"【b】 shape = {b.shape}\")\n",
    "print(f\"【b】 =\\n{b}\")\n",
    "print()\n",
    "\n",
    "# 改回成 [1,3,3,2] 形状的张量\n",
    "c = tf.reshape(b, [1, 2, 3, 4])\n",
    "print(f\"【c】 shape = {c.shape}\")\n",
    "print(f\"【c】 =\\n{c}\")\n",
    "print()"
   ]
  },
  {
   "cell_type": "code",
   "execution_count": 26,
   "metadata": {
    "collapsed": false,
    "execution": {
     "iopub.execute_input": "2020-06-16T15:13:29.874996Z",
     "iopub.status.busy": "2020-06-16T15:13:29.874559Z",
     "iopub.status.idle": "2020-06-16T15:13:29.887355Z",
     "shell.execute_reply": "2020-06-16T15:13:29.886043Z",
     "shell.execute_reply.started": "2020-06-16T15:13:29.874937Z"
    },
    "jupyter": {
     "outputs_hidden": false
    },
    "pycharm": {
     "name": "#%%\n"
    }
   },
   "outputs": [
    {
     "name": "stdout",
     "output_type": "stream",
     "text": [
      "【s】 shape = (2, 3, 4)\n",
      "【s】 =\n",
      "[[[100  44 181  14]\n",
      "  [ 90  53 205 141]\n",
      "  [ 14  24 239  46]]\n",
      "\n",
      " [[225 174 212  78]\n",
      "  [ 14 144 209 106]\n",
      "  [165  41  44  38]]]\n",
      "\n",
      "【d】 shape = (1, 2, 3, 4)\n",
      "【d】 =\n",
      "[[[[100  44 181  14]\n",
      "   [ 90  53 205 141]\n",
      "   [ 14  24 239  46]]\n",
      "\n",
      "  [[225 174 212  78]\n",
      "   [ 14 144 209 106]\n",
      "   [165  41  44  38]]]]\n",
      "\n"
     ]
    }
   ],
   "source": [
    "# 如果张量在某个维度上只有一个元素，利用tf.squeeze可以消除这个维度\n",
    "s = tf.squeeze(a)\n",
    "print(f\"【s】 shape = {s.shape}\")\n",
    "print(f\"【s】 =\\n{s}\")\n",
    "print()\n",
    "\n",
    "# 在第0维插入长度为1的一个维度\n",
    "d = tf.expand_dims(s, axis=0)\n",
    "print(f\"【d】 shape = {d.shape}\")\n",
    "print(f\"【d】 =\\n{d}\")\n",
    "print()"
   ]
  },
  {
   "cell_type": "code",
   "execution_count": 27,
   "metadata": {
    "collapsed": false,
    "execution": {
     "iopub.execute_input": "2020-06-16T15:13:30.622252Z",
     "iopub.status.busy": "2020-06-16T15:13:30.621823Z",
     "iopub.status.idle": "2020-06-16T15:13:30.868443Z",
     "shell.execute_reply": "2020-06-16T15:13:30.867445Z",
     "shell.execute_reply.started": "2020-06-16T15:13:30.622193Z"
    },
    "jupyter": {
     "outputs_hidden": false
    },
    "pycharm": {
     "name": "#%%\n"
    }
   },
   "outputs": [
    {
     "name": "stdout",
     "output_type": "stream",
     "text": [
      "【a】 shape = (100, 600, 600, 4)\n",
      "\n",
      "【s】 shape = (4, 600, 600, 100)\n",
      "\n"
     ]
    }
   ],
   "source": [
    "# Batch, Height, Width, Channel\n",
    "a = tf.random.uniform(shape=[100, 600, 600, 4], minval=0, maxval=255, dtype=tf.int32)\n",
    "print(f\"【a】 shape = {a.shape}\")\n",
    "# print(f\"【a】 =\\n{a}\")\n",
    "print()\n",
    "\n",
    "# 转换成 Channel, Height, Width, Batch\n",
    "s = tf.transpose(a, perm=[3, 1, 2, 0])\n",
    "print(f\"【s】 shape = {s.shape}\")\n",
    "# print(f\"【s】 =\\n{s}\")\n",
    "print()"
   ]
  },
  {
   "cell_type": "markdown",
   "metadata": {},
   "source": [
    "### 张量合并 / 分割"
   ]
  },
  {
   "cell_type": "markdown",
   "metadata": {},
   "source": [
    "#### 合并张量"
   ]
  },
  {
   "cell_type": "markdown",
   "metadata": {},
   "source": [
    "- **tf.concat**: 拼接张量，不增加张量维度；\n",
    "- **tf.stack**: 堆叠张量，会增加张量维度；"
   ]
  },
  {
   "cell_type": "code",
   "execution_count": 28,
   "metadata": {
    "collapsed": false,
    "execution": {
     "iopub.execute_input": "2020-06-16T15:13:33.058163Z",
     "iopub.status.busy": "2020-06-16T15:13:33.057618Z",
     "iopub.status.idle": "2020-06-16T15:13:33.085785Z",
     "shell.execute_reply": "2020-06-16T15:13:33.084462Z",
     "shell.execute_reply.started": "2020-06-16T15:13:33.058097Z"
    },
    "jupyter": {
     "outputs_hidden": false
    },
    "pycharm": {
     "name": "#%%\n"
    }
   },
   "outputs": [
    {
     "name": "stdout",
     "output_type": "stream",
     "text": [
      "【a】 shape = (2, 2)\n",
      "【a】 =\n",
      "[[1. 2.]\n",
      " [3. 4.]]\n",
      "\n",
      "【b】 shape = (2, 2)\n",
      "【b】 =\n",
      "[[5. 6.]\n",
      " [7. 8.]]\n",
      "\n",
      "【c】 shape = (2, 2)\n",
      "【c】 =\n",
      "[[ 9. 10.]\n",
      " [11. 12.]]\n",
      "\n",
      "【v】 shape = (6, 2)\n",
      "【v】 =\n",
      "[[ 1.  2.]\n",
      " [ 3.  4.]\n",
      " [ 5.  6.]\n",
      " [ 7.  8.]\n",
      " [ 9. 10.]\n",
      " [11. 12.]]\n",
      "\n",
      "【h】 shape = (2, 6)\n",
      "【h】 =\n",
      "[[ 1.  2.  5.  6.  9. 10.]\n",
      " [ 3.  4.  7.  8. 11. 12.]]\n",
      "\n"
     ]
    }
   ],
   "source": [
    "# 张量拼接: tf.concat\n",
    "a = tf.constant([[1.0, 2.0], [3.0, 4.0]])\n",
    "b = tf.constant([[5.0, 6.0], [7.0, 8.0]])\n",
    "c = tf.constant([[9.0, 10.0], [11.0, 12.0]])\n",
    "print(f\"【a】 shape = {a.shape}\")\n",
    "print(f\"【a】 =\\n{a}\")\n",
    "print()\n",
    "print(f\"【b】 shape = {b.shape}\")\n",
    "print(f\"【b】 =\\n{b}\")\n",
    "print()\n",
    "print(f\"【c】 shape = {c.shape}\")\n",
    "print(f\"【c】 =\\n{c}\")\n",
    "print()\n",
    "\n",
    "v = tf.concat([a, b, c], axis=0)\n",
    "h = tf.concat([a, b, c], axis=1)\n",
    "\n",
    "print(f\"【v】 shape = {v.shape}\")\n",
    "print(f\"【v】 =\\n{v}\")\n",
    "print()\n",
    "print(f\"【h】 shape = {h.shape}\")\n",
    "print(f\"【h】 =\\n{h}\")\n",
    "print()"
   ]
  },
  {
   "cell_type": "code",
   "execution_count": 29,
   "metadata": {
    "collapsed": false,
    "execution": {
     "iopub.execute_input": "2020-06-16T15:13:33.477005Z",
     "iopub.status.busy": "2020-06-16T15:13:33.476625Z",
     "iopub.status.idle": "2020-06-16T15:13:33.488726Z",
     "shell.execute_reply": "2020-06-16T15:13:33.487452Z",
     "shell.execute_reply.started": "2020-06-16T15:13:33.476953Z"
    },
    "jupyter": {
     "outputs_hidden": false
    },
    "pycharm": {
     "name": "#%%\n"
    }
   },
   "outputs": [
    {
     "name": "stdout",
     "output_type": "stream",
     "text": [
      "【v】 shape = (3, 2, 2)\n",
      "【v】 =\n",
      "[[[ 1.  2.]\n",
      "  [ 3.  4.]]\n",
      "\n",
      " [[ 5.  6.]\n",
      "  [ 7.  8.]]\n",
      "\n",
      " [[ 9. 10.]\n",
      "  [11. 12.]]]\n",
      "\n",
      "【h】 shape = (2, 3, 2)\n",
      "【h】 =\n",
      "[[[ 1.  2.]\n",
      "  [ 5.  6.]\n",
      "  [ 9. 10.]]\n",
      "\n",
      " [[ 3.  4.]\n",
      "  [ 7.  8.]\n",
      "  [11. 12.]]]\n",
      "\n"
     ]
    }
   ],
   "source": [
    "# 张量堆叠: tf.stack\n",
    "v = tf.stack([a, b, c])\n",
    "h = tf.stack([a, b, c], axis=1)\n",
    "\n",
    "print(f\"【v】 shape = {v.shape}\")\n",
    "print(f\"【v】 =\\n{v}\")\n",
    "print()\n",
    "print(f\"【h】 shape = {h.shape}\")\n",
    "print(f\"【h】 =\\n{h}\")\n",
    "print()"
   ]
  },
  {
   "cell_type": "markdown",
   "metadata": {},
   "source": [
    "#### 分割张量"
   ]
  },
  {
   "cell_type": "code",
   "execution_count": 30,
   "metadata": {
    "collapsed": false,
    "execution": {
     "iopub.execute_input": "2020-06-16T15:13:34.254034Z",
     "iopub.status.busy": "2020-06-16T15:13:34.253604Z",
     "iopub.status.idle": "2020-06-16T15:13:34.267578Z",
     "shell.execute_reply": "2020-06-16T15:13:34.266288Z",
     "shell.execute_reply.started": "2020-06-16T15:13:34.253976Z"
    },
    "jupyter": {
     "outputs_hidden": false
    },
    "pycharm": {
     "name": "#%%\n"
    }
   },
   "outputs": [
    {
     "data": {
      "text/plain": [
       "<tf.Tensor: shape=(6, 2), dtype=float32, numpy=\n",
       "array([[ 1.,  2.],\n",
       "       [ 3.,  4.],\n",
       "       [ 5.,  6.],\n",
       "       [ 7.,  8.],\n",
       "       [ 9., 10.],\n",
       "       [11., 12.]], dtype=float32)>"
      ]
     },
     "execution_count": 30,
     "metadata": {},
     "output_type": "execute_result"
    }
   ],
   "source": [
    "a = tf.constant([[1.0, 2.0], [3.0, 4.0]])\n",
    "b = tf.constant([[5.0, 6.0], [7.0, 8.0]])\n",
    "c = tf.constant([[9.0, 10.0], [11.0, 12.0]])\n",
    "\n",
    "c = tf.concat([a, b, c], axis=0)\n",
    "c"
   ]
  },
  {
   "cell_type": "code",
   "execution_count": 31,
   "metadata": {
    "collapsed": false,
    "execution": {
     "iopub.execute_input": "2020-06-16T15:13:34.647424Z",
     "iopub.status.busy": "2020-06-16T15:13:34.647031Z",
     "iopub.status.idle": "2020-06-16T15:13:34.657010Z",
     "shell.execute_reply": "2020-06-16T15:13:34.655570Z",
     "shell.execute_reply.started": "2020-06-16T15:13:34.647372Z"
    },
    "jupyter": {
     "outputs_hidden": false
    },
    "pycharm": {
     "name": "#%%\n"
    }
   },
   "outputs": [
    {
     "name": "stdout",
     "output_type": "stream",
     "text": [
      "tf.Tensor(\n",
      "[[1. 2.]\n",
      " [3. 4.]], shape=(2, 2), dtype=float32)\n",
      "\n",
      "tf.Tensor(\n",
      "[[5. 6.]\n",
      " [7. 8.]], shape=(2, 2), dtype=float32)\n",
      "\n",
      "tf.Tensor(\n",
      "[[ 9. 10.]\n",
      " [11. 12.]], shape=(2, 2), dtype=float32)\n",
      "\n"
     ]
    }
   ],
   "source": [
    "#tf.split(value,num_or_size_splits,axis)\n",
    "# 平均分割: 指定分割份数\n",
    "l = tf.split(c, 3, axis=0)\n",
    "for item in l:\n",
    "    print(item)\n",
    "    print()"
   ]
  },
  {
   "cell_type": "code",
   "execution_count": 32,
   "metadata": {
    "collapsed": false,
    "execution": {
     "iopub.execute_input": "2020-06-16T15:13:35.096214Z",
     "iopub.status.busy": "2020-06-16T15:13:35.095824Z",
     "iopub.status.idle": "2020-06-16T15:13:35.106097Z",
     "shell.execute_reply": "2020-06-16T15:13:35.104804Z",
     "shell.execute_reply.started": "2020-06-16T15:13:35.096163Z"
    },
    "jupyter": {
     "outputs_hidden": false
    },
    "pycharm": {
     "name": "#%%\n"
    }
   },
   "outputs": [
    {
     "name": "stdout",
     "output_type": "stream",
     "text": [
      "tf.Tensor([[1. 2.]], shape=(1, 2), dtype=float32)\n",
      "\n",
      "tf.Tensor(\n",
      "[[3. 4.]\n",
      " [5. 6.]], shape=(2, 2), dtype=float32)\n",
      "\n",
      "tf.Tensor(\n",
      "[[ 7.  8.]\n",
      " [ 9. 10.]\n",
      " [11. 12.]], shape=(3, 2), dtype=float32)\n",
      "\n"
     ]
    }
   ],
   "source": [
    "# 指定分割: 指定每份张量的 元素个数\n",
    "l = tf.split(c, [1, 2, 3], axis=0) #指定每份的记录数量\n",
    "for item in l:\n",
    "    print(item)\n",
    "    print()\n",
    "\n",
    "\n"
   ]
  },
  {
   "cell_type": "code",
   "execution_count": null,
   "metadata": {},
   "outputs": [],
   "source": []
  }
 ],
 "metadata": {
  "kernelspec": {
   "display_name": "tf2",
   "language": "python",
   "name": "tf2"
  },
  "language_info": {
   "codemirror_mode": {
    "name": "ipython",
    "version": 3
   },
   "file_extension": ".py",
   "mimetype": "text/x-python",
   "name": "python",
   "nbconvert_exporter": "python",
   "pygments_lexer": "ipython3",
   "version": "3.7.7"
  }
 },
 "nbformat": 4,
 "nbformat_minor": 4
}

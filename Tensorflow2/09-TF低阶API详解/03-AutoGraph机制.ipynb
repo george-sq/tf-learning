{
 "cells": [
  {
   "cell_type": "markdown",
   "metadata": {},
   "source": [
    "# AutoGraph"
   ]
  },
  {
   "cell_type": "code",
   "execution_count": 1,
   "metadata": {
    "execution": {
     "iopub.execute_input": "2020-06-16T15:58:21.881456Z",
     "iopub.status.busy": "2020-06-16T15:58:21.880851Z",
     "iopub.status.idle": "2020-06-16T15:58:23.659516Z",
     "shell.execute_reply": "2020-06-16T15:58:23.658131Z",
     "shell.execute_reply.started": "2020-06-16T15:58:21.881386Z"
    }
   },
   "outputs": [
    {
     "data": {
      "text/plain": [
       "'2.1.0'"
      ]
     },
     "execution_count": 1,
     "metadata": {},
     "output_type": "execute_result"
    }
   ],
   "source": [
    "import os\n",
    "\n",
    "import tensorflow as tf\n",
    "import numpy as np\n",
    "\n",
    "os.environ[\"CUDA_VISIBLE_DEVICES\"] = \"3\"\n",
    "tf.__version__"
   ]
  },
  {
   "cell_type": "markdown",
   "metadata": {
    "pycharm": {
     "name": "#%% md\n"
    }
   },
   "source": [
    "有三种计算图的构建方式：静态计算图，动态计算图，以及Autograph。\n",
    "\n",
    "TensorFlow 2.0主要使用的是动态计算图和Autograph。\n",
    "\n",
    "动态计算图易于调试，编码效率较高，但执行效率偏低。\n",
    "\n",
    "静态计算图执行效率很高，但较难调试。\n",
    "\n",
    "而Autograph机制可以将动态图转换成静态计算图，兼收执行效率和编码效率之利。"
   ]
  },
  {
   "cell_type": "markdown",
   "metadata": {},
   "source": [
    "## AutoGraph的机制原理"
   ]
  },
  {
   "cell_type": "code",
   "execution_count": 2,
   "metadata": {
    "collapsed": false,
    "execution": {
     "iopub.execute_input": "2020-06-16T15:58:24.878722Z",
     "iopub.status.busy": "2020-06-16T15:58:24.878259Z",
     "iopub.status.idle": "2020-06-16T15:58:24.887481Z",
     "shell.execute_reply": "2020-06-16T15:58:24.886151Z",
     "shell.execute_reply.started": "2020-06-16T15:58:24.878662Z"
    },
    "jupyter": {
     "outputs_hidden": false
    },
    "pycharm": {
     "name": "#%%\n"
    }
   },
   "outputs": [],
   "source": [
    "# 当执行一个 被@tf.function装饰 的函数时，会发什么？\n",
    "\n",
    "@tf.function(autograph=True)\n",
    "def myadd(a, b):\n",
    "    for i in tf.range(3):\n",
    "        tf.print(i)\n",
    "    c = a + b\n",
    "    print(\"tracing\")\n",
    "    print(c)\n",
    "    return c"
   ]
  },
  {
   "cell_type": "code",
   "execution_count": 3,
   "metadata": {
    "execution": {
     "iopub.execute_input": "2020-06-16T15:58:25.619107Z",
     "iopub.status.busy": "2020-06-16T15:58:25.618666Z",
     "iopub.status.idle": "2020-06-16T15:58:29.874099Z",
     "shell.execute_reply": "2020-06-16T15:58:29.872811Z",
     "shell.execute_reply.started": "2020-06-16T15:58:25.619049Z"
    }
   },
   "outputs": [
    {
     "name": "stdout",
     "output_type": "stream",
     "text": [
      "a shape=()\n",
      "a data=b'hello'\n",
      "\n",
      "b shape=()\n",
      "b data=b'world'\n",
      "\n",
      "tracing\n",
      "Tensor(\"add:0\", shape=(), dtype=string)\n",
      "0\n",
      "1\n",
      "2\n",
      "\n",
      "c shape=()\n",
      "c data=b'helloworld'\n",
      "\n"
     ]
    }
   ],
   "source": [
    "# 执行myadd调用\n",
    "\n",
    "a = tf.constant(\"hello\")\n",
    "b = tf.constant(\"world\")\n",
    "\n",
    "print(f\"a shape={a.shape}\")\n",
    "print(f\"a data={a}\")\n",
    "print()\n",
    "\n",
    "print(f\"b shape={b.shape}\")\n",
    "print(f\"b data={b}\")\n",
    "print()\n",
    "\n",
    "c = myadd(a, b)\n",
    "print()\n",
    "print(f\"c shape={c.shape}\")\n",
    "print(f\"c data={c}\")\n",
    "print()"
   ]
  },
  {
   "cell_type": "markdown",
   "metadata": {},
   "source": [
    "### 执行过程"
   ]
  },
  {
   "cell_type": "markdown",
   "metadata": {},
   "source": [
    "被 **@tf.function** 装饰的函数的执行过程：\n",
    "1. 创建一个静态计算图；\n",
    "2. 执行一遍**函数体**(function body)中的Python代码，确定各个变量的**Tensor类型**，并根据执行顺序将算子添加到计算图中。 \n",
    "    > 在这个过程中，如果开启了autograph=True(默认开启),会将Python控制流转换成TensorFlow图内控制流。 \n",
    "    > - 主要是将 **if语句** 转换成 **tf.cond算子表达**；\n",
    "    > - 将 **while和for循环语句** 转换成 **tf.while_loop算子表达**；\n",
    "    > - 并在 *必要* 的时候添加 **tf.control_dependencies** 指定 **执行顺序依赖关系**；\n",
    "    > \n",
    "    > (类似 执行下面的 TensorFlow-1 代码)\n",
    "3. 执行静态计算图；"
   ]
  },
  {
   "cell_type": "markdown",
   "metadata": {
    "execution": {
     "iopub.execute_input": "2020-06-16T15:43:42.853534Z",
     "iopub.status.busy": "2020-06-16T15:43:42.852974Z",
     "iopub.status.idle": "2020-06-16T15:43:42.888374Z",
     "shell.execute_reply": "2020-06-16T15:43:42.886707Z",
     "shell.execute_reply.started": "2020-06-16T15:43:42.853469Z"
    }
   },
   "source": [
    "``` Python\n",
    "# 第1步\n",
    "g = tf.Graph()\n",
    "\n",
    "# 第2步\n",
    "with g.as_default():\n",
    "    a = tf.placeholder(shape=[], dtype=tf.string)\n",
    "    b = tf.placeholder(shape=[], dtype=tf.string)\n",
    "    cond = lambda i: i<tf.constant(3)\n",
    "    def body(i):\n",
    "        tf.print(i)\n",
    "        return(i + 1)\n",
    "    loop = tf.while_loop(cond, body, loop_vars=[0])\n",
    "    loop\n",
    "    with tf.control_dependencies(loop):\n",
    "        c = tf.strings.join([a, b])\n",
    "    print(\"tracing\")\n",
    "\n",
    "# 第3步\n",
    "with tf.Session(graph=g) as sess:\n",
    "    d_feed={\n",
    "        a: tf.constant(\"hello\"),\n",
    "        b: tf.constant(\"world\")\n",
    "    }\n",
    "    sess.run(c, feed_dict=d_feed)\n",
    "```"
   ]
  },
  {
   "cell_type": "code",
   "execution_count": 4,
   "metadata": {
    "execution": {
     "iopub.execute_input": "2020-06-16T15:58:29.876897Z",
     "iopub.status.busy": "2020-06-16T15:58:29.876477Z",
     "iopub.status.idle": "2020-06-16T15:58:29.889135Z",
     "shell.execute_reply": "2020-06-16T15:58:29.888047Z",
     "shell.execute_reply.started": "2020-06-16T15:58:29.876840Z"
    }
   },
   "outputs": [
    {
     "name": "stdout",
     "output_type": "stream",
     "text": [
      "0\n",
      "1\n",
      "2\n",
      "\n",
      "c shape=()\n",
      "c data=b'helloworld'\n",
      "\n"
     ]
    }
   ],
   "source": [
    "# 使用 【相同的】 【输入参数类型】 调用被@tf.function装饰的函数，不会在创建新的计算图，而是直接计算结果\n",
    "c = myadd(a, b)  # 不会输出 “tracing”\n",
    "print()\n",
    "print(f\"c shape={c.shape}\")\n",
    "print(f\"c data={c}\")\n",
    "print()"
   ]
  },
  {
   "cell_type": "code",
   "execution_count": 5,
   "metadata": {
    "execution": {
     "iopub.execute_input": "2020-06-16T15:58:32.136002Z",
     "iopub.status.busy": "2020-06-16T15:58:32.135525Z",
     "iopub.status.idle": "2020-06-16T15:58:32.226143Z",
     "shell.execute_reply": "2020-06-16T15:58:32.225219Z",
     "shell.execute_reply.started": "2020-06-16T15:58:32.135940Z"
    }
   },
   "outputs": [
    {
     "name": "stdout",
     "output_type": "stream",
     "text": [
      "tracing\n",
      "Tensor(\"add:0\", shape=(), dtype=int32)\n",
      "0\n",
      "1\n",
      "2\n",
      "\n",
      "c shape=()\n",
      "c data=30\n",
      "\n"
     ]
    }
   ],
   "source": [
    "# 使用 【不同的】 【输入参数类型】 再次调用被@tf.function装饰的函数，会重新创建新的计算图，然后在进行计算\n",
    "c = myadd(tf.constant(10), tf.constant(20))  # 会输出 “tracing”\n",
    "print()\n",
    "print(f\"c shape={c.shape}\")\n",
    "print(f\"c data={c}\")\n",
    "print()"
   ]
  },
  {
   "cell_type": "code",
   "execution_count": 6,
   "metadata": {
    "execution": {
     "iopub.execute_input": "2020-06-16T15:58:36.606633Z",
     "iopub.status.busy": "2020-06-16T15:58:36.606046Z",
     "iopub.status.idle": "2020-06-16T15:58:36.754577Z",
     "shell.execute_reply": "2020-06-16T15:58:36.753744Z",
     "shell.execute_reply.started": "2020-06-16T15:58:36.606566Z"
    }
   },
   "outputs": [
    {
     "name": "stdout",
     "output_type": "stream",
     "text": [
      "tracing\n",
      "helloworld\n",
      "0\n",
      "1\n",
      "2\n",
      "\n",
      "c shape=()\n",
      "c data=b'helloworld'\n",
      "\n",
      "==========================================================================================\n",
      "\n",
      "tracing\n",
      "goodmorning\n",
      "0\n",
      "1\n",
      "2\n",
      "\n",
      "c shape=()\n",
      "c data=b'goodmorning'\n",
      "\n"
     ]
    }
   ],
   "source": [
    "# 使用 【非Tensor类型】 的输入参数 调用被@tf.function装饰的函数，每次都会重新创建新的计算图，然后在进行计算\n",
    "c = myadd(\"hello\", \"world\")  # 会输出 “tracing”\n",
    "print()\n",
    "print(f\"c shape={c.shape}\")\n",
    "print(f\"c data={c}\")\n",
    "print()\n",
    "print(\"===\" * 30)\n",
    "print()\n",
    "c = myadd(\"good\", \"morning\")  # 会输出 “tracing”\n",
    "print()\n",
    "print(f\"c shape={c.shape}\")\n",
    "print(f\"c data={c}\")\n",
    "print()"
   ]
  },
  {
   "cell_type": "markdown",
   "metadata": {},
   "source": [
    "### AutoGraph编码规范总结"
   ]
  },
  {
   "cell_type": "markdown",
   "metadata": {},
   "source": [
    "1. 被@tf.function修饰的函数应尽可能使用TensorFlow中的函数而不是Python中的其他函数。例如使用tf.print而不是print，使用tf.range而不是range，使用tf.constant(True)而不是True.\n",
    "\n",
    "2. 避免在@tf.function修饰的函数内部定义tf.Variable.\n",
    "\n",
    "3. 被@tf.function修饰的函数不可修改该函数外部的Python列表或字典等数据结构变量。"
   ]
  },
  {
   "cell_type": "code",
   "execution_count": 7,
   "metadata": {
    "collapsed": false,
    "execution": {
     "iopub.execute_input": "2020-06-16T15:59:24.251215Z",
     "iopub.status.busy": "2020-06-16T15:59:24.250638Z",
     "iopub.status.idle": "2020-06-16T15:59:24.261358Z",
     "shell.execute_reply": "2020-06-16T15:59:24.260010Z",
     "shell.execute_reply.started": "2020-06-16T15:59:24.251146Z"
    },
    "jupyter": {
     "outputs_hidden": false
    },
    "pycharm": {
     "name": "#%%\n"
    }
   },
   "outputs": [],
   "source": [
    "@tf.function\n",
    "def np_random():\n",
    "    a = np.random.randn(3, 3)\n",
    "    tf.print(a)\n",
    "\n",
    "@tf.function\n",
    "def tf_random():\n",
    "    a = tf.random.normal((3, 3))\n",
    "    tf.print(a)"
   ]
  },
  {
   "cell_type": "code",
   "execution_count": 8,
   "metadata": {
    "collapsed": false,
    "execution": {
     "iopub.execute_input": "2020-06-16T15:59:26.219558Z",
     "iopub.status.busy": "2020-06-16T15:59:26.218963Z",
     "iopub.status.idle": "2020-06-16T15:59:26.309205Z",
     "shell.execute_reply": "2020-06-16T15:59:26.308285Z",
     "shell.execute_reply.started": "2020-06-16T15:59:26.219491Z"
    },
    "jupyter": {
     "outputs_hidden": false
    },
    "pycharm": {
     "name": "#%%\n"
    }
   },
   "outputs": [
    {
     "name": "stdout",
     "output_type": "stream",
     "text": [
      "array([[ 1.43561844, -0.25512613, -1.01469098],\n",
      "       [ 0.57805868,  0.19421299, -0.16486978],\n",
      "       [ 1.26378418,  0.49975596, -0.95719563]])\n",
      "array([[ 1.43561844, -0.25512613, -1.01469098],\n",
      "       [ 0.57805868,  0.19421299, -0.16486978],\n",
      "       [ 1.26378418,  0.49975596, -0.95719563]])\n"
     ]
    }
   ],
   "source": [
    "#np_random每次执行都是一样的结果。\n",
    "np_random()\n",
    "np_random()"
   ]
  },
  {
   "cell_type": "code",
   "execution_count": 9,
   "metadata": {
    "collapsed": false,
    "execution": {
     "iopub.execute_input": "2020-06-16T15:59:42.104968Z",
     "iopub.status.busy": "2020-06-16T15:59:42.104386Z",
     "iopub.status.idle": "2020-06-16T15:59:42.202478Z",
     "shell.execute_reply": "2020-06-16T15:59:42.201431Z",
     "shell.execute_reply.started": "2020-06-16T15:59:42.104901Z"
    },
    "jupyter": {
     "outputs_hidden": false
    },
    "pycharm": {
     "name": "#%%\n"
    }
   },
   "outputs": [
    {
     "name": "stdout",
     "output_type": "stream",
     "text": [
      "[[0.685071588 1.08211172 -0.112555772]\n",
      " [0.250782341 0.46712181 1.44548643]\n",
      " [0.564745486 0.192541301 -0.354620546]]\n",
      "[[1.52672839 -0.733891308 0.885099053]\n",
      " [-1.95072043 0.810730398 1.18380439]\n",
      " [0.874663532 0.139958337 -1.71984434]]\n"
     ]
    }
   ],
   "source": [
    "#tf_random每次执行都会有重新生成随机数。\n",
    "tf_random()\n",
    "tf_random()"
   ]
  },
  {
   "cell_type": "code",
   "execution_count": 10,
   "metadata": {
    "collapsed": false,
    "execution": {
     "iopub.execute_input": "2020-06-16T16:00:13.096711Z",
     "iopub.status.busy": "2020-06-16T16:00:13.096113Z",
     "iopub.status.idle": "2020-06-16T16:00:13.226102Z",
     "shell.execute_reply": "2020-06-16T16:00:13.225199Z",
     "shell.execute_reply.started": "2020-06-16T16:00:13.096645Z"
    },
    "jupyter": {
     "outputs_hidden": false
    },
    "pycharm": {
     "name": "#%%\n"
    }
   },
   "outputs": [
    {
     "name": "stdout",
     "output_type": "stream",
     "text": [
      "2\n",
      "3\n"
     ]
    },
    {
     "data": {
      "text/plain": [
       "<tf.Tensor: shape=(), dtype=float32, numpy=3.0>"
      ]
     },
     "execution_count": 10,
     "metadata": {},
     "output_type": "execute_result"
    }
   ],
   "source": [
    "# 避免在@tf.function修饰的函数内部定义tf.Variable.\n",
    "\n",
    "x = tf.Variable(1.0, dtype=tf.float32)\n",
    "\n",
    "@tf.function\n",
    "def outer_var():\n",
    "    x.assign_add(1.0)\n",
    "    tf.print(x)\n",
    "    return(x)\n",
    "\n",
    "outer_var()\n",
    "outer_var()"
   ]
  },
  {
   "cell_type": "code",
   "execution_count": 11,
   "metadata": {
    "collapsed": false,
    "execution": {
     "iopub.execute_input": "2020-06-16T16:00:29.104506Z",
     "iopub.status.busy": "2020-06-16T16:00:29.103922Z",
     "iopub.status.idle": "2020-06-16T16:00:29.113654Z",
     "shell.execute_reply": "2020-06-16T16:00:29.112011Z",
     "shell.execute_reply.started": "2020-06-16T16:00:29.104441Z"
    },
    "jupyter": {
     "outputs_hidden": false
    },
    "pycharm": {
     "name": "#%%\n"
    }
   },
   "outputs": [],
   "source": [
    "@tf.function\n",
    "def inner_var():\n",
    "    x = tf.Variable(1.0, dtype = tf.float32)\n",
    "    x.assign_add(1.0)\n",
    "    tf.print(x)\n",
    "    return(x)\n",
    "\n",
    "#执行将报错\n",
    "# inner_var()\n",
    "#inner_var()"
   ]
  },
  {
   "cell_type": "code",
   "execution_count": 12,
   "metadata": {
    "collapsed": false,
    "execution": {
     "iopub.execute_input": "2020-06-16T16:00:39.470983Z",
     "iopub.status.busy": "2020-06-16T16:00:39.470419Z",
     "iopub.status.idle": "2020-06-16T16:00:39.481531Z",
     "shell.execute_reply": "2020-06-16T16:00:39.480071Z",
     "shell.execute_reply.started": "2020-06-16T16:00:39.470917Z"
    },
    "jupyter": {
     "outputs_hidden": false
    },
    "pycharm": {
     "name": "#%%\n"
    }
   },
   "outputs": [
    {
     "name": "stdout",
     "output_type": "stream",
     "text": [
      "[<tf.Tensor: shape=(), dtype=float32, numpy=5.0>, <tf.Tensor: shape=(), dtype=float32, numpy=6.0>]\n"
     ]
    }
   ],
   "source": [
    "tensor_list = []\n",
    "\n",
    "#@tf.function #加上这一行切换成Autograph结果将不符合预期！！！\n",
    "def append_tensor(x):\n",
    "    tensor_list.append(x)\n",
    "    return tensor_list\n",
    "\n",
    "append_tensor(tf.constant(5.0))\n",
    "append_tensor(tf.constant(6.0))\n",
    "print(tensor_list)"
   ]
  },
  {
   "cell_type": "code",
   "execution_count": 13,
   "metadata": {
    "collapsed": false,
    "execution": {
     "iopub.execute_input": "2020-06-16T16:00:45.898750Z",
     "iopub.status.busy": "2020-06-16T16:00:45.898163Z",
     "iopub.status.idle": "2020-06-16T16:00:45.991144Z",
     "shell.execute_reply": "2020-06-16T16:00:45.989980Z",
     "shell.execute_reply.started": "2020-06-16T16:00:45.898682Z"
    },
    "jupyter": {
     "outputs_hidden": false
    },
    "pycharm": {
     "name": "#%%\n"
    }
   },
   "outputs": [
    {
     "name": "stdout",
     "output_type": "stream",
     "text": [
      "[<tf.Tensor 'x:0' shape=() dtype=float32>]\n"
     ]
    }
   ],
   "source": [
    "tensor_list = []\n",
    "\n",
    "@tf.function # 加上这一行切换成Autograph结果将不符合预期！！！\n",
    "def append_tensor(x):\n",
    "    tensor_list.append(x)\n",
    "    return tensor_list\n",
    "\n",
    "\n",
    "append_tensor(tf.constant(5.0))\n",
    "append_tensor(tf.constant(6.0))\n",
    "print(tensor_list)"
   ]
  },
  {
   "cell_type": "code",
   "execution_count": 14,
   "metadata": {
    "collapsed": false,
    "execution": {
     "iopub.execute_input": "2020-06-16T16:01:09.593125Z",
     "iopub.status.busy": "2020-06-16T16:01:09.592564Z",
     "iopub.status.idle": "2020-06-16T16:01:09.603932Z",
     "shell.execute_reply": "2020-06-16T16:01:09.602520Z",
     "shell.execute_reply.started": "2020-06-16T16:01:09.593061Z"
    },
    "jupyter": {
     "outputs_hidden": false
    },
    "pycharm": {
     "name": "#%%\n"
    }
   },
   "outputs": [
    {
     "data": {
      "text/plain": [
       "array([[0, 1, 0, 1],\n",
       "       [0, 0, 0, 0],\n",
       "       [1, 1, 0, 0],\n",
       "       [0, 0, 0, 0]])"
      ]
     },
     "execution_count": 14,
     "metadata": {},
     "output_type": "execute_result"
    }
   ],
   "source": [
    "a = np.random.randint(0, high=2, size=(4, 4))\n",
    "a"
   ]
  },
  {
   "cell_type": "code",
   "execution_count": null,
   "metadata": {
    "collapsed": false,
    "jupyter": {
     "outputs_hidden": false
    },
    "pycharm": {
     "name": "#%%\n"
    }
   },
   "outputs": [],
   "source": []
  }
 ],
 "metadata": {
  "kernelspec": {
   "display_name": "tf2",
   "language": "python",
   "name": "tf2"
  },
  "language_info": {
   "codemirror_mode": {
    "name": "ipython",
    "version": 3
   },
   "file_extension": ".py",
   "mimetype": "text/x-python",
   "name": "python",
   "nbconvert_exporter": "python",
   "pygments_lexer": "ipython3",
   "version": "3.7.7"
  },
  "toc-autonumbering": true,
  "toc-showmarkdowntxt": true
 },
 "nbformat": 4,
 "nbformat_minor": 4
}

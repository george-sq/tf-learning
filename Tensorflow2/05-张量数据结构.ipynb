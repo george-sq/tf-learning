{
 "cells": [
  {
   "cell_type": "markdown",
   "metadata": {},
   "source": [
    "# TensorFlow张量数据"
   ]
  },
  {
   "cell_type": "code",
   "execution_count": 1,
   "metadata": {
    "execution": {
     "iopub.execute_input": "2020-06-08T10:02:29.238649Z",
     "iopub.status.busy": "2020-06-08T10:02:29.238337Z",
     "iopub.status.idle": "2020-06-08T10:02:30.870949Z",
     "shell.execute_reply": "2020-06-08T10:02:30.870061Z",
     "shell.execute_reply.started": "2020-06-08T10:02:29.238606Z"
    }
   },
   "outputs": [
    {
     "name": "stdout",
     "output_type": "stream",
     "text": [
      "2.1.0\n"
     ]
    }
   ],
   "source": [
    "import numpy as np\n",
    "import tensorflow as tf\n",
    "\n",
    "print(tf.__version__)"
   ]
  },
  {
   "cell_type": "markdown",
   "metadata": {},
   "source": [
    "## 数据类型"
   ]
  },
  {
   "cell_type": "markdown",
   "metadata": {},
   "source": [
    "### 常量"
   ]
  },
  {
   "cell_type": "code",
   "execution_count": 2,
   "metadata": {
    "execution": {
     "iopub.execute_input": "2020-06-08T10:02:30.873160Z",
     "iopub.status.busy": "2020-06-08T10:02:30.872961Z",
     "iopub.status.idle": "2020-06-08T10:02:35.480483Z",
     "shell.execute_reply": "2020-06-08T10:02:35.478847Z",
     "shell.execute_reply.started": "2020-06-08T10:02:30.873134Z"
    }
   },
   "outputs": [
    {
     "name": "stdout",
     "output_type": "stream",
     "text": [
      "tf.Tensor([1. 2.], shape=(2,), dtype=float32)\n",
      "id=140488032128528\n",
      "\n",
      "tf.Tensor([2. 3.], shape=(2,), dtype=float32)\n",
      "id=140488031690832\n"
     ]
    }
   ],
   "source": [
    "# 常量值不可以改变，常量的重新赋值相当于创造新的内存空间\n",
    "c = tf.constant([1.0,2.0])\n",
    "print(c)\n",
    "print(f\"id={id(c)}\")\n",
    "print()\n",
    "c = c + tf.constant([1.0,1.0])\n",
    "print(c)\n",
    "print(f\"id={id(c)}\")"
   ]
  },
  {
   "cell_type": "markdown",
   "metadata": {},
   "source": [
    "### 变量"
   ]
  },
  {
   "cell_type": "code",
   "execution_count": 3,
   "metadata": {
    "execution": {
     "iopub.execute_input": "2020-06-08T10:02:35.483383Z",
     "iopub.status.busy": "2020-06-08T10:02:35.482963Z",
     "iopub.status.idle": "2020-06-08T10:02:35.498832Z",
     "shell.execute_reply": "2020-06-08T10:02:35.497685Z",
     "shell.execute_reply.started": "2020-06-08T10:02:35.483323Z"
    }
   },
   "outputs": [
    {
     "name": "stdout",
     "output_type": "stream",
     "text": [
      "<tf.Variable 'vv:0' shape=(2,) dtype=float32, numpy=array([1., 2.], dtype=float32)>\n",
      "id=140488031728208\n",
      "\n",
      "<tf.Variable 'vv:0' shape=(2,) dtype=float32, numpy=array([2., 3.], dtype=float32)>\n",
      "id=140488031728208\n"
     ]
    }
   ],
   "source": [
    "# 变量的值可以改变，可以通过assign, assign_add等方法给变量重新赋值\n",
    "v = tf.Variable([1.0, 2.0], name = \"vv\")\n",
    "print(v)\n",
    "print(f\"id={id(v)}\")\n",
    "print()\n",
    "v.assign_add([1.0,1.0])\n",
    "print(v)\n",
    "print(f\"id={id(v)}\")"
   ]
  },
  {
   "cell_type": "markdown",
   "metadata": {},
   "source": [
    "## 张量结构"
   ]
  },
  {
   "cell_type": "code",
   "execution_count": 4,
   "metadata": {
    "execution": {
     "iopub.execute_input": "2020-06-08T10:02:35.500554Z",
     "iopub.status.busy": "2020-06-08T10:02:35.500161Z",
     "iopub.status.idle": "2020-06-08T10:02:35.518800Z",
     "shell.execute_reply": "2020-06-08T10:02:35.517698Z",
     "shell.execute_reply.started": "2020-06-08T10:02:35.500502Z"
    }
   },
   "outputs": [
    {
     "name": "stdout",
     "output_type": "stream",
     "text": [
      "True\n",
      "True\n",
      "True\n",
      "False\n"
     ]
    },
    {
     "data": {
      "text/plain": [
       "(<tf.Tensor: shape=(), dtype=int32, numpy=1>,\n",
       " <tf.Tensor: shape=(), dtype=int64, numpy=1>,\n",
       " <tf.Tensor: shape=(), dtype=float32, numpy=1.23>,\n",
       " <tf.Tensor: shape=(), dtype=float64, numpy=3.14>,\n",
       " <tf.Tensor: shape=(), dtype=string, numpy=b'hello world'>,\n",
       " <tf.Tensor: shape=(), dtype=bool, numpy=True>)"
      ]
     },
     "execution_count": 4,
     "metadata": {},
     "output_type": "execute_result"
    }
   ],
   "source": [
    "i = tf.constant(1) # tf.int32 类型常量\n",
    "l = tf.constant(1, dtype = tf.int64) # tf.int64 类型常量\n",
    "f = tf.constant(1.23) #tf.float32 类型常量\n",
    "d = tf.constant(3.14, dtype = tf.double) # tf.double 类型常量\n",
    "s = tf.constant(\"hello world\") # tf.string类型常量\n",
    "b = tf.constant(True) #tf.bool类型常量\n",
    "\n",
    "\n",
    "print(tf.int64 == np.int64) \n",
    "print(tf.bool == np.bool)\n",
    "print(tf.double == np.float64)\n",
    "print(tf.string == np.unicode) # tf.string类型和np.unicode类型不等价\n",
    "\n",
    "i, l, f, d, s, b"
   ]
  },
  {
   "cell_type": "code",
   "execution_count": 5,
   "metadata": {
    "execution": {
     "iopub.execute_input": "2020-06-08T10:02:35.520805Z",
     "iopub.status.busy": "2020-06-08T10:02:35.520424Z",
     "iopub.status.idle": "2020-06-08T10:02:35.536511Z",
     "shell.execute_reply": "2020-06-08T10:02:35.535504Z",
     "shell.execute_reply.started": "2020-06-08T10:02:35.520753Z"
    }
   },
   "outputs": [
    {
     "name": "stdout",
     "output_type": "stream",
     "text": [
      "【scalar rank】: 0\n",
      "【scalar rank】: 0\n",
      "tf.Tensor(True, shape=(), dtype=bool)\n",
      "\n",
      "【vector rank】: 1\n",
      "tf.Tensor([1. 2. 3. 4.], shape=(4,), dtype=float32)\n",
      "\n",
      "【matrix rank】: 2\n",
      "tf.Tensor(\n",
      "[[1. 2.]\n",
      " [3. 4.]], shape=(2, 2), dtype=float32)\n",
      "\n",
      "【tensor rank】: 3\n",
      "tf.Tensor(\n",
      "[[[1. 2.]\n",
      "  [3. 4.]]\n",
      "\n",
      " [[5. 6.]\n",
      "  [7. 8.]]], shape=(2, 2, 2), dtype=float32)\n",
      "\n"
     ]
    }
   ],
   "source": [
    "# 标量，0维张量\n",
    "scalar = tf.constant(True)\n",
    "\n",
    "print(f\"【scalar rank】: {tf.rank(scalar)}\")\n",
    "print(f\"【scalar rank】: {scalar.numpy().ndim}\")  # tf.rank的作用和numpy的ndim方法相同\n",
    "print(scalar)\n",
    "print()\n",
    "\n",
    "# 向量，1维张量\n",
    "vector = tf.constant([1.0,2.0,3.0,4.0])\n",
    "\n",
    "print(f\"【vector rank】: {tf.rank(vector)}\")\n",
    "print(vector)\n",
    "print()\n",
    "\n",
    "# 矩阵, 2维张量\n",
    "matrix = tf.constant([[1.0,2.0],[3.0,4.0]]) \n",
    "\n",
    "print(f\"【matrix rank】: {tf.rank(matrix)}\")\n",
    "print(matrix)\n",
    "print()\n",
    "\n",
    "# 3维张量\n",
    "tensor3 = tf.constant([[[1.0,2.0],[3.0,4.0]],[[5.0,6.0],[7.0,8.0]]])\n",
    "\n",
    "print(f\"【tensor rank】: {tf.rank(tensor3)}\")\n",
    "print(tensor3)\n",
    "print()"
   ]
  },
  {
   "cell_type": "code",
   "execution_count": 6,
   "metadata": {
    "execution": {
     "iopub.execute_input": "2020-06-08T10:02:35.538124Z",
     "iopub.status.busy": "2020-06-08T10:02:35.537761Z",
     "iopub.status.idle": "2020-06-08T10:02:35.545040Z",
     "shell.execute_reply": "2020-06-08T10:02:35.543947Z",
     "shell.execute_reply.started": "2020-06-08T10:02:35.538073Z"
    }
   },
   "outputs": [
    {
     "name": "stdout",
     "output_type": "stream",
     "text": [
      "<dtype: 'int32'> <dtype: 'float32'>\n"
     ]
    }
   ],
   "source": [
    "# 使用tf.cast 修改张量的元素数据类型\n",
    "h = tf.constant([123, 456], dtype=tf.int32)\n",
    "f = tf.cast(h, tf.float32)\n",
    "print(h.dtype, f.dtype)"
   ]
  },
  {
   "cell_type": "code",
   "execution_count": null,
   "metadata": {},
   "outputs": [],
   "source": []
  }
 ],
 "metadata": {
  "kernelspec": {
   "display_name": "TF2",
   "language": "python",
   "name": "tf2"
  },
  "language_info": {
   "codemirror_mode": {
    "name": "ipython",
    "version": 3
   },
   "file_extension": ".py",
   "mimetype": "text/x-python",
   "name": "python",
   "nbconvert_exporter": "python",
   "pygments_lexer": "ipython3",
   "version": "3.7.7"
  }
 },
 "nbformat": 4,
 "nbformat_minor": 4
}
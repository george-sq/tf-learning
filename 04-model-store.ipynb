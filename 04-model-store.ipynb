{
 "cells": [
  {
   "cell_type": "markdown",
   "metadata": {},
   "source": [
    "# Tensorflow模型存储"
   ]
  },
  {
   "cell_type": "code",
   "execution_count": 1,
   "metadata": {
    "execution": {
     "iopub.execute_input": "2020-06-03T15:52:18.219698Z",
     "iopub.status.busy": "2020-06-03T15:52:18.219402Z",
     "iopub.status.idle": "2020-06-03T15:52:20.078174Z",
     "shell.execute_reply": "2020-06-03T15:52:20.077395Z",
     "shell.execute_reply.started": "2020-06-03T15:52:18.219641Z"
    }
   },
   "outputs": [
    {
     "name": "stdout",
     "output_type": "stream",
     "text": [
      "1.15.0\n"
     ]
    }
   ],
   "source": [
    "import os\n",
    "import datetime\n",
    "\n",
    "import tensorflow as tf\n",
    "from tensorflow import keras\n",
    "\n",
    "print(tf.version.VERSION)"
   ]
  },
  {
   "cell_type": "code",
   "execution_count": 2,
   "metadata": {
    "execution": {
     "iopub.execute_input": "2020-06-03T15:52:20.079650Z",
     "iopub.status.busy": "2020-06-03T15:52:20.079465Z",
     "iopub.status.idle": "2020-06-03T15:52:20.339575Z",
     "shell.execute_reply": "2020-06-03T15:52:20.338868Z",
     "shell.execute_reply.started": "2020-06-03T15:52:20.079615Z"
    }
   },
   "outputs": [
    {
     "name": "stdout",
     "output_type": "stream",
     "text": [
      "train_images shape: (1000, 28, 28)\n",
      "train_labels shape: (1000,)\n",
      "\n",
      "test_images shape: (1000, 28, 28)\n",
      "test_labels shape: (1000,)\n"
     ]
    }
   ],
   "source": [
    "(train_images, train_labels), (test_images, test_labels) = tf.keras.datasets.mnist.load_data()\n",
    "\n",
    "train_labels = train_labels[:1000]\n",
    "test_labels = test_labels[:1000]\n",
    "\n",
    "train_images = train_images[:1000]\n",
    "test_images = test_images[:1000]\n",
    "\n",
    "print(f\"train_images shape: {train_images.shape}\")\n",
    "print(f\"train_labels shape: {train_labels.shape}\")\n",
    "print()\n",
    "print(f\"test_images shape: {test_images.shape}\")\n",
    "print(f\"test_labels shape: {test_labels.shape}\")"
   ]
  },
  {
   "cell_type": "code",
   "execution_count": 3,
   "metadata": {
    "execution": {
     "iopub.execute_input": "2020-06-03T15:52:20.340914Z",
     "iopub.status.busy": "2020-06-03T15:52:20.340730Z",
     "iopub.status.idle": "2020-06-03T15:52:20.352379Z",
     "shell.execute_reply": "2020-06-03T15:52:20.351717Z",
     "shell.execute_reply.started": "2020-06-03T15:52:20.340879Z"
    }
   },
   "outputs": [
    {
     "name": "stdout",
     "output_type": "stream",
     "text": [
      "train_images shape: (1000, 784)\n",
      "\n",
      "test_images shape: (1000, 784)\n"
     ]
    }
   ],
   "source": [
    "train_images = train_images.reshape(-1, 28 * 28) / 255.0\n",
    "test_images = test_images.reshape(-1, 28 * 28) / 255.0\n",
    "\n",
    "print(f\"train_images shape: {train_images.shape}\")\n",
    "print()\n",
    "print(f\"test_images shape: {test_images.shape}\")"
   ]
  },
  {
   "cell_type": "code",
   "execution_count": 4,
   "metadata": {
    "execution": {
     "iopub.execute_input": "2020-06-03T15:52:20.353366Z",
     "iopub.status.busy": "2020-06-03T15:52:20.353165Z",
     "iopub.status.idle": "2020-06-03T15:52:20.522961Z",
     "shell.execute_reply": "2020-06-03T15:52:20.522267Z",
     "shell.execute_reply.started": "2020-06-03T15:52:20.353331Z"
    }
   },
   "outputs": [
    {
     "name": "stdout",
     "output_type": "stream",
     "text": [
      "WARNING:tensorflow:From /home/sq/miniconda3/envs/nlpqs/lib/python3.7/site-packages/tensorflow_core/python/ops/resource_variable_ops.py:1630: calling BaseResourceVariable.__init__ (from tensorflow.python.ops.resource_variable_ops) with constraint is deprecated and will be removed in a future version.\n",
      "Instructions for updating:\n",
      "If using Keras pass *_constraint arguments to layers.\n",
      "Model: \"sequential\"\n",
      "_________________________________________________________________\n",
      "Layer (type)                 Output Shape              Param #   \n",
      "=================================================================\n",
      "dense (Dense)                (None, 512)               401920    \n",
      "_________________________________________________________________\n",
      "dropout (Dropout)            (None, 512)               0         \n",
      "_________________________________________________________________\n",
      "dense_1 (Dense)              (None, 10)                5130      \n",
      "=================================================================\n",
      "Total params: 407,050\n",
      "Trainable params: 407,050\n",
      "Non-trainable params: 0\n",
      "_________________________________________________________________\n"
     ]
    }
   ],
   "source": [
    "# 定义一个简单的序列模型\n",
    "def create_model():\n",
    "  model = tf.keras.models.Sequential([\n",
    "    keras.layers.Dense(512, activation='relu', input_shape=(784,)),\n",
    "    keras.layers.Dropout(0.2),\n",
    "    keras.layers.Dense(10, activation='softmax')\n",
    "  ])\n",
    "\n",
    "  model.compile(optimizer='adam',\n",
    "                loss='sparse_categorical_crossentropy',\n",
    "                metrics=['accuracy'])\n",
    "\n",
    "  return model\n",
    "\n",
    "# 创建一个基本的模型实例\n",
    "trained_model = create_model()\n",
    "\n",
    "# 显示模型的结构\n",
    "trained_model.summary()"
   ]
  },
  {
   "cell_type": "markdown",
   "metadata": {},
   "source": [
    "## 保存Checkpoint形式的模型"
   ]
  },
  {
   "cell_type": "markdown",
   "metadata": {},
   "source": [
    "**主要用途**\n",
    "1. 使用 **已有模型** 继续进行模型训练；\n",
    "2. 继续训练 **被中断训练** 的模型；"
   ]
  },
  {
   "cell_type": "code",
   "execution_count": 5,
   "metadata": {
    "execution": {
     "iopub.execute_input": "2020-06-03T15:52:20.524097Z",
     "iopub.status.busy": "2020-06-03T15:52:20.523843Z",
     "iopub.status.idle": "2020-06-03T15:52:20.532946Z",
     "shell.execute_reply": "2020-06-03T15:52:20.532358Z",
     "shell.execute_reply.started": "2020-06-03T15:52:20.523993Z"
    }
   },
   "outputs": [
    {
     "data": {
      "text/plain": [
       "'out/training_1'"
      ]
     },
     "execution_count": 5,
     "metadata": {},
     "output_type": "execute_result"
    }
   ],
   "source": [
    "# today = datetime.datetime.now().strftime(\"%Y%m%d\")\n",
    "checkpoint_path = \"out/training_1/cp.ckpt\"\n",
    "checkpoint_dir = os.path.dirname(checkpoint_path)\n",
    "checkpoint_dir"
   ]
  },
  {
   "cell_type": "markdown",
   "metadata": {},
   "source": [
    "### 设置模型训练的Checkpoint回调"
   ]
  },
  {
   "cell_type": "code",
   "execution_count": 6,
   "metadata": {
    "execution": {
     "iopub.execute_input": "2020-06-03T15:52:20.533911Z",
     "iopub.status.busy": "2020-06-03T15:52:20.533722Z",
     "iopub.status.idle": "2020-06-03T15:52:29.008621Z",
     "shell.execute_reply": "2020-06-03T15:52:29.007246Z",
     "shell.execute_reply.started": "2020-06-03T15:52:20.533877Z"
    }
   },
   "outputs": [
    {
     "name": "stdout",
     "output_type": "stream",
     "text": [
      "Train on 1000 samples, validate on 1000 samples\n",
      "Epoch 1/10\n",
      " 608/1000 [=================>............] - ETA: 0s - loss: 1.5032 - acc: 0.5559 \n",
      "Epoch 00001: saving model to out/training_1/cp.ckpt\n",
      "1000/1000 [==============================] - 1s 742us/sample - loss: 1.1871 - acc: 0.6650 - val_loss: 0.7206 - val_acc: 0.7750\n",
      "Epoch 2/10\n",
      " 992/1000 [============================>.] - ETA: 0s - loss: 0.4310 - acc: 0.8659\n",
      "Epoch 00002: saving model to out/training_1/cp.ckpt\n",
      "1000/1000 [==============================] - 0s 208us/sample - loss: 0.4303 - acc: 0.8660 - val_loss: 0.5345 - val_acc: 0.8480\n",
      "Epoch 3/10\n",
      " 576/1000 [================>.............] - ETA: 0s - loss: 0.3038 - acc: 0.9149\n",
      "Epoch 00003: saving model to out/training_1/cp.ckpt\n",
      "1000/1000 [==============================] - 0s 202us/sample - loss: 0.2872 - acc: 0.9290 - val_loss: 0.4947 - val_acc: 0.8410\n",
      "Epoch 4/10\n",
      " 992/1000 [============================>.] - ETA: 0s - loss: 0.2089 - acc: 0.9496\n",
      "Epoch 00004: saving model to out/training_1/cp.ckpt\n",
      "1000/1000 [==============================] - 0s 212us/sample - loss: 0.2127 - acc: 0.9490 - val_loss: 0.4457 - val_acc: 0.8570\n",
      "Epoch 5/10\n",
      " 992/1000 [============================>.] - ETA: 0s - loss: 0.1518 - acc: 0.9698\n",
      "Epoch 00005: saving model to out/training_1/cp.ckpt\n",
      "1000/1000 [==============================] - 0s 216us/sample - loss: 0.1514 - acc: 0.9700 - val_loss: 0.4372 - val_acc: 0.8600\n",
      "Epoch 6/10\n",
      " 512/1000 [==============>...............] - ETA: 0s - loss: 0.1008 - acc: 0.9824\n",
      "Epoch 00006: saving model to out/training_1/cp.ckpt\n",
      "1000/1000 [==============================] - 0s 203us/sample - loss: 0.1108 - acc: 0.9780 - val_loss: 0.4179 - val_acc: 0.8700\n",
      "Epoch 7/10\n",
      " 544/1000 [===============>..............] - ETA: 0s - loss: 0.0798 - acc: 0.9908\n",
      "Epoch 00007: saving model to out/training_1/cp.ckpt\n",
      "1000/1000 [==============================] - 0s 205us/sample - loss: 0.0852 - acc: 0.9900 - val_loss: 0.4112 - val_acc: 0.8690\n",
      "Epoch 8/10\n",
      " 576/1000 [================>.............] - ETA: 0s - loss: 0.0627 - acc: 0.9913\n",
      "Epoch 00008: saving model to out/training_1/cp.ckpt\n",
      "1000/1000 [==============================] - 0s 203us/sample - loss: 0.0642 - acc: 0.9910 - val_loss: 0.4175 - val_acc: 0.8710\n",
      "Epoch 9/10\n",
      " 992/1000 [============================>.] - ETA: 0s - loss: 0.0481 - acc: 0.9970\n",
      "Epoch 00009: saving model to out/training_1/cp.ckpt\n",
      "1000/1000 [==============================] - 0s 212us/sample - loss: 0.0485 - acc: 0.9970 - val_loss: 0.3995 - val_acc: 0.8730\n",
      "Epoch 10/10\n",
      " 544/1000 [===============>..............] - ETA: 0s - loss: 0.0379 - acc: 1.0000\n",
      "Epoch 00010: saving model to out/training_1/cp.ckpt\n",
      "1000/1000 [==============================] - 0s 207us/sample - loss: 0.0399 - acc: 0.9980 - val_loss: 0.4229 - val_acc: 0.8620\n"
     ]
    },
    {
     "data": {
      "text/plain": [
       "<tensorflow.python.keras.callbacks.History at 0x7fac6fd13ed0>"
      ]
     },
     "execution_count": 6,
     "metadata": {},
     "output_type": "execute_result"
    }
   ],
   "source": [
    "# 创建一个保存模型权重的回调\n",
    "cp_callback = tf.keras.callbacks.ModelCheckpoint(filepath=checkpoint_path,\n",
    "                                                 save_weights_only=True,\n",
    "                                                 verbose=1)\n",
    "\n",
    "# 使用新的回调训练模型\n",
    "trained_model.fit(train_images, \n",
    "                  train_labels,  \n",
    "                  epochs=10,\n",
    "                  validation_data=(test_images,test_labels),\n",
    "                  callbacks=[cp_callback])  # 通过回调训练\n",
    "\n",
    "# 将根据配置的 checkpoint_path 内容，\n",
    "# 创建一个TensorFlow checkpoint文件集合，\n",
    "# 这些文件在每个 epoch 结束时更新"
   ]
  },
  {
   "cell_type": "code",
   "execution_count": 7,
   "metadata": {
    "execution": {
     "iopub.execute_input": "2020-06-03T15:52:29.013181Z",
     "iopub.status.busy": "2020-06-03T15:52:29.012785Z",
     "iopub.status.idle": "2020-06-03T15:52:29.236726Z",
     "shell.execute_reply": "2020-06-03T15:52:29.235194Z",
     "shell.execute_reply.started": "2020-06-03T15:52:29.013106Z"
    }
   },
   "outputs": [
    {
     "name": "stdout",
     "output_type": "stream",
     "text": [
      "total 4784\n",
      "-rw-r--r-- 1 sq sq      71 Jun  3 23:52 checkpoint\n",
      "-rw-r--r-- 1 sq sq 4884624 Jun  3 23:52 cp.ckpt.data-00000-of-00002\n",
      "-rw-r--r-- 1 sq sq    2195 Jun  3 23:52 cp.ckpt.data-00001-of-00002\n",
      "-rw-r--r-- 1 sq sq    1219 Jun  3 23:52 cp.ckpt.index\n"
     ]
    }
   ],
   "source": [
    "!ls -l {checkpoint_dir}"
   ]
  },
  {
   "cell_type": "markdown",
   "metadata": {},
   "source": [
    "### 使用已有Checkpoint文件给新创建的同构模型进行参数共享"
   ]
  },
  {
   "cell_type": "code",
   "execution_count": 8,
   "metadata": {
    "execution": {
     "iopub.execute_input": "2020-06-03T15:52:29.240640Z",
     "iopub.status.busy": "2020-06-03T15:52:29.240145Z",
     "iopub.status.idle": "2020-06-03T15:52:29.581240Z",
     "shell.execute_reply": "2020-06-03T15:52:29.580198Z",
     "shell.execute_reply.started": "2020-06-03T15:52:29.240546Z"
    }
   },
   "outputs": [
    {
     "name": "stdout",
     "output_type": "stream",
     "text": [
      "1000/1000 - 0s - loss: 2.4024 - acc: 0.0510\n",
      "Untrained model, accuracy:  5.10%\n"
     ]
    }
   ],
   "source": [
    "# 创建一个 同结构的、未训练的 新基本模型实例：\n",
    "# 只有与原始模型具有相同网络结构，才能进行参数共享\n",
    "# 只有与原始模型具有相同网络结构，才能进行参数共享\n",
    "# 只有与原始模型具有相同网络结构，才能进行参数共享\n",
    "model = create_model()\n",
    "\n",
    "# 评估模型 - 共享参数前\n",
    "loss, acc = model.evaluate(test_images,  test_labels, verbose=2)\n",
    "print(\"Untrained model, accuracy: {:5.2f}%\".format(100 * acc))"
   ]
  },
  {
   "cell_type": "code",
   "execution_count": 9,
   "metadata": {
    "execution": {
     "iopub.execute_input": "2020-06-03T15:52:29.583043Z",
     "iopub.status.busy": "2020-06-03T15:52:29.582715Z",
     "iopub.status.idle": "2020-06-03T15:52:29.717148Z",
     "shell.execute_reply": "2020-06-03T15:52:29.716014Z",
     "shell.execute_reply.started": "2020-06-03T15:52:29.582982Z"
    }
   },
   "outputs": [
    {
     "name": "stdout",
     "output_type": "stream",
     "text": [
      "1000/1000 - 0s - loss: 0.4229 - acc: 0.8620\n",
      "Restored model, accuracy: 86.20%\n"
     ]
    }
   ],
   "source": [
    "# 加载权重\n",
    "model.load_weights(checkpoint_path)\n",
    "\n",
    "# 重新评估模型 - 共享参数后\n",
    "loss,acc = model.evaluate(test_images,  test_labels, verbose=2)\n",
    "print(\"Restored model, accuracy: {:5.2f}%\".format(100*acc))"
   ]
  },
  {
   "cell_type": "markdown",
   "metadata": {},
   "source": [
    "### Checkpoint回调的可选设置"
   ]
  },
  {
   "cell_type": "code",
   "execution_count": 10,
   "metadata": {
    "execution": {
     "iopub.execute_input": "2020-06-03T15:52:29.719388Z",
     "iopub.status.busy": "2020-06-03T15:52:29.718827Z",
     "iopub.status.idle": "2020-06-03T15:52:40.430836Z",
     "shell.execute_reply": "2020-06-03T15:52:40.429633Z",
     "shell.execute_reply.started": "2020-06-03T15:52:29.719134Z"
    }
   },
   "outputs": [
    {
     "name": "stdout",
     "output_type": "stream",
     "text": [
      "\n",
      "checkpoint_path=out/training_2/cp-{epoch:04d}.ckpt\n",
      "\n",
      "WARNING:tensorflow:`period` argument is deprecated. Please use `save_freq` to specify the frequency in number of samples seen.\n",
      "\n",
      "Epoch 00005: saving model to out/training_2/cp-0005.ckpt\n",
      "\n",
      "Epoch 00010: saving model to out/training_2/cp-0010.ckpt\n",
      "\n",
      "Epoch 00015: saving model to out/training_2/cp-0015.ckpt\n",
      "\n",
      "Epoch 00020: saving model to out/training_2/cp-0020.ckpt\n",
      "\n",
      "Epoch 00025: saving model to out/training_2/cp-0025.ckpt\n",
      "\n",
      "Epoch 00030: saving model to out/training_2/cp-0030.ckpt\n",
      "\n",
      "Epoch 00035: saving model to out/training_2/cp-0035.ckpt\n",
      "\n",
      "Epoch 00040: saving model to out/training_2/cp-0040.ckpt\n",
      "\n",
      "Epoch 00045: saving model to out/training_2/cp-0045.ckpt\n",
      "\n",
      "Epoch 00050: saving model to out/training_2/cp-0050.ckpt\n"
     ]
    },
    {
     "data": {
      "text/plain": [
       "<tensorflow.python.keras.callbacks.History at 0x7face9b596d0>"
      ]
     },
     "execution_count": 10,
     "metadata": {},
     "output_type": "execute_result"
    }
   ],
   "source": [
    "# 创建一个新的模型实例\n",
    "model = create_model()\n",
    "\n",
    "# 1. 使用 `str.format` 字符串，在Checkpoint文件的命名中，增加 epoch 内容\n",
    "checkpoint_path = \"out/training_2/cp-{epoch:04d}.ckpt\"\n",
    "checkpoint_dir = os.path.dirname(checkpoint_path)\n",
    "# 使用 `checkpoint_path` 格式保存权重\n",
    "model.save_weights(checkpoint_path.format(epoch=0))\n",
    "print()\n",
    "print(f\"checkpoint_path={checkpoint_path}\")\n",
    "print()\n",
    "\n",
    "# 2. 使用参数period，在创建Checkpoint回调时，设置每完成 5 个 epochs 保存模型的权重；\n",
    "#    Tensorflow在默认情况中，仅保存最近的5个 checkpoint 内容；\n",
    "cp_callback = tf.keras.callbacks.ModelCheckpoint(\n",
    "    filepath=checkpoint_path, \n",
    "    verbose=1, \n",
    "    save_weights_only=True,\n",
    "    period=5)\n",
    "\n",
    "# 使用新的回调*训练*模型\n",
    "model.fit(train_images, \n",
    "          train_labels,\n",
    "          epochs=50, \n",
    "          callbacks=[cp_callback],\n",
    "          validation_data=(test_images, test_labels),\n",
    "          verbose=0)"
   ]
  },
  {
   "cell_type": "code",
   "execution_count": 11,
   "metadata": {
    "execution": {
     "iopub.execute_input": "2020-06-03T15:52:40.433120Z",
     "iopub.status.busy": "2020-06-03T15:52:40.432642Z",
     "iopub.status.idle": "2020-06-03T15:52:40.657896Z",
     "shell.execute_reply": "2020-06-03T15:52:40.656361Z",
     "shell.execute_reply.started": "2020-06-03T15:52:40.432948Z"
    }
   },
   "outputs": [
    {
     "name": "stdout",
     "output_type": "stream",
     "text": [
      "checkpoint\t\t\t  cp-0025.ckpt.data-00001-of-00002\n",
      "cp-0000.ckpt.data-00000-of-00002  cp-0025.ckpt.index\n",
      "cp-0000.ckpt.data-00001-of-00002  cp-0030.ckpt.data-00000-of-00002\n",
      "cp-0000.ckpt.index\t\t  cp-0030.ckpt.data-00001-of-00002\n",
      "cp-0005.ckpt.data-00000-of-00002  cp-0030.ckpt.index\n",
      "cp-0005.ckpt.data-00001-of-00002  cp-0035.ckpt.data-00000-of-00002\n",
      "cp-0005.ckpt.index\t\t  cp-0035.ckpt.data-00001-of-00002\n",
      "cp-0010.ckpt.data-00000-of-00002  cp-0035.ckpt.index\n",
      "cp-0010.ckpt.data-00001-of-00002  cp-0040.ckpt.data-00000-of-00002\n",
      "cp-0010.ckpt.index\t\t  cp-0040.ckpt.data-00001-of-00002\n",
      "cp-0015.ckpt.data-00000-of-00002  cp-0040.ckpt.index\n",
      "cp-0015.ckpt.data-00001-of-00002  cp-0045.ckpt.data-00000-of-00002\n",
      "cp-0015.ckpt.index\t\t  cp-0045.ckpt.data-00001-of-00002\n",
      "cp-0020.ckpt.data-00000-of-00002  cp-0045.ckpt.index\n",
      "cp-0020.ckpt.data-00001-of-00002  cp-0050.ckpt.data-00000-of-00002\n",
      "cp-0020.ckpt.index\t\t  cp-0050.ckpt.data-00001-of-00002\n",
      "cp-0025.ckpt.data-00000-of-00002  cp-0050.ckpt.index\n"
     ]
    }
   ],
   "source": [
    "! ls {checkpoint_dir}"
   ]
  },
  {
   "cell_type": "code",
   "execution_count": 12,
   "metadata": {
    "execution": {
     "iopub.execute_input": "2020-06-03T15:52:40.660916Z",
     "iopub.status.busy": "2020-06-03T15:52:40.660294Z",
     "iopub.status.idle": "2020-06-03T15:52:40.673727Z",
     "shell.execute_reply": "2020-06-03T15:52:40.672626Z",
     "shell.execute_reply.started": "2020-06-03T15:52:40.660720Z"
    }
   },
   "outputs": [
    {
     "data": {
      "text/plain": [
       "'out/training_2/cp-0050.ckpt'"
      ]
     },
     "execution_count": 12,
     "metadata": {},
     "output_type": "execute_result"
    }
   ],
   "source": [
    "# 选择最新的 checkpoint 文件\n",
    "latest = tf.train.latest_checkpoint(checkpoint_dir)\n",
    "latest"
   ]
  },
  {
   "cell_type": "code",
   "execution_count": 13,
   "metadata": {
    "execution": {
     "iopub.execute_input": "2020-06-03T15:52:40.675908Z",
     "iopub.status.busy": "2020-06-03T15:52:40.675401Z",
     "iopub.status.idle": "2020-06-03T15:52:41.170507Z",
     "shell.execute_reply": "2020-06-03T15:52:41.169170Z",
     "shell.execute_reply.started": "2020-06-03T15:52:40.675730Z"
    }
   },
   "outputs": [
    {
     "name": "stdout",
     "output_type": "stream",
     "text": [
      "1000/1000 - 0s - loss: 0.4915 - acc: 0.8700\n",
      "Restored model, accuracy: 87.00%\n"
     ]
    }
   ],
   "source": [
    "# 创建一个新的模型实例\n",
    "model = create_model()\n",
    "\n",
    "# 加载以前保存的权重\n",
    "model.load_weights(latest)\n",
    "\n",
    "# 重新评估模型\n",
    "loss, acc = model.evaluate(test_images,  test_labels, verbose=2)\n",
    "print(\"Restored model, accuracy: {:5.2f}%\".format(100*acc))"
   ]
  },
  {
   "cell_type": "markdown",
   "metadata": {},
   "source": [
    "### Checkpoint文件集合介绍"
   ]
  },
  {
   "cell_type": "markdown",
   "metadata": {},
   "source": [
    "Checkpoint是一个**格式化文件集合**，这些文件中仅保存二进制格式的模型参数权重；Checkpoint包含如下内容：\n",
    "1. **索引文件**，指示哪些权重存储在哪个分片中，带有```*.index```后缀；\n",
    "2. **分片文件**，一个或多个包含模型参数权重的分片文件；"
   ]
  },
  {
   "cell_type": "markdown",
   "metadata": {},
   "source": [
    "### 手动保存模型参数的权重"
   ]
  },
  {
   "cell_type": "code",
   "execution_count": 14,
   "metadata": {
    "execution": {
     "iopub.execute_input": "2020-06-03T15:52:41.172727Z",
     "iopub.status.busy": "2020-06-03T15:52:41.172340Z",
     "iopub.status.idle": "2020-06-03T15:52:41.755350Z",
     "shell.execute_reply": "2020-06-03T15:52:41.754057Z",
     "shell.execute_reply.started": "2020-06-03T15:52:41.172654Z"
    }
   },
   "outputs": [
    {
     "name": "stdout",
     "output_type": "stream",
     "text": [
      "1000/1000 - 0s - loss: 0.4915 - acc: 0.8700\n",
      "Restored model, accuracy: 87.00%\n"
     ]
    }
   ],
   "source": [
    "# 保存权重\n",
    "model.save_weights('out/checkpoints/my_checkpoint')\n",
    "\n",
    "# 创建模型实例\n",
    "model = create_model()\n",
    "\n",
    "# Restore the weights\n",
    "model.load_weights('out/checkpoints/my_checkpoint')\n",
    "\n",
    "# Evaluate the model\n",
    "loss,acc = model.evaluate(test_images,  test_labels, verbose=2)\n",
    "print(\"Restored model, accuracy: {:5.2f}%\".format(100*acc))"
   ]
  },
  {
   "cell_type": "markdown",
   "metadata": {},
   "source": [
    "## 保存完整的训练模型"
   ]
  },
  {
   "cell_type": "markdown",
   "metadata": {},
   "source": [
    "### 将模型保存为HDF5文件\n",
    "保存模型相关的所有内容：\n",
    "\n",
    "- 模型配置(结构)\n",
    "- 优化器配置\n",
    "- 参数权重"
   ]
  },
  {
   "cell_type": "code",
   "execution_count": 15,
   "metadata": {
    "execution": {
     "iopub.execute_input": "2020-06-03T15:58:36.832961Z",
     "iopub.status.busy": "2020-06-03T15:58:36.832406Z",
     "iopub.status.idle": "2020-06-03T15:58:38.366325Z",
     "shell.execute_reply": "2020-06-03T15:58:38.365249Z",
     "shell.execute_reply.started": "2020-06-03T15:58:36.832872Z"
    }
   },
   "outputs": [
    {
     "name": "stdout",
     "output_type": "stream",
     "text": [
      "Train on 1000 samples\n",
      "Epoch 1/5\n",
      "1000/1000 [==============================] - 0s 191us/sample - loss: 1.1265 - acc: 0.6810\n",
      "Epoch 2/5\n",
      "1000/1000 [==============================] - 0s 108us/sample - loss: 0.4143 - acc: 0.8880\n",
      "Epoch 3/5\n",
      "1000/1000 [==============================] - 0s 114us/sample - loss: 0.2895 - acc: 0.9240\n",
      "Epoch 4/5\n",
      "1000/1000 [==============================] - 0s 122us/sample - loss: 0.2093 - acc: 0.9490\n",
      "Epoch 5/5\n",
      "1000/1000 [==============================] - 0s 115us/sample - loss: 0.1530 - acc: 0.9660\n"
     ]
    }
   ],
   "source": [
    "# 创建一个新的模型实例\n",
    "model = create_model()\n",
    "\n",
    "# 训练模型\n",
    "model.fit(train_images, train_labels, epochs=5)\n",
    "\n",
    "# 将整个模型保存为HDF5文件\n",
    "model.save('out/my_model.h5')"
   ]
  },
  {
   "cell_type": "code",
   "execution_count": 17,
   "metadata": {
    "execution": {
     "iopub.execute_input": "2020-06-03T15:59:04.131876Z",
     "iopub.status.busy": "2020-06-03T15:59:04.131396Z",
     "iopub.status.idle": "2020-06-03T15:59:05.174900Z",
     "shell.execute_reply": "2020-06-03T15:59:05.173500Z",
     "shell.execute_reply.started": "2020-06-03T15:59:04.131786Z"
    }
   },
   "outputs": [
    {
     "name": "stdout",
     "output_type": "stream",
     "text": [
      "WARNING:tensorflow:From /home/sq/miniconda3/envs/nlpqs/lib/python3.7/site-packages/tensorflow_core/python/ops/init_ops.py:97: calling GlorotUniform.__init__ (from tensorflow.python.ops.init_ops) with dtype is deprecated and will be removed in a future version.\n",
      "Instructions for updating:\n",
      "Call initializer instance with the dtype argument instead of passing it to the constructor\n",
      "WARNING:tensorflow:From /home/sq/miniconda3/envs/nlpqs/lib/python3.7/site-packages/tensorflow_core/python/ops/init_ops.py:97: calling Zeros.__init__ (from tensorflow.python.ops.init_ops) with dtype is deprecated and will be removed in a future version.\n",
      "Instructions for updating:\n",
      "Call initializer instance with the dtype argument instead of passing it to the constructor\n",
      "Model: \"sequential_5\"\n",
      "_________________________________________________________________\n",
      "Layer (type)                 Output Shape              Param #   \n",
      "=================================================================\n",
      "dense_10 (Dense)             (None, 512)               401920    \n",
      "_________________________________________________________________\n",
      "dropout_5 (Dropout)          (None, 512)               0         \n",
      "_________________________________________________________________\n",
      "dense_11 (Dense)             (None, 10)                5130      \n",
      "=================================================================\n",
      "Total params: 407,050\n",
      "Trainable params: 407,050\n",
      "Non-trainable params: 0\n",
      "_________________________________________________________________\n"
     ]
    }
   ],
   "source": [
    "# 重新创建完全相同的模型，包括其权重和优化程序\n",
    "new_model = keras.models.load_model('out/my_model.h5')\n",
    "\n",
    "# 显示网络结构\n",
    "new_model.summary()"
   ]
  },
  {
   "cell_type": "code",
   "execution_count": 18,
   "metadata": {
    "execution": {
     "iopub.execute_input": "2020-06-03T15:59:16.337731Z",
     "iopub.status.busy": "2020-06-03T15:59:16.337209Z",
     "iopub.status.idle": "2020-06-03T15:59:16.598296Z",
     "shell.execute_reply": "2020-06-03T15:59:16.597188Z",
     "shell.execute_reply.started": "2020-06-03T15:59:16.337642Z"
    }
   },
   "outputs": [
    {
     "name": "stdout",
     "output_type": "stream",
     "text": [
      "1000/1000 - 0s - loss: 0.4351 - acc: 0.8560\n",
      "Restored model, accuracy: 85.60%\n"
     ]
    }
   ],
   "source": [
    "loss, acc = new_model.evaluate(test_images,  test_labels, verbose=2)\n",
    "print(\"Restored model, accuracy: {:5.2f}%\".format(100*acc))"
   ]
  },
  {
   "cell_type": "code",
   "execution_count": null,
   "metadata": {},
   "outputs": [],
   "source": []
  }
 ],
 "metadata": {
  "kernelspec": {
   "display_name": "nlpqs",
   "language": "python",
   "name": "nlpqs"
  },
  "language_info": {
   "codemirror_mode": {
    "name": "ipython",
    "version": 3
   },
   "file_extension": ".py",
   "mimetype": "text/x-python",
   "name": "python",
   "nbconvert_exporter": "python",
   "pygments_lexer": "ipython3",
   "version": "3.7.6"
  },
  "toc-autonumbering": true,
  "toc-showmarkdowntxt": true
 },
 "nbformat": 4,
 "nbformat_minor": 4
}

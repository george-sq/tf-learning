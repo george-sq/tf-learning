{
 "cells": [
  {
   "cell_type": "markdown",
   "metadata": {},
   "source": [
    "# 范例1 - 结构化数据的建模流程"
   ]
  },
  {
   "cell_type": "code",
   "execution_count": 1,
   "metadata": {
    "execution": {
     "iopub.execute_input": "2020-06-08T08:26:48.547864Z",
     "iopub.status.busy": "2020-06-08T08:26:48.547401Z",
     "iopub.status.idle": "2020-06-08T08:26:50.704182Z",
     "shell.execute_reply": "2020-06-08T08:26:50.703388Z",
     "shell.execute_reply.started": "2020-06-08T08:26:48.547778Z"
    }
   },
   "outputs": [
    {
     "data": {
      "text/html": [
       "<div>\n",
       "<style scoped>\n",
       "    .dataframe tbody tr th:only-of-type {\n",
       "        vertical-align: middle;\n",
       "    }\n",
       "\n",
       "    .dataframe tbody tr th {\n",
       "        vertical-align: top;\n",
       "    }\n",
       "\n",
       "    .dataframe thead th {\n",
       "        text-align: right;\n",
       "    }\n",
       "</style>\n",
       "<table border=\"1\" class=\"dataframe\">\n",
       "  <thead>\n",
       "    <tr style=\"text-align: right;\">\n",
       "      <th></th>\n",
       "      <th>PassengerId</th>\n",
       "      <th>Survived</th>\n",
       "      <th>Pclass</th>\n",
       "      <th>Name</th>\n",
       "      <th>Sex</th>\n",
       "      <th>Age</th>\n",
       "      <th>SibSp</th>\n",
       "      <th>Parch</th>\n",
       "      <th>Ticket</th>\n",
       "      <th>Fare</th>\n",
       "      <th>Cabin</th>\n",
       "      <th>Embarked</th>\n",
       "    </tr>\n",
       "  </thead>\n",
       "  <tbody>\n",
       "    <tr>\n",
       "      <th>0</th>\n",
       "      <td>493</td>\n",
       "      <td>0</td>\n",
       "      <td>1</td>\n",
       "      <td>Molson, Mr. Harry Markland</td>\n",
       "      <td>male</td>\n",
       "      <td>55.0</td>\n",
       "      <td>0</td>\n",
       "      <td>0</td>\n",
       "      <td>113787</td>\n",
       "      <td>30.5000</td>\n",
       "      <td>C30</td>\n",
       "      <td>S</td>\n",
       "    </tr>\n",
       "    <tr>\n",
       "      <th>1</th>\n",
       "      <td>53</td>\n",
       "      <td>1</td>\n",
       "      <td>1</td>\n",
       "      <td>Harper, Mrs. Henry Sleeper (Myna Haxtun)</td>\n",
       "      <td>female</td>\n",
       "      <td>49.0</td>\n",
       "      <td>1</td>\n",
       "      <td>0</td>\n",
       "      <td>PC 17572</td>\n",
       "      <td>76.7292</td>\n",
       "      <td>D33</td>\n",
       "      <td>C</td>\n",
       "    </tr>\n",
       "    <tr>\n",
       "      <th>2</th>\n",
       "      <td>388</td>\n",
       "      <td>1</td>\n",
       "      <td>2</td>\n",
       "      <td>Buss, Miss. Kate</td>\n",
       "      <td>female</td>\n",
       "      <td>36.0</td>\n",
       "      <td>0</td>\n",
       "      <td>0</td>\n",
       "      <td>27849</td>\n",
       "      <td>13.0000</td>\n",
       "      <td>NaN</td>\n",
       "      <td>S</td>\n",
       "    </tr>\n",
       "    <tr>\n",
       "      <th>3</th>\n",
       "      <td>192</td>\n",
       "      <td>0</td>\n",
       "      <td>2</td>\n",
       "      <td>Carbines, Mr. William</td>\n",
       "      <td>male</td>\n",
       "      <td>19.0</td>\n",
       "      <td>0</td>\n",
       "      <td>0</td>\n",
       "      <td>28424</td>\n",
       "      <td>13.0000</td>\n",
       "      <td>NaN</td>\n",
       "      <td>S</td>\n",
       "    </tr>\n",
       "    <tr>\n",
       "      <th>4</th>\n",
       "      <td>687</td>\n",
       "      <td>0</td>\n",
       "      <td>3</td>\n",
       "      <td>Panula, Mr. Jaako Arnold</td>\n",
       "      <td>male</td>\n",
       "      <td>14.0</td>\n",
       "      <td>4</td>\n",
       "      <td>1</td>\n",
       "      <td>3101295</td>\n",
       "      <td>39.6875</td>\n",
       "      <td>NaN</td>\n",
       "      <td>S</td>\n",
       "    </tr>\n",
       "    <tr>\n",
       "      <th>5</th>\n",
       "      <td>16</td>\n",
       "      <td>1</td>\n",
       "      <td>2</td>\n",
       "      <td>Hewlett, Mrs. (Mary D Kingcome)</td>\n",
       "      <td>female</td>\n",
       "      <td>55.0</td>\n",
       "      <td>0</td>\n",
       "      <td>0</td>\n",
       "      <td>248706</td>\n",
       "      <td>16.0000</td>\n",
       "      <td>NaN</td>\n",
       "      <td>S</td>\n",
       "    </tr>\n",
       "    <tr>\n",
       "      <th>6</th>\n",
       "      <td>228</td>\n",
       "      <td>0</td>\n",
       "      <td>3</td>\n",
       "      <td>Lovell, Mr. John Hall (\"Henry\")</td>\n",
       "      <td>male</td>\n",
       "      <td>20.5</td>\n",
       "      <td>0</td>\n",
       "      <td>0</td>\n",
       "      <td>A/5 21173</td>\n",
       "      <td>7.2500</td>\n",
       "      <td>NaN</td>\n",
       "      <td>S</td>\n",
       "    </tr>\n",
       "    <tr>\n",
       "      <th>7</th>\n",
       "      <td>884</td>\n",
       "      <td>0</td>\n",
       "      <td>2</td>\n",
       "      <td>Banfield, Mr. Frederick James</td>\n",
       "      <td>male</td>\n",
       "      <td>28.0</td>\n",
       "      <td>0</td>\n",
       "      <td>0</td>\n",
       "      <td>C.A./SOTON 34068</td>\n",
       "      <td>10.5000</td>\n",
       "      <td>NaN</td>\n",
       "      <td>S</td>\n",
       "    </tr>\n",
       "    <tr>\n",
       "      <th>8</th>\n",
       "      <td>168</td>\n",
       "      <td>0</td>\n",
       "      <td>3</td>\n",
       "      <td>Skoog, Mrs. William (Anna Bernhardina Karlsson)</td>\n",
       "      <td>female</td>\n",
       "      <td>45.0</td>\n",
       "      <td>1</td>\n",
       "      <td>4</td>\n",
       "      <td>347088</td>\n",
       "      <td>27.9000</td>\n",
       "      <td>NaN</td>\n",
       "      <td>S</td>\n",
       "    </tr>\n",
       "    <tr>\n",
       "      <th>9</th>\n",
       "      <td>752</td>\n",
       "      <td>1</td>\n",
       "      <td>3</td>\n",
       "      <td>Moor, Master. Meier</td>\n",
       "      <td>male</td>\n",
       "      <td>6.0</td>\n",
       "      <td>0</td>\n",
       "      <td>1</td>\n",
       "      <td>392096</td>\n",
       "      <td>12.4750</td>\n",
       "      <td>E121</td>\n",
       "      <td>S</td>\n",
       "    </tr>\n",
       "  </tbody>\n",
       "</table>\n",
       "</div>"
      ],
      "text/plain": [
       "   PassengerId  Survived  Pclass  \\\n",
       "0          493         0       1   \n",
       "1           53         1       1   \n",
       "2          388         1       2   \n",
       "3          192         0       2   \n",
       "4          687         0       3   \n",
       "5           16         1       2   \n",
       "6          228         0       3   \n",
       "7          884         0       2   \n",
       "8          168         0       3   \n",
       "9          752         1       3   \n",
       "\n",
       "                                              Name     Sex   Age  SibSp  \\\n",
       "0                       Molson, Mr. Harry Markland    male  55.0      0   \n",
       "1         Harper, Mrs. Henry Sleeper (Myna Haxtun)  female  49.0      1   \n",
       "2                                 Buss, Miss. Kate  female  36.0      0   \n",
       "3                            Carbines, Mr. William    male  19.0      0   \n",
       "4                         Panula, Mr. Jaako Arnold    male  14.0      4   \n",
       "5                 Hewlett, Mrs. (Mary D Kingcome)   female  55.0      0   \n",
       "6                  Lovell, Mr. John Hall (\"Henry\")    male  20.5      0   \n",
       "7                    Banfield, Mr. Frederick James    male  28.0      0   \n",
       "8  Skoog, Mrs. William (Anna Bernhardina Karlsson)  female  45.0      1   \n",
       "9                              Moor, Master. Meier    male   6.0      0   \n",
       "\n",
       "   Parch            Ticket     Fare Cabin Embarked  \n",
       "0      0            113787  30.5000   C30        S  \n",
       "1      0          PC 17572  76.7292   D33        C  \n",
       "2      0             27849  13.0000   NaN        S  \n",
       "3      0             28424  13.0000   NaN        S  \n",
       "4      1           3101295  39.6875   NaN        S  \n",
       "5      0            248706  16.0000   NaN        S  \n",
       "6      0         A/5 21173   7.2500   NaN        S  \n",
       "7      0  C.A./SOTON 34068  10.5000   NaN        S  \n",
       "8      4            347088  27.9000   NaN        S  \n",
       "9      1            392096  12.4750  E121        S  "
      ]
     },
     "execution_count": 1,
     "metadata": {},
     "output_type": "execute_result"
    }
   ],
   "source": [
    "import os\n",
    "import numpy as np \n",
    "import pandas as pd \n",
    "import matplotlib.pyplot as plt\n",
    "import tensorflow as tf \n",
    "from tensorflow.keras import models,layers\n",
    "\n",
    "dir_data = \"/home/sq/data/eat_tensorflow2_in_30_days\"\n",
    "name_data = \"titanic\"\n",
    "dir_titanic = os.path.join(dir_data, name_data)\n",
    "\n",
    "train_csv = \"train.csv\"\n",
    "test_csv = \"test.csv\"\n",
    "\n",
    "path_train = os.path.join(dir_titanic, train_csv)\n",
    "path_test = os.path.join(dir_titanic, test_csv)\n",
    "\n",
    "df_train_raw = pd.read_csv(path_train)\n",
    "df_test_raw = pd.read_csv(path_test)\n",
    "\n",
    "df_train_raw.head(10)"
   ]
  },
  {
   "cell_type": "markdown",
   "metadata": {},
   "source": [
    "**字段说明**：\n",
    "- Survived:0代表死亡，1代表存活【y标签】\n",
    "- Pclass:乘客所持票类，有三种值(1,2,3) 【转换成onehot编码】\n",
    "- Name:乘客姓名 【舍去】\n",
    "- Sex:乘客性别 【转换成bool特征】\n",
    "- Age:乘客年龄(有缺失) 【数值特征，添加“年龄是否缺失”作为辅助特征】\n",
    "- SibSp:乘客兄弟姐妹/配偶的个数(整数值) 【数值特征】\n",
    "- Parch:乘客父母/孩子的个数(整数值)【数值特征】\n",
    "- Ticket:票号(字符串)【舍去】\n",
    "- Fare:乘客所持票的价格(浮点数，0-500不等) 【数值特征】\n",
    "- Cabin:乘客所在船舱(有缺失) 【添加“所在船舱是否缺失”作为辅助特征】\n",
    "- Embarked:乘客登船港口:S、C、Q(有缺失)【转换成onehot编码，四维度 S,C,Q,nan】\n"
   ]
  },
  {
   "cell_type": "code",
   "execution_count": 2,
   "metadata": {
    "execution": {
     "iopub.execute_input": "2020-06-08T08:26:50.706207Z",
     "iopub.status.busy": "2020-06-08T08:26:50.705827Z",
     "iopub.status.idle": "2020-06-08T08:26:51.006232Z",
     "shell.execute_reply": "2020-06-08T08:26:51.005371Z",
     "shell.execute_reply.started": "2020-06-08T08:26:50.706074Z"
    }
   },
   "outputs": [
    {
     "data": {
      "image/png": "[encoded data removed]",
      "text/plain": [
       "<Figure size 864x576 with 1 Axes>"
      ]
     },
     "metadata": {
      "needs_background": "light"
     },
     "output_type": "display_data"
    }
   ],
   "source": [
    "# %matplotlib inline\n",
    "# %config InlineBackend.figure_format = 'png'\n",
    "# 乘客存活统计\n",
    "ax = df_train_raw['Survived'].value_counts().plot(kind='bar', figsize=(12, 8), fontsize=15, rot=0)\n",
    "ax.set_ylabel('Counts',fontsize = 15)\n",
    "ax.set_xlabel('Survived',fontsize = 15)\n",
    "plt.show()"
   ]
  },
  {
   "cell_type": "code",
   "execution_count": 3,
   "metadata": {
    "execution": {
     "iopub.execute_input": "2020-06-08T08:26:51.008061Z",
     "iopub.status.busy": "2020-06-08T08:26:51.007823Z",
     "iopub.status.idle": "2020-06-08T08:26:51.366277Z",
     "shell.execute_reply": "2020-06-08T08:26:51.365421Z",
     "shell.execute_reply.started": "2020-06-08T08:26:51.008015Z"
    }
   },
   "outputs": [
    {
     "data": {
      "image/png": "[encoded data removed]",
      "text/plain": [
       "<Figure size 864x576 with 1 Axes>"
      ]
     },
     "metadata": {
      "needs_background": "light"
     },
     "output_type": "display_data"
    }
   ],
   "source": [
    "# 乘客年龄分布\n",
    "ax = df_train_raw['Age'].plot(kind='hist', bins=20, color='purple', figsize=(12, 8), fontsize=15)\n",
    "\n",
    "ax.set_ylabel('Frequency',fontsize = 15)\n",
    "ax.set_xlabel('Age',fontsize = 15)\n",
    "plt.show()"
   ]
  },
  {
   "cell_type": "code",
   "execution_count": 4,
   "metadata": {
    "execution": {
     "iopub.execute_input": "2020-06-08T08:26:51.367927Z",
     "iopub.status.busy": "2020-06-08T08:26:51.367656Z",
     "iopub.status.idle": "2020-06-08T08:26:51.839178Z",
     "shell.execute_reply": "2020-06-08T08:26:51.838441Z",
     "shell.execute_reply.started": "2020-06-08T08:26:51.367883Z"
    }
   },
   "outputs": [
    {
     "data": {
      "image/png": "[encoded data removed]",
      "text/plain": [
       "<Figure size 864x576 with 1 Axes>"
      ]
     },
     "metadata": {
      "needs_background": "light"
     },
     "output_type": "display_data"
    }
   ],
   "source": [
    "# 年龄 和 label(是否存活) 的相关性\n",
    "ax = df_train_raw.query('Survived == 0')['Age'].plot(kind = 'density', figsize = (12,8),fontsize=15)\n",
    "df_train_raw.query('Survived == 1')['Age'].plot(kind = 'density', figsize = (12,8),fontsize=15)\n",
    "ax.legend(['Survived==0','Survived==1'],fontsize = 12)\n",
    "ax.set_ylabel('Density', fontsize = 15)\n",
    "ax.set_xlabel('Age', fontsize = 15)\n",
    "plt.show()"
   ]
  },
  {
   "cell_type": "code",
   "execution_count": 5,
   "metadata": {
    "execution": {
     "iopub.execute_input": "2020-06-08T08:26:51.840378Z",
     "iopub.status.busy": "2020-06-08T08:26:51.840160Z",
     "iopub.status.idle": "2020-06-08T08:26:51.868386Z",
     "shell.execute_reply": "2020-06-08T08:26:51.867734Z",
     "shell.execute_reply.started": "2020-06-08T08:26:51.840327Z"
    }
   },
   "outputs": [
    {
     "name": "stdout",
     "output_type": "stream",
     "text": [
      "x_train.shape = (712, 15)\n",
      "x_test.shape = (179, 15)\n"
     ]
    }
   ],
   "source": [
    "def preprocessing(df_data):\n",
    "    df_result = pd.DataFrame()\n",
    "\n",
    "    # Pclass\n",
    "    df_pclass = pd.get_dummies(df_data['Pclass'])\n",
    "    df_pclass.columns = ['Pclass_' + str(x) for x in df_pclass.columns]\n",
    "    df_result = pd.concat([df_result, df_pclass], axis=1)\n",
    "\n",
    "    # Sex\n",
    "    df_sex = pd.get_dummies(df_data['Sex'])\n",
    "    df_result = pd.concat([df_result, df_sex], axis=1)\n",
    "\n",
    "    # Age\n",
    "    df_result['Age'] = df_data['Age'].fillna(0)\n",
    "    df_result['Age_null'] = pd.isna(df_data['Age']).astype('int32')\n",
    "\n",
    "    # SibSp,Parch,Fare\n",
    "    df_result['SibSp'] = df_data['SibSp']\n",
    "    df_result['Parch'] = df_data['Parch']\n",
    "    df_result['Fare'] = df_data['Fare']\n",
    "\n",
    "    # Carbin\n",
    "    df_result['Cabin_null'] = pd.isna(df_data['Cabin']).astype('int32')\n",
    "\n",
    "    # Embarked\n",
    "    df_embarked = pd.get_dummies(df_data['Embarked'], dummy_na=True)\n",
    "    df_embarked.columns = ['Embarked_' + str(x) for x in df_embarked.columns]\n",
    "    df_result = pd.concat([df_result, df_embarked], axis=1)\n",
    "\n",
    "    return (df_result)\n",
    "\n",
    "x_train = preprocessing(df_train_raw)\n",
    "y_train = df_train_raw['Survived'].values\n",
    "\n",
    "x_test = preprocessing(df_test_raw)\n",
    "y_test = df_test_raw['Survived'].values\n",
    "\n",
    "print(\"x_train.shape =\", x_train.shape)\n",
    "print(\"x_test.shape =\", x_test.shape)"
   ]
  },
  {
   "cell_type": "code",
   "execution_count": 6,
   "metadata": {
    "execution": {
     "iopub.execute_input": "2020-06-08T08:26:51.869362Z",
     "iopub.status.busy": "2020-06-08T08:26:51.869157Z",
     "iopub.status.idle": "2020-06-08T08:26:51.881397Z",
     "shell.execute_reply": "2020-06-08T08:26:51.880786Z",
     "shell.execute_reply.started": "2020-06-08T08:26:51.869326Z"
    }
   },
   "outputs": [
    {
     "data": {
      "text/html": [
       "<div>\n",
       "<style scoped>\n",
       "    .dataframe tbody tr th:only-of-type {\n",
       "        vertical-align: middle;\n",
       "    }\n",
       "\n",
       "    .dataframe tbody tr th {\n",
       "        vertical-align: top;\n",
       "    }\n",
       "\n",
       "    .dataframe thead th {\n",
       "        text-align: right;\n",
       "    }\n",
       "</style>\n",
       "<table border=\"1\" class=\"dataframe\">\n",
       "  <thead>\n",
       "    <tr style=\"text-align: right;\">\n",
       "      <th></th>\n",
       "      <th>Pclass_1</th>\n",
       "      <th>Pclass_2</th>\n",
       "      <th>Pclass_3</th>\n",
       "      <th>female</th>\n",
       "      <th>male</th>\n",
       "      <th>Age</th>\n",
       "      <th>Age_null</th>\n",
       "      <th>SibSp</th>\n",
       "      <th>Parch</th>\n",
       "      <th>Fare</th>\n",
       "      <th>Cabin_null</th>\n",
       "      <th>Embarked_C</th>\n",
       "      <th>Embarked_Q</th>\n",
       "      <th>Embarked_S</th>\n",
       "      <th>Embarked_nan</th>\n",
       "    </tr>\n",
       "  </thead>\n",
       "  <tbody>\n",
       "    <tr>\n",
       "      <th>0</th>\n",
       "      <td>1</td>\n",
       "      <td>0</td>\n",
       "      <td>0</td>\n",
       "      <td>0</td>\n",
       "      <td>1</td>\n",
       "      <td>55.0</td>\n",
       "      <td>0</td>\n",
       "      <td>0</td>\n",
       "      <td>0</td>\n",
       "      <td>30.5000</td>\n",
       "      <td>0</td>\n",
       "      <td>0</td>\n",
       "      <td>0</td>\n",
       "      <td>1</td>\n",
       "      <td>0</td>\n",
       "    </tr>\n",
       "    <tr>\n",
       "      <th>1</th>\n",
       "      <td>1</td>\n",
       "      <td>0</td>\n",
       "      <td>0</td>\n",
       "      <td>1</td>\n",
       "      <td>0</td>\n",
       "      <td>49.0</td>\n",
       "      <td>0</td>\n",
       "      <td>1</td>\n",
       "      <td>0</td>\n",
       "      <td>76.7292</td>\n",
       "      <td>0</td>\n",
       "      <td>1</td>\n",
       "      <td>0</td>\n",
       "      <td>0</td>\n",
       "      <td>0</td>\n",
       "    </tr>\n",
       "    <tr>\n",
       "      <th>2</th>\n",
       "      <td>0</td>\n",
       "      <td>1</td>\n",
       "      <td>0</td>\n",
       "      <td>1</td>\n",
       "      <td>0</td>\n",
       "      <td>36.0</td>\n",
       "      <td>0</td>\n",
       "      <td>0</td>\n",
       "      <td>0</td>\n",
       "      <td>13.0000</td>\n",
       "      <td>1</td>\n",
       "      <td>0</td>\n",
       "      <td>0</td>\n",
       "      <td>1</td>\n",
       "      <td>0</td>\n",
       "    </tr>\n",
       "    <tr>\n",
       "      <th>3</th>\n",
       "      <td>0</td>\n",
       "      <td>1</td>\n",
       "      <td>0</td>\n",
       "      <td>0</td>\n",
       "      <td>1</td>\n",
       "      <td>19.0</td>\n",
       "      <td>0</td>\n",
       "      <td>0</td>\n",
       "      <td>0</td>\n",
       "      <td>13.0000</td>\n",
       "      <td>1</td>\n",
       "      <td>0</td>\n",
       "      <td>0</td>\n",
       "      <td>1</td>\n",
       "      <td>0</td>\n",
       "    </tr>\n",
       "    <tr>\n",
       "      <th>4</th>\n",
       "      <td>0</td>\n",
       "      <td>0</td>\n",
       "      <td>1</td>\n",
       "      <td>0</td>\n",
       "      <td>1</td>\n",
       "      <td>14.0</td>\n",
       "      <td>0</td>\n",
       "      <td>4</td>\n",
       "      <td>1</td>\n",
       "      <td>39.6875</td>\n",
       "      <td>1</td>\n",
       "      <td>0</td>\n",
       "      <td>0</td>\n",
       "      <td>1</td>\n",
       "      <td>0</td>\n",
       "    </tr>\n",
       "  </tbody>\n",
       "</table>\n",
       "</div>"
      ],
      "text/plain": [
       "   Pclass_1  Pclass_2  Pclass_3  female  male   Age  Age_null  SibSp  Parch  \\\n",
       "0         1         0         0       0     1  55.0         0      0      0   \n",
       "1         1         0         0       1     0  49.0         0      1      0   \n",
       "2         0         1         0       1     0  36.0         0      0      0   \n",
       "3         0         1         0       0     1  19.0         0      0      0   \n",
       "4         0         0         1       0     1  14.0         0      4      1   \n",
       "\n",
       "      Fare  Cabin_null  Embarked_C  Embarked_Q  Embarked_S  Embarked_nan  \n",
       "0  30.5000           0           0           0           1             0  \n",
       "1  76.7292           0           1           0           0             0  \n",
       "2  13.0000           1           0           0           1             0  \n",
       "3  13.0000           1           0           0           1             0  \n",
       "4  39.6875           1           0           0           1             0  "
      ]
     },
     "execution_count": 6,
     "metadata": {},
     "output_type": "execute_result"
    }
   ],
   "source": [
    "x_train.head()"
   ]
  },
  {
   "cell_type": "code",
   "execution_count": 7,
   "metadata": {
    "execution": {
     "iopub.execute_input": "2020-06-08T08:26:51.882498Z",
     "iopub.status.busy": "2020-06-08T08:26:51.882308Z",
     "iopub.status.idle": "2020-06-08T08:26:51.941974Z",
     "shell.execute_reply": "2020-06-08T08:26:51.941306Z",
     "shell.execute_reply.started": "2020-06-08T08:26:51.882465Z"
    }
   },
   "outputs": [
    {
     "name": "stdout",
     "output_type": "stream",
     "text": [
      "WARNING:tensorflow:From /home/sq/miniconda3/envs/nlpqs/lib/python3.7/site-packages/tensorflow_core/python/ops/resource_variable_ops.py:1630: calling BaseResourceVariable.__init__ (from tensorflow.python.ops.resource_variable_ops) with constraint is deprecated and will be removed in a future version.\n",
      "Instructions for updating:\n",
      "If using Keras pass *_constraint arguments to layers.\n",
      "Model: \"sequential\"\n",
      "_________________________________________________________________\n",
      "Layer (type)                 Output Shape              Param #   \n",
      "=================================================================\n",
      "dense (Dense)                (None, 20)                320       \n",
      "_________________________________________________________________\n",
      "dense_1 (Dense)              (None, 10)                210       \n",
      "_________________________________________________________________\n",
      "dense_2 (Dense)              (None, 1)                 11        \n",
      "=================================================================\n",
      "Total params: 541\n",
      "Trainable params: 541\n",
      "Non-trainable params: 0\n",
      "_________________________________________________________________\n"
     ]
    }
   ],
   "source": [
    "tf.keras.backend.clear_session()\n",
    "\n",
    "model = models.Sequential()\n",
    "model.add(layers.Dense(20,activation = 'relu',input_shape=(15,)))\n",
    "model.add(layers.Dense(10,activation = 'relu' ))\n",
    "model.add(layers.Dense(1,activation = 'sigmoid' ))\n",
    "\n",
    "model.summary()"
   ]
  },
  {
   "cell_type": "code",
   "execution_count": 8,
   "metadata": {
    "execution": {
     "iopub.execute_input": "2020-06-08T08:26:51.942976Z",
     "iopub.status.busy": "2020-06-08T08:26:51.942796Z",
     "iopub.status.idle": "2020-06-08T08:26:57.443262Z",
     "shell.execute_reply": "2020-06-08T08:26:57.442485Z",
     "shell.execute_reply.started": "2020-06-08T08:26:51.942943Z"
    }
   },
   "outputs": [
    {
     "name": "stdout",
     "output_type": "stream",
     "text": [
      "WARNING:tensorflow:From /home/sq/miniconda3/envs/nlpqs/lib/python3.7/site-packages/tensorflow_core/python/ops/nn_impl.py:183: where (from tensorflow.python.ops.array_ops) is deprecated and will be removed in a future version.\n",
      "Instructions for updating:\n",
      "Use tf.where in 2.0, which has the same broadcast rule as np.where\n",
      "Train on 569 samples, validate on 143 samples\n",
      "Epoch 1/30\n",
      "569/569 [==============================] - 1s 1ms/sample - loss: 1.1170 - auc: 0.5413 - val_loss: 0.8443 - val_auc: 0.6079\n",
      "Epoch 2/30\n",
      "569/569 [==============================] - 0s 75us/sample - loss: 0.8568 - auc: 0.6181 - val_loss: 0.7558 - val_auc: 0.6605\n",
      "Epoch 3/30\n",
      "569/569 [==============================] - 0s 78us/sample - loss: 0.7537 - auc: 0.6597 - val_loss: 0.6078 - val_auc: 0.6773\n",
      "Epoch 4/30\n",
      "569/569 [==============================] - 0s 84us/sample - loss: 0.6553 - auc: 0.6443 - val_loss: 0.6269 - val_auc: 0.6824\n",
      "Epoch 5/30\n",
      "569/569 [==============================] - 0s 83us/sample - loss: 0.6310 - auc: 0.6640 - val_loss: 0.5950 - val_auc: 0.7138\n",
      "Epoch 6/30\n",
      "569/569 [==============================] - 0s 87us/sample - loss: 0.6155 - auc: 0.7117 - val_loss: 0.5903 - val_auc: 0.7228\n",
      "Epoch 7/30\n",
      "569/569 [==============================] - 0s 90us/sample - loss: 0.6063 - auc: 0.7053 - val_loss: 0.5913 - val_auc: 0.7264\n",
      "Epoch 8/30\n",
      "569/569 [==============================] - 0s 96us/sample - loss: 0.5930 - auc: 0.7355 - val_loss: 0.5857 - val_auc: 0.7309\n",
      "Epoch 9/30\n",
      "569/569 [==============================] - 0s 95us/sample - loss: 0.5889 - auc: 0.7479 - val_loss: 0.5842 - val_auc: 0.7387\n",
      "Epoch 10/30\n",
      "569/569 [==============================] - 0s 94us/sample - loss: 0.5784 - auc: 0.7589 - val_loss: 0.5929 - val_auc: 0.7364\n",
      "Epoch 11/30\n",
      "569/569 [==============================] - 0s 95us/sample - loss: 0.5760 - auc: 0.7639 - val_loss: 0.5764 - val_auc: 0.7534\n",
      "Epoch 12/30\n",
      "569/569 [==============================] - 0s 88us/sample - loss: 0.5686 - auc: 0.7831 - val_loss: 0.5724 - val_auc: 0.7546\n",
      "Epoch 13/30\n",
      "569/569 [==============================] - 0s 89us/sample - loss: 0.5632 - auc: 0.7897 - val_loss: 0.5727 - val_auc: 0.7609\n",
      "Epoch 14/30\n",
      "569/569 [==============================] - 0s 89us/sample - loss: 0.5618 - auc: 0.7858 - val_loss: 0.5727 - val_auc: 0.7685\n",
      "Epoch 15/30\n",
      "569/569 [==============================] - 0s 94us/sample - loss: 0.5550 - auc: 0.8009 - val_loss: 0.5648 - val_auc: 0.7776\n",
      "Epoch 16/30\n",
      "569/569 [==============================] - 0s 92us/sample - loss: 0.5477 - auc: 0.8022 - val_loss: 0.5708 - val_auc: 0.7725\n",
      "Epoch 17/30\n",
      "569/569 [==============================] - 0s 90us/sample - loss: 0.5582 - auc: 0.8069 - val_loss: 0.5601 - val_auc: 0.7857\n",
      "Epoch 18/30\n",
      "569/569 [==============================] - 0s 86us/sample - loss: 0.5387 - auc: 0.8204 - val_loss: 0.5537 - val_auc: 0.7923\n",
      "Epoch 19/30\n",
      "569/569 [==============================] - 0s 86us/sample - loss: 0.5302 - auc: 0.8273 - val_loss: 0.5584 - val_auc: 0.7975\n",
      "Epoch 20/30\n",
      "569/569 [==============================] - 0s 86us/sample - loss: 0.5237 - auc: 0.8316 - val_loss: 0.5489 - val_auc: 0.8021\n",
      "Epoch 21/30\n",
      "569/569 [==============================] - 0s 94us/sample - loss: 0.5170 - auc: 0.8394 - val_loss: 0.5454 - val_auc: 0.8004\n",
      "Epoch 22/30\n",
      "569/569 [==============================] - 0s 93us/sample - loss: 0.5106 - auc: 0.8404 - val_loss: 0.5393 - val_auc: 0.7972\n",
      "Epoch 23/30\n",
      "569/569 [==============================] - 0s 96us/sample - loss: 0.5044 - auc: 0.8425 - val_loss: 0.5413 - val_auc: 0.7923\n",
      "Epoch 24/30\n",
      "569/569 [==============================] - 0s 95us/sample - loss: 0.5020 - auc: 0.8435 - val_loss: 0.5355 - val_auc: 0.7942\n",
      "Epoch 25/30\n",
      "569/569 [==============================] - 0s 91us/sample - loss: 0.4970 - auc: 0.8454 - val_loss: 0.5419 - val_auc: 0.7913\n",
      "Epoch 26/30\n",
      "569/569 [==============================] - 0s 88us/sample - loss: 0.4922 - auc: 0.8542 - val_loss: 0.5341 - val_auc: 0.7921\n",
      "Epoch 27/30\n",
      "569/569 [==============================] - 0s 90us/sample - loss: 0.4981 - auc: 0.8467 - val_loss: 0.5307 - val_auc: 0.7928\n",
      "Epoch 28/30\n",
      "569/569 [==============================] - 0s 90us/sample - loss: 0.4922 - auc: 0.8503 - val_loss: 0.5360 - val_auc: 0.7917\n",
      "Epoch 29/30\n",
      "569/569 [==============================] - 0s 81us/sample - loss: 0.4833 - auc: 0.8493 - val_loss: 0.5341 - val_auc: 0.7900\n",
      "Epoch 30/30\n",
      "569/569 [==============================] - 0s 70us/sample - loss: 0.4781 - auc: 0.8576 - val_loss: 0.5298 - val_auc: 0.7881\n"
     ]
    }
   ],
   "source": [
    "# 二分类问题选择二元交叉熵损失函数\n",
    "model.compile(optimizer='adam',\n",
    "            loss='binary_crossentropy',\n",
    "            metrics=['AUC'])\n",
    "\n",
    "history = model.fit(x_train,y_train,\n",
    "                    batch_size= 64,\n",
    "                    epochs= 30,\n",
    "                    validation_split=0.2 #分割一部分训练数据用于验证\n",
    "                   )"
   ]
  },
  {
   "cell_type": "code",
   "execution_count": 9,
   "metadata": {
    "execution": {
     "iopub.execute_input": "2020-06-08T08:26:57.446027Z",
     "iopub.status.busy": "2020-06-08T08:26:57.445702Z",
     "iopub.status.idle": "2020-06-08T08:26:57.452242Z",
     "shell.execute_reply": "2020-06-08T08:26:57.451630Z",
     "shell.execute_reply.started": "2020-06-08T08:26:57.445911Z"
    }
   },
   "outputs": [],
   "source": [
    "def plot_metric(history, metric):\n",
    "    train_metrics = history.history[metric]\n",
    "    val_metrics = history.history['val_'+metric]\n",
    "    epochs = range(1, len(train_metrics) + 1)\n",
    "    plt.plot(epochs, train_metrics, 'bo--')\n",
    "    plt.plot(epochs, val_metrics, 'ro-')\n",
    "    plt.title('Training and validation '+ metric)\n",
    "    plt.xlabel(\"Epochs\")\n",
    "    plt.ylabel(metric)\n",
    "    plt.legend([\"train_\"+metric, 'val_'+metric])\n",
    "    plt.show()\n"
   ]
  },
  {
   "cell_type": "code",
   "execution_count": 10,
   "metadata": {
    "execution": {
     "iopub.execute_input": "2020-06-08T08:26:57.453680Z",
     "iopub.status.busy": "2020-06-08T08:26:57.453386Z",
     "iopub.status.idle": "2020-06-08T08:26:57.678213Z",
     "shell.execute_reply": "2020-06-08T08:26:57.677525Z",
     "shell.execute_reply.started": "2020-06-08T08:26:57.453577Z"
    }
   },
   "outputs": [
    {
     "data": {
      "image/png": "[encoded data removed]",
      "text/plain": [
       "<Figure size 432x288 with 1 Axes>"
      ]
     },
     "metadata": {
      "needs_background": "light"
     },
     "output_type": "display_data"
    }
   ],
   "source": [
    "plot_metric(history,\"loss\")"
   ]
  },
  {
   "cell_type": "code",
   "execution_count": 11,
   "metadata": {
    "execution": {
     "iopub.execute_input": "2020-06-08T08:26:57.679586Z",
     "iopub.status.busy": "2020-06-08T08:26:57.679244Z",
     "iopub.status.idle": "2020-06-08T08:26:57.897453Z",
     "shell.execute_reply": "2020-06-08T08:26:57.896844Z",
     "shell.execute_reply.started": "2020-06-08T08:26:57.679541Z"
    }
   },
   "outputs": [
    {
     "data": {
      "image/png": "[encoded data removed]",
      "text/plain": [
       "<Figure size 432x288 with 1 Axes>"
      ]
     },
     "metadata": {
      "needs_background": "light"
     },
     "output_type": "display_data"
    }
   ],
   "source": [
    "plot_metric(history, \"auc\")"
   ]
  },
  {
   "cell_type": "code",
   "execution_count": 12,
   "metadata": {
    "execution": {
     "iopub.execute_input": "2020-06-08T08:26:57.898613Z",
     "iopub.status.busy": "2020-06-08T08:26:57.898327Z",
     "iopub.status.idle": "2020-06-08T08:26:57.921944Z",
     "shell.execute_reply": "2020-06-08T08:26:57.921353Z",
     "shell.execute_reply.started": "2020-06-08T08:26:57.898510Z"
    }
   },
   "outputs": [
    {
     "name": "stdout",
     "output_type": "stream",
     "text": [
      "179/179 [==============================] - 0s 69us/sample - loss: 0.4879 - auc: 0.8308\n"
     ]
    },
    {
     "data": {
      "text/plain": [
       "[0.48789833694196943, 0.83080184]"
      ]
     },
     "execution_count": 12,
     "metadata": {},
     "output_type": "execute_result"
    }
   ],
   "source": [
    "model.evaluate(x = x_test,y = y_test)"
   ]
  },
  {
   "cell_type": "code",
   "execution_count": 13,
   "metadata": {
    "execution": {
     "iopub.execute_input": "2020-06-08T08:26:57.923148Z",
     "iopub.status.busy": "2020-06-08T08:26:57.922853Z",
     "iopub.status.idle": "2020-06-08T08:26:57.971853Z",
     "shell.execute_reply": "2020-06-08T08:26:57.971135Z",
     "shell.execute_reply.started": "2020-06-08T08:26:57.923050Z"
    }
   },
   "outputs": [
    {
     "data": {
      "text/plain": [
       "array([[0.32922095],\n",
       "       [0.43918842],\n",
       "       [0.5391242 ],\n",
       "       [0.792582  ],\n",
       "       [0.5426528 ],\n",
       "       [0.59656775],\n",
       "       [0.25838178],\n",
       "       [0.68004507],\n",
       "       [0.5008004 ],\n",
       "       [0.15469438]], dtype=float32)"
      ]
     },
     "execution_count": 13,
     "metadata": {},
     "output_type": "execute_result"
    }
   ],
   "source": [
    "#预测概率\n",
    "model.predict(x_test[0:10])"
   ]
  },
  {
   "cell_type": "code",
   "execution_count": null,
   "metadata": {},
   "outputs": [],
   "source": []
  }
 ],
 "metadata": {
  "kernelspec": {
   "display_name": "nlpqs",
   "language": "python",
   "name": "nlpqs"
  },
  "language_info": {
   "codemirror_mode": {
    "name": "ipython",
    "version": 3
   },
   "file_extension": ".py",
   "mimetype": "text/x-python",
   "name": "python",
   "nbconvert_exporter": "python",
   "pygments_lexer": "ipython3",
   "version": "3.7.6"
  }
 },
 "nbformat": 4,
 "nbformat_minor": 4
}
